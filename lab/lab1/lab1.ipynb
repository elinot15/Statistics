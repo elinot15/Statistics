{
 "cells": [
  {
   "cell_type": "markdown",
   "metadata": {},
   "source": [
    "# Laboratorio: lezione 1 "
   ]
  },
  {
   "cell_type": "markdown",
   "metadata": {},
   "source": [
    "# Esercizio 3"
   ]
  },
  {
   "cell_type": "markdown",
   "metadata": {},
   "source": [
    "Collegatevi al sito upload.di.unimi.it, selezionate l’esame di Statistica e analisi dei dati per l’appello odierno e scaricate il file carsharing.csv. Questo file contiene le seguenti informazioni\n",
    "raccolte da un servizio di car sharing riguardo a singoli utilizzi dei veicoli della propria flotta:\n",
    "\n",
    "• CarIdentifier : identificatore del veicolo;\n",
    "\n",
    "• TimeFrame: fascia oraria in cui il veicolo è stato utilizzato;\n",
    "\n",
    "• RushHour : indica se la fascia oraria corrisponde a un orario di punta, usando un’ovvia codifica binaria;\n",
    "\n",
    "• PremiumCustomer : indica se l’utente che ha utilizzato il veicolo è iscritto al programma Premium (usando anche in questo caso una semplice codifica binaria);\n",
    "\n",
    "• Distance: lunghezza del tragitto (espressa in km);\n",
    "\n",
    "• Time: tempo impiegato a percorrere il tragitto (espresso in minuti).\n",
    "\n",
    "In questo file il carattere \";\" separa le colonne e i numeri reali sono stati registrati usando il carattere \",\" come separatore dei decimali."
   ]
  },
  {
   "cell_type": "markdown",
   "metadata": {},
   "source": [
    "1. Quanti casi contiene il file?"
   ]
  },
  {
   "cell_type": "code",
   "execution_count": 2,
   "metadata": {},
   "outputs": [],
   "source": [
    "import numpy as np\n",
    "import pandas as pd\n",
    "import matplotlib.pyplot as plt"
   ]
  },
  {
   "cell_type": "code",
   "execution_count": 3,
   "metadata": {},
   "outputs": [
    {
     "data": {
      "text/plain": [
       "392"
      ]
     },
     "execution_count": 3,
     "metadata": {},
     "output_type": "execute_result"
    }
   ],
   "source": [
    "carsharing =pd.read_csv('carsharing.csv', sep=';', decimal=',')\n",
    "len(carsharing)"
   ]
  },
  {
   "cell_type": "markdown",
   "metadata": {},
   "source": [
    "\n",
    "2. Analizziamo l’utilizzo del servizio di car sharing nelle diverse fasce orarie (carattere TimeFrame) e negli orari di maggior o minor traffico (carattere RushHour )."
   ]
  },
  {
   "cell_type": "code",
   "execution_count": 31,
   "metadata": {},
   "outputs": [
    {
     "data": {
      "text/plain": [
       "FRAME A     47\n",
       "FRAME B    123\n",
       "FRAME C    107\n",
       "FRAME D     94\n",
       "FRAME E     21\n",
       "Name: TimeFrame, dtype: int64"
      ]
     },
     "execution_count": 31,
     "metadata": {},
     "output_type": "execute_result"
    }
   ],
   "source": [
    "time_frame= carsharing['TimeFrame'].value_counts().sort_index()\n",
    "rush_hour= carsharing['RushHour'].value_counts().sort_index()\n",
    "\n",
    "time_frame"
   ]
  },
  {
   "cell_type": "code",
   "execution_count": 32,
   "metadata": {},
   "outputs": [
    {
     "data": {
      "text/plain": [
       "0    175\n",
       "1    217\n",
       "Name: RushHour, dtype: int64"
      ]
     },
     "execution_count": 32,
     "metadata": {},
     "output_type": "execute_result"
    }
   ],
   "source": [
    "rush_hour"
   ]
  },
  {
   "cell_type": "markdown",
   "metadata": {},
   "source": [
    "2.1. Il carattere TimeFrame è nominale, ordinale o scalare? Giustificate la risposta."
   ]
  },
  {
   "cell_type": "markdown",
   "metadata": {},
   "source": [
    "variabile numerica discreta rappresenta il numero di volte in cui si verifica l'evento"
   ]
  },
  {
   "cell_type": "markdown",
   "metadata": {},
   "source": [
    "2.2. In quante fasce orarie è stata suddivisa una giornata?\n"
   ]
  },
  {
   "cell_type": "markdown",
   "metadata": {},
   "source": [
    "Cinque fasce A,B,C,D,E"
   ]
  },
  {
   "cell_type": "markdown",
   "metadata": {},
   "source": [
    "2.3. In quali fasce orarie il servizio di car sharing è stato maggiormente utilizzato?"
   ]
  },
  {
   "cell_type": "markdown",
   "metadata": {},
   "source": [
    "Nella fascia B"
   ]
  },
  {
   "cell_type": "markdown",
   "metadata": {},
   "source": [
    "2.4. Calcolate la tabella delle frequenze congiunte di TimeFrame e RushHour."
   ]
  },
  {
   "cell_type": "code",
   "execution_count": 58,
   "metadata": {},
   "outputs": [
    {
     "data": {
      "text/html": [
       "<div>\n",
       "<style scoped>\n",
       "    .dataframe tbody tr th:only-of-type {\n",
       "        vertical-align: middle;\n",
       "    }\n",
       "\n",
       "    .dataframe tbody tr th {\n",
       "        vertical-align: top;\n",
       "    }\n",
       "\n",
       "    .dataframe thead th {\n",
       "        text-align: right;\n",
       "    }\n",
       "</style>\n",
       "<table border=\"1\" class=\"dataframe\">\n",
       "  <thead>\n",
       "    <tr style=\"text-align: right;\">\n",
       "      <th>RushHour</th>\n",
       "      <th>0</th>\n",
       "      <th>1</th>\n",
       "    </tr>\n",
       "    <tr>\n",
       "      <th>TimeFrame</th>\n",
       "      <th></th>\n",
       "      <th></th>\n",
       "    </tr>\n",
       "  </thead>\n",
       "  <tbody>\n",
       "    <tr>\n",
       "      <th>FRAME A</th>\n",
       "      <td>47</td>\n",
       "      <td>0</td>\n",
       "    </tr>\n",
       "    <tr>\n",
       "      <th>FRAME B</th>\n",
       "      <td>0</td>\n",
       "      <td>123</td>\n",
       "    </tr>\n",
       "    <tr>\n",
       "      <th>FRAME C</th>\n",
       "      <td>107</td>\n",
       "      <td>0</td>\n",
       "    </tr>\n",
       "    <tr>\n",
       "      <th>FRAME D</th>\n",
       "      <td>0</td>\n",
       "      <td>94</td>\n",
       "    </tr>\n",
       "    <tr>\n",
       "      <th>FRAME E</th>\n",
       "      <td>21</td>\n",
       "      <td>0</td>\n",
       "    </tr>\n",
       "  </tbody>\n",
       "</table>\n",
       "</div>"
      ],
      "text/plain": [
       "RushHour     0    1\n",
       "TimeFrame          \n",
       "FRAME A     47    0\n",
       "FRAME B      0  123\n",
       "FRAME C    107    0\n",
       "FRAME D      0   94\n",
       "FRAME E     21    0"
      ]
     },
     "execution_count": 58,
     "metadata": {},
     "output_type": "execute_result"
    }
   ],
   "source": [
    "time_frame_freq= pd.crosstab(index= carsharing['TimeFrame'], \n",
    "                            columns=['Abs. freq'])\n",
    "rush_hour_freq= pd.crosstab(index= carsharing['RushHour'], \n",
    "                            columns=['Abs. freq'])\n",
    "                                                      \n",
    "freq_cong= pd.crosstab(index=carsharing['TimeFrame'], \n",
    "                              columns=carsharing['RushHour'])\n",
    "freq_cong"
   ]
  },
  {
   "cell_type": "markdown",
   "metadata": {},
   "source": [
    "2.5. Leggendo la tabella calcolata al punto precedente determinate quali sono le fasce orarie che corrispondono all’ora di punta."
   ]
  },
  {
   "cell_type": "markdown",
   "metadata": {},
   "source": [
    "FRAME B e FRAME D"
   ]
  },
  {
   "cell_type": "markdown",
   "metadata": {},
   "source": [
    "3. Consideriamo, solo in questo punto dell’esercizio, i clienti che hanno aderito al programma Premium (Premium=1).\n",
    "3.1. Quanti sono?"
   ]
  },
  {
   "cell_type": "code",
   "execution_count": 27,
   "metadata": {},
   "outputs": [
    {
     "data": {
      "text/plain": [
       " 1    227\n",
       "-1    165\n",
       "Name: PremiumCustomer, dtype: int64"
      ]
     },
     "execution_count": 27,
     "metadata": {},
     "output_type": "execute_result"
    }
   ],
   "source": [
    "carsharing['PremiumCustomer'].value_counts()"
   ]
  },
  {
   "cell_type": "markdown",
   "metadata": {},
   "source": [
    "3.2. Calcolate la distanza media percorsa in un tragitto da un cliente che ha aderito al programma Premium."
   ]
  },
  {
   "cell_type": "code",
   "execution_count": 22,
   "metadata": {},
   "outputs": [
    {
     "data": {
      "text/plain": [
       "8.437444933920705"
      ]
     },
     "execution_count": 22,
     "metadata": {},
     "output_type": "execute_result"
    }
   ],
   "source": [
    "premium= carsharing[carsharing['PremiumCustomer']==1]\n",
    "distance_premium= premium['Distance']\n",
    "\n",
    "distance_premium.sum()/len(distance_premium)"
   ]
  },
  {
   "cell_type": "markdown",
   "metadata": {},
   "source": [
    "4. Ritorniamo a considerare il dataset completo e studiamo la distanza percorsa in ciascun utilizzo del servizio (carattere Distance).\n",
    "4.1. Il carattere Distance è nominale, ordinale o scalare? Giustificate la risposta."
   ]
  },
  {
   "cell_type": "markdown",
   "metadata": {},
   "source": [
    "scalare, la  variabile  viene  misurata  sulla base  di  una  unità  di  misura.  I  numeri  assegnati  allemodalità  hanno  un  vero  e  proprio  significato  numerico. "
   ]
  },
  {
   "cell_type": "markdown",
   "metadata": {},
   "source": [
    "4.2. Tracciate il boxplot di tale carattere."
   ]
  },
  {
   "cell_type": "code",
   "execution_count": 23,
   "metadata": {},
   "outputs": [
    {
     "data": {
      "image/png": "[encoded data removed]",
      "text/plain": [
       "<Figure size 432x288 with 1 Axes>"
      ]
     },
     "metadata": {},
     "output_type": "display_data"
    }
   ],
   "source": [
    "distance= carsharing['Distance']\n",
    "distance.plot.box(vert=False, whis='range')\n",
    "plt.show()"
   ]
  },
  {
   "cell_type": "markdown",
   "metadata": {},
   "source": [
    "4.3. In base all’aspetto del grafico ottenuto al punto precedente, determinate quali sono gli indici di centralità e di dispersione che meglio caratterizzano la distanza percorsa, calcolandone il valore."
   ]
  },
  {
   "cell_type": "code",
   "execution_count": 24,
   "metadata": {},
   "outputs": [
    {
     "data": {
      "text/plain": [
       "count    392.000000\n",
       "mean       7.858673\n",
       "std        6.805123\n",
       "min        0.100000\n",
       "25%        1.575000\n",
       "50%        5.750000\n",
       "75%       14.025000\n",
       "max       24.000000\n",
       "Name: Distance, dtype: float64"
      ]
     },
     "execution_count": 24,
     "metadata": {},
     "output_type": "execute_result"
    }
   ],
   "source": [
    "distance.describe()"
   ]
  },
  {
   "cell_type": "markdown",
   "metadata": {},
   "source": [
    "4.4. Riscontrate una relazione tra la distanza percorsa e il tempo impiegato? In caso affermativo, caratterizzate tale relazione. In ogni caso giustificate la vostra risposta mostrando un grafico"
   ]
  },
  {
   "cell_type": "code",
   "execution_count": 51,
   "metadata": {
    "scrolled": true
   },
   "outputs": [
    {
     "data": {
      "image/png": "[encoded data removed]",
      "text/plain": [
       "<Figure size 576x576 with 1 Axes>"
      ]
     },
     "metadata": {},
     "output_type": "display_data"
    }
   ],
   "source": [
    "spazio_tempo= carsharing[['Distance', 'Time']]\n",
    "\n",
    "time=carsharing['Time']\n",
    "position=carsharing['Distance']\n",
    "\n",
    "fig = plt.figure(figsize=(8,8))  # larghezza , altezza in pollici\n",
    "ax = fig.add_subplot(111)\n",
    "ax.plot(time, position, 'o')\n",
    "ax.set_xlabel('Time (min)')\n",
    "ax.set_ylabel('Position (km)')\n",
    "plt.tight_layout()\n",
    "plt.show()\n",
    "\n",
    "#plt.scatter(time, position, )\n",
    "#plt.xlabel('Time (min)')\n",
    "#plt.ylabel('Position (km)')"
   ]
  },
  {
   "cell_type": "markdown",
   "metadata": {},
   "source": [
    "Allora spazio e tempo sono direttamente proporzioni all'aumentare dello spazio percorso aumenta anche il tempo impiegato,.....\n",
    "Considerando l'indice di correlazione che varia tra -1 e 1 direi che c'è correlazione essendo 0,6 "
   ]
  },
  {
   "cell_type": "markdown",
   "metadata": {},
   "source": [
    "4.5. Calcolate l’indice di correlazione tra la distanza e il tempo. Il valore ottenuto supporta la risposta che avete dato al punto precedente?"
   ]
  },
  {
   "cell_type": "code",
   "execution_count": 66,
   "metadata": {},
   "outputs": [
    {
     "data": {
      "text/html": [
       "<div>\n",
       "<style scoped>\n",
       "    .dataframe tbody tr th:only-of-type {\n",
       "        vertical-align: middle;\n",
       "    }\n",
       "\n",
       "    .dataframe tbody tr th {\n",
       "        vertical-align: top;\n",
       "    }\n",
       "\n",
       "    .dataframe thead th {\n",
       "        text-align: right;\n",
       "    }\n",
       "</style>\n",
       "<table border=\"1\" class=\"dataframe\">\n",
       "  <thead>\n",
       "    <tr style=\"text-align: right;\">\n",
       "      <th></th>\n",
       "      <th>Distance</th>\n",
       "      <th>Time</th>\n",
       "    </tr>\n",
       "  </thead>\n",
       "  <tbody>\n",
       "    <tr>\n",
       "      <th>Distance</th>\n",
       "      <td>1.000000</td>\n",
       "      <td>0.627399</td>\n",
       "    </tr>\n",
       "    <tr>\n",
       "      <th>Time</th>\n",
       "      <td>0.627399</td>\n",
       "      <td>1.000000</td>\n",
       "    </tr>\n",
       "  </tbody>\n",
       "</table>\n",
       "</div>"
      ],
      "text/plain": [
       "          Distance      Time\n",
       "Distance  1.000000  0.627399\n",
       "Time      0.627399  1.000000"
      ]
     },
     "execution_count": 66,
     "metadata": {},
     "output_type": "execute_result"
    }
   ],
   "source": [
    "spazio_tempo.corr()"
   ]
  },
  {
   "cell_type": "markdown",
   "metadata": {},
   "source": [
    "4.6. Tracciate, possibilmente nella stessa figura, il box plot della distanza nel caso di utilizzo dell’auto in orario di punta (RushHour =1) e in orario non di punta (Rush-Hour =0)."
   ]
  },
  {
   "cell_type": "code",
   "execution_count": 75,
   "metadata": {},
   "outputs": [
    {
     "data": {
      "image/png": "[encoded data removed]",
      "text/plain": [
       "<Figure size 432x288 with 1 Axes>"
      ]
     },
     "metadata": {},
     "output_type": "display_data"
    }
   ],
   "source": [
    "dataset_rushhour_1= carsharing[carsharing['RushHour']==1]\n",
    "dataset_rushhour_0= carsharing[carsharing['RushHour']==0]\n",
    "\n",
    "distance_1= dataset_rushhour_1['Distance']\n",
    "distance_0= dataset_rushhour_0['Distance']\n",
    "distance_1.plot.box(vert=False, whis='range')\n",
    "distance_0.plot.box(vert=False, whis='range')\n",
    "plt.show()"
   ]
  },
  {
   "cell_type": "markdown",
   "metadata": {},
   "source": [
    "4.7. Ispezionando i due grafici ottenuti al punto precedente, dite se negli orari di punta sono privilegiati spostamenti \"più brevi\" oppure \"più lunghi\" rispetto agli orari non di punta, giustificando la risposta."
   ]
  },
  {
   "cell_type": "code",
   "execution_count": null,
   "metadata": {},
   "outputs": [],
   "source": [
    "gli orari di punta  privelegiano gli spostamenti brevi, quelli non di punta gli spostamenti più lunghi"
   ]
  },
  {
   "cell_type": "markdown",
   "metadata": {},
   "source": [
    "4.8. Tracciate, possibilmente nella stessa figura, il box plot della distanza nel caso di utilizzo dell’auto da parte dei clienti che hanno aderito al programma Premium (Premium=1) e di quelli che non vi hanno aderito (Premium=-1)."
   ]
  },
  {
   "cell_type": "code",
   "execution_count": 4,
   "metadata": {},
   "outputs": [
    {
     "data": {
      "image/png": "[encoded data removed]",
      "text/plain": [
       "<Figure size 432x288 with 1 Axes>"
      ]
     },
     "metadata": {},
     "output_type": "display_data"
    }
   ],
   "source": [
    "dataset_premium_1= carsharing[carsharing['PremiumCustomer']==1]\n",
    "dataset_non_premium= carsharing[carsharing['PremiumCustomer']==-1]\n",
    "\n",
    "distance_premium= dataset_premium_1['Distance']\n",
    "distance_non_premium= dataset_non_premium['Distance']\n",
    "distance_premium.plot.box(vert=False, whis='range')\n",
    "distance_non_premium.plot.box(vert=False, whis='range')\n",
    "plt.show()"
   ]
  },
  {
   "cell_type": "markdown",
   "metadata": {},
   "source": [
    "4.9. Ispezionando i due grafici ottenuti al punto precedente, notate una grossa differenza nelle distanze percorse dai clienti dei due gruppi?"
   ]
  },
  {
   "cell_type": "markdown",
   "metadata": {},
   "source": [
    "non molta i clienti non premium siamo sui 4 km mentre gli altri sui 7 "
   ]
  },
  {
   "cell_type": "markdown",
   "metadata": {},
   "source": [
    "4.10. In Figura 1 è mostrato l’istogramma della distanza percorsa. In tale grafico si può individuare la presenza di due gruppi abbastanza distinti. I due gruppi sono relativi al tipo di cliente (PremiumCustomer =1 oppure Premium-Customer =-1) oppure all’orario di utilizzo del veicolo (RushHour =1 oppure Rush- Hour =0)? In altri termini, la distanza percorsa dipende dal fatto che l’utente sia un\n",
    "cliente Premium/non-Premium oppure dal fatto che l’utilizzo è avvenuto in orario Rush/non-Rush? Suggerimento: per rispondere a questa domanda basta ispezionare i boxplot prodotti nei punti precedenti di questo esercizio."
   ]
  },
  {
   "cell_type": "markdown",
   "metadata": {},
   "source": [
    "guardando i box plot la distanza è influenzata dall'orario di punta e dai clienti non premium "
   ]
  },
  {
   "cell_type": "markdown",
   "metadata": {},
   "source": [
    "4.11. Calcolate la distanza media nei due gruppi di orario (di punta/non di punta) e commentate l’istogramma di Figura 1 utilizzando queste due informazioni."
   ]
  },
  {
   "cell_type": "code",
   "execution_count": 5,
   "metadata": {},
   "outputs": [
    {
     "data": {
      "text/plain": [
       "(3.319354838709678, 13.487428571428573)"
      ]
     },
     "execution_count": 5,
     "metadata": {},
     "output_type": "execute_result"
    }
   ],
   "source": [
    "dataset_rushhour_1= carsharing[carsharing['RushHour']==1]\n",
    "dataset_rushhour_0= carsharing[carsharing['RushHour']==0]\n",
    "\n",
    "distanza1= dataset_rushhour_1['Distance']\n",
    "distanza0= dataset_rushhour_0['Distance']\n",
    "\n",
    "distanza1.sum()/len(distanza1) , distanza0.sum()/len(distanza0)"
   ]
  },
  {
   "cell_type": "markdown",
   "metadata": {},
   "source": [
    "4.12. Sempre in riferimento ai due gruppi di orario (di punta/non di punta), calcolate la\n",
    "varianza within groups e la varianza between groups."
   ]
  },
  {
   "cell_type": "code",
   "execution_count": 7,
   "metadata": {},
   "outputs": [
    {
     "data": {
      "text/plain": [
       "(8091.211052534557, 10015.8794576695)"
      ]
     },
     "execution_count": 7,
     "metadata": {},
     "output_type": "execute_result"
    }
   ],
   "source": [
    "sum_within = sum((distanza1 - distanza1.mean())**2) + \\\n",
    "                    sum((distanza0 - distanza0.mean())**2)\n",
    "\n",
    "all_distance = pd.concat([distanza1, distanza0])\n",
    "\n",
    "sum_between = len(distanza1) * (distanza1.mean() - all_distance.mean())**2 + \\\n",
    "                    len(distanza0) * (distanza0.mean() - all_distance.mean())**2\n",
    "\n",
    "sum_within, sum_between\n",
    "\n",
    "\n"
   ]
  },
  {
   "cell_type": "markdown",
   "metadata": {},
   "source": [
    "# Esercizio 4"
   ]
  },
  {
   "cell_type": "markdown",
   "metadata": {},
   "source": [
    "Analizziamo ora la distanza percorsa in ciascun utilizzo del servizio negli orari di punta (Rush-Hour =1)\n",
    "1. Tracciate un grafico rappresentativo della distribuzione della distanza percorsa negli orari di punta."
   ]
  },
  {
   "cell_type": "code",
   "execution_count": 11,
   "metadata": {},
   "outputs": [
    {
     "data": {
      "image/png": "[encoded data removed]",
      "text/plain": [
       "<Figure size 432x288 with 1 Axes>"
      ]
     },
     "metadata": {},
     "output_type": "display_data"
    }
   ],
   "source": [
    "#dataset_rushhour_1= carsharing[carsharing['RushHour']==1]\n",
    "#plt.bar(dataset_rushhour_1['Distance'].index, dataset_rushhour_1['Distance'].get_values())\n",
    "#plt.show()\n",
    "\n",
    "import statsmodels.api as sm\n",
    "sm.qqplot_2samples(dataset_rushhour_1['Distance'].index, dataset_rushhour_1['Distance'].get_values()) \n",
    "plt.show()"
   ]
  },
  {
   "cell_type": "code",
   "execution_count": 7,
   "metadata": {},
   "outputs": [
    {
     "data": {
      "image/png": "[encoded data removed]",
      "text/plain": [
       "<IPython.core.display.Image object>"
      ]
     },
     "execution_count": 7,
     "metadata": {},
     "output_type": "execute_result"
    }
   ],
   "source": [
    "from IPython.display import Image\n",
    "Image(filename='stat_lab1.png')"
   ]
  },
  {
   "cell_type": "markdown",
   "metadata": {},
   "source": [
    "2. È plausibile affermare che negli orari di punta la distanza segue una legge normale? Giustificate la risposta."
   ]
  },
  {
   "cell_type": "code",
   "execution_count": 12,
   "metadata": {},
   "outputs": [
    {
     "data": {
      "text/plain": [
       "3.711106147915895"
      ]
     },
     "execution_count": 12,
     "metadata": {},
     "output_type": "execute_result"
    }
   ],
   "source": [
    "dataset_rushhour_1['Distance'].std() "
   ]
  },
  {
   "cell_type": "markdown",
   "metadata": {},
   "source": [
    "La distribuzione normale standardizzata è un caso specifico che si ottiene quando la media è uguale a zero (μ=0) e la deviazione standard è uguale a uno (σ=1). "
   ]
  },
  {
   "cell_type": "markdown",
   "metadata": {},
   "source": [
    "3. Calcolate la media e la deviazione standard della distanza negli orari di punta."
   ]
  },
  {
   "cell_type": "code",
   "execution_count": 14,
   "metadata": {},
   "outputs": [
    {
     "data": {
      "text/plain": [
       "(3.319354838709678, 3.711106147915895)"
      ]
     },
     "execution_count": 14,
     "metadata": {},
     "output_type": "execute_result"
    }
   ],
   "source": [
    "dataset_rushhour_1['Distance'].sum()/len(dataset_rushhour_1['Distance']), dataset_rushhour_1['Distance'].std() "
   ]
  },
  {
   "cell_type": "markdown",
   "metadata": {},
   "source": [
    "# Esercizio 5"
   ]
  },
  {
   "cell_type": "markdown",
   "metadata": {},
   "source": [
    "Concentriamoci ora sulla distanza percorsa dai veicoli negli orari non di punta.\n",
    "1. Tracciate un grafico opportuno che descriva la distanza percorsa negli orari non di punta."
   ]
  },
  {
   "cell_type": "code",
   "execution_count": 15,
   "metadata": {},
   "outputs": [
    {
     "data": {
      "image/png": "[encoded data removed]",
      "text/plain": [
       "<Figure size 432x288 with 1 Axes>"
      ]
     },
     "metadata": {},
     "output_type": "display_data"
    }
   ],
   "source": [
    "dataset_rushhour_o= carsharing[carsharing['RushHour']==0]\n",
    "plt.bar(dataset_rushhour_0['Distance'].index, dataset_rushhour_0['Distance'].get_values())\n",
    "plt.show()\n"
   ]
  },
  {
   "cell_type": "markdown",
   "metadata": {},
   "source": [
    "2. È plausibile affermare che negli orari non di punta la distanza segue una legge normale? Giustificate la risposta."
   ]
  },
  {
   "cell_type": "markdown",
   "metadata": {},
   "source": [
    "no per la ragione dell'es 4"
   ]
  },
  {
   "cell_type": "markdown",
   "metadata": {},
   "source": [
    "3. Calcolate la media e la mediana della distanza negli orari non di punta e, alla luce di tali valori, commentate ulteriormente la risposta che avete dato al punto precedente"
   ]
  },
  {
   "cell_type": "code",
   "execution_count": 17,
   "metadata": {},
   "outputs": [
    {
     "data": {
      "text/plain": [
       "(13.487428571428573, 5.422596582319328)"
      ]
     },
     "execution_count": 17,
     "metadata": {},
     "output_type": "execute_result"
    }
   ],
   "source": [
    "dataset_rushhour_0['Distance'].sum()/len(dataset_rushhour_0['Distance']), dataset_rushhour_0['Distance'].std() "
   ]
  },
  {
   "cell_type": "markdown",
   "metadata": {},
   "source": [
    "# Esercizio 6"
   ]
  },
  {
   "cell_type": "markdown",
   "metadata": {},
   "source": [
    "Selezionate in una variabile chiamata tragittibrevi tutti i casi in cui il veicolo è stato\n",
    "utilizzato per percorrere un tragitto breve, cioè di lunghezza inferiore a 1.5 km.\n",
    "\n",
    "1. Tracciate il grafico di dispersione della distanza e del tempo per i tragitti brevi."
   ]
  },
  {
   "cell_type": "code",
   "execution_count": 7,
   "metadata": {},
   "outputs": [
    {
     "data": {
      "image/png": "[encoded data removed]",
      "text/plain": [
       "<Figure size 576x576 with 1 Axes>"
      ]
     },
     "metadata": {},
     "output_type": "display_data"
    }
   ],
   "source": [
    "tragittibrevi = carsharing[carsharing['Distance']<=1.5]\n",
    "spazio_tempo= tragittibrevi[['Distance', 'Time']]\n",
    "\n",
    "time=tragittibrevi['Time']\n",
    "position=tragittibrevi['Distance']\n",
    "\n",
    "fig = plt.figure(figsize=(8,8))  # larghezza , altezza in pollici\n",
    "ax = fig.add_subplot(111)\n",
    "ax.plot(time, position, 'o')\n",
    "ax.set_xlabel('Time (min)')\n",
    "ax.set_ylabel('Position (km)')\n",
    "plt.tight_layout()\n",
    "plt.show()\n"
   ]
  },
  {
   "cell_type": "markdown",
   "metadata": {},
   "source": [
    "2. Commentate il grafico che avete tracciato al punto precedente, possibilmente collegandolo\n",
    "al valore assunto dall’indice di variazione per il carattere Time."
   ]
  },
  {
   "cell_type": "code",
   "execution_count": 22,
   "metadata": {},
   "outputs": [
    {
     "data": {
      "text/plain": [
       "0.23958342099726518"
      ]
     },
     "execution_count": 22,
     "metadata": {},
     "output_type": "execute_result"
    }
   ],
   "source": [
    "time.var()"
   ]
  },
  {
   "cell_type": "code",
   "execution_count": 23,
   "metadata": {},
   "outputs": [
    {
     "data": {
      "text/plain": [
       "0.4894725947356656"
      ]
     },
     "execution_count": 23,
     "metadata": {},
     "output_type": "execute_result"
    }
   ],
   "source": [
    "time.std()"
   ]
  },
  {
   "cell_type": "code",
   "execution_count": 24,
   "metadata": {},
   "outputs": [
    {
     "data": {
      "text/plain": [
       "count    98.000000\n",
       "mean      4.002041\n",
       "std       0.489473\n",
       "min       1.200000\n",
       "25%       3.800000\n",
       "50%       4.050000\n",
       "75%       4.275000\n",
       "max       5.900000\n",
       "Name: Time, dtype: float64"
      ]
     },
     "execution_count": 24,
     "metadata": {},
     "output_type": "execute_result"
    }
   ],
   "source": [
    "time.describe()"
   ]
  },
  {
   "cell_type": "code",
   "execution_count": 9,
   "metadata": {},
   "outputs": [
    {
     "data": {
      "text/html": [
       "<div>\n",
       "<style scoped>\n",
       "    .dataframe tbody tr th:only-of-type {\n",
       "        vertical-align: middle;\n",
       "    }\n",
       "\n",
       "    .dataframe tbody tr th {\n",
       "        vertical-align: top;\n",
       "    }\n",
       "\n",
       "    .dataframe thead th {\n",
       "        text-align: right;\n",
       "    }\n",
       "</style>\n",
       "<table border=\"1\" class=\"dataframe\">\n",
       "  <thead>\n",
       "    <tr style=\"text-align: right;\">\n",
       "      <th></th>\n",
       "      <th>Distance</th>\n",
       "      <th>Time</th>\n",
       "    </tr>\n",
       "  </thead>\n",
       "  <tbody>\n",
       "    <tr>\n",
       "      <th>Distance</th>\n",
       "      <td>1.00000</td>\n",
       "      <td>0.14576</td>\n",
       "    </tr>\n",
       "    <tr>\n",
       "      <th>Time</th>\n",
       "      <td>0.14576</td>\n",
       "      <td>1.00000</td>\n",
       "    </tr>\n",
       "  </tbody>\n",
       "</table>\n",
       "</div>"
      ],
      "text/plain": [
       "          Distance     Time\n",
       "Distance   1.00000  0.14576\n",
       "Time       0.14576  1.00000"
      ]
     },
     "execution_count": 9,
     "metadata": {},
     "output_type": "execute_result"
    }
   ],
   "source": [
    "spazio_tempo.corr()"
   ]
  },
  {
   "cell_type": "markdown",
   "metadata": {},
   "source": [
    "nelle distanze sotto 1.5 km il tempo è tra 3 e 5"
   ]
  }
 ],
 "metadata": {
  "kernelspec": {
   "display_name": "Python 3",
   "language": "python",
   "name": "python3"
  },
  "language_info": {
   "codemirror_mode": {
    "name": "ipython",
    "version": 3
   },
   "file_extension": ".py",
   "mimetype": "text/x-python",
   "name": "python",
   "nbconvert_exporter": "python",
   "pygments_lexer": "ipython3",
   "version": "3.6.10"
  }
 },
 "nbformat": 4,
 "nbformat_minor": 2
}
