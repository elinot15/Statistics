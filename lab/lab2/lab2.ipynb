{
 "cells": [
  {
   "cell_type": "markdown",
   "metadata": {},
   "source": [
    "# Esercizio A"
   ]
  },
  {
   "cell_type": "markdown",
   "metadata": {},
   "source": [
    "Presso un ambulatorio veterinario un gruppo di cani viene seguito regolarmente, e a oggi la situazione dello stato di salute dei pazienti a quattro zampe è documentata nel filecani.csvche contiene le seguenti informazioni:\n",
    "•Cartella: numero della cartella clinica,\n",
    "\n",
    "•IP: indica se il paziente soffre di ipertensione,\n",
    "\n",
    "•GravitaIP: gravità dell’ipertensione,\n",
    "\n",
    "•EtaAnni: età (espressa in anni),\n",
    "\n",
    "•MORTE: indica se il cane è ancora in vita oppure è deceduto,\n",
    "\n",
    "•MC: indica se il cane è deceduto a causa di problemi cardiaci (morte cardiaca).\n",
    "\n",
    "•SURVIVALTIME: tempo di sopravvivenza a partire dalla prima visita, espresso in giorni,cioè tempo intercorso tra la prima visita e il decesso oppure tempo intercorso tra la primavisita e oggi se il cane è ancora in vita,\n",
    "\n",
    "•Antiaritmico: indica se il cane assume un farmaco per l’aritmia,\n",
    "\n",
    "•Terapia: indica il numero di farmaci somministrati,\n",
    "\n",
    "•PesoKg: peso del cane (espressa in kg),e alcune variabili cliniche il cui valore è stato determinato tramite esami strumentali:\n",
    "\n",
    "•OndaEA,\n",
    "\n",
    "•EDVI,\n",
    "\n",
    "•Allodiast.\n",
    "\n",
    "Nel filecani.csvle colonne sono separate dal simbolo \";\" e i numeri reali sono stati registraticon il simbolo \",\" come separatore dei decimali."
   ]
  },
  {
   "cell_type": "code",
   "execution_count": 3,
   "metadata": {},
   "outputs": [
    {
     "data": {
      "text/html": [
       "<div>\n",
       "<style scoped>\n",
       "    .dataframe tbody tr th:only-of-type {\n",
       "        vertical-align: middle;\n",
       "    }\n",
       "\n",
       "    .dataframe tbody tr th {\n",
       "        vertical-align: top;\n",
       "    }\n",
       "\n",
       "    .dataframe thead th {\n",
       "        text-align: right;\n",
       "    }\n",
       "</style>\n",
       "<table border=\"1\" class=\"dataframe\">\n",
       "  <thead>\n",
       "    <tr style=\"text-align: right;\">\n",
       "      <th></th>\n",
       "      <th>Cartella</th>\n",
       "      <th>IP</th>\n",
       "      <th>GravitaIP</th>\n",
       "      <th>EtaAnni</th>\n",
       "      <th>MORTE</th>\n",
       "      <th>MC</th>\n",
       "      <th>SURVIVALTIME</th>\n",
       "      <th>Terapia</th>\n",
       "      <th>Antiaritmico</th>\n",
       "      <th>PesoKg</th>\n",
       "      <th>VTricuspide</th>\n",
       "      <th>AsxAo</th>\n",
       "      <th>OndaE</th>\n",
       "      <th>OndaEA</th>\n",
       "      <th>FrazEspuls</th>\n",
       "      <th>FrazAccorc</th>\n",
       "      <th>EDVI</th>\n",
       "      <th>ESVI</th>\n",
       "      <th>Allodiast</th>\n",
       "      <th>Allosist</th>\n",
       "    </tr>\n",
       "  </thead>\n",
       "  <tbody>\n",
       "    <tr>\n",
       "      <th>0</th>\n",
       "      <td>S0601</td>\n",
       "      <td>NO</td>\n",
       "      <td>0</td>\n",
       "      <td>10.35</td>\n",
       "      <td>0</td>\n",
       "      <td>NaN</td>\n",
       "      <td>0</td>\n",
       "      <td>2</td>\n",
       "      <td>NO</td>\n",
       "      <td>5.25</td>\n",
       "      <td>0.00</td>\n",
       "      <td>2.50</td>\n",
       "      <td>1.15</td>\n",
       "      <td>0.97</td>\n",
       "      <td>70.0</td>\n",
       "      <td>37.0</td>\n",
       "      <td>78.69</td>\n",
       "      <td>23.75</td>\n",
       "      <td>1.58</td>\n",
       "      <td>0.99</td>\n",
       "    </tr>\n",
       "    <tr>\n",
       "      <th>1</th>\n",
       "      <td>C0621</td>\n",
       "      <td>NO</td>\n",
       "      <td>0</td>\n",
       "      <td>15.21</td>\n",
       "      <td>1</td>\n",
       "      <td>1.0</td>\n",
       "      <td>341</td>\n",
       "      <td>3</td>\n",
       "      <td>NO</td>\n",
       "      <td>6.00</td>\n",
       "      <td>0.00</td>\n",
       "      <td>1.61</td>\n",
       "      <td>1.50</td>\n",
       "      <td>1.47</td>\n",
       "      <td>83.0</td>\n",
       "      <td>51.0</td>\n",
       "      <td>130.58</td>\n",
       "      <td>23.88</td>\n",
       "      <td>1.94</td>\n",
       "      <td>0.99</td>\n",
       "    </tr>\n",
       "    <tr>\n",
       "      <th>2</th>\n",
       "      <td>B0918</td>\n",
       "      <td>NO</td>\n",
       "      <td>0</td>\n",
       "      <td>15.77</td>\n",
       "      <td>1</td>\n",
       "      <td>1.0</td>\n",
       "      <td>117</td>\n",
       "      <td>3</td>\n",
       "      <td>NO</td>\n",
       "      <td>3.20</td>\n",
       "      <td>0.00</td>\n",
       "      <td>2.50</td>\n",
       "      <td>1.87</td>\n",
       "      <td>2.08</td>\n",
       "      <td>91.0</td>\n",
       "      <td>62.0</td>\n",
       "      <td>180.35</td>\n",
       "      <td>16.22</td>\n",
       "      <td>2.21</td>\n",
       "      <td>0.84</td>\n",
       "    </tr>\n",
       "    <tr>\n",
       "      <th>3</th>\n",
       "      <td>R1009</td>\n",
       "      <td>NO</td>\n",
       "      <td>0</td>\n",
       "      <td>13.54</td>\n",
       "      <td>1</td>\n",
       "      <td>1.0</td>\n",
       "      <td>93</td>\n",
       "      <td>4</td>\n",
       "      <td>SI</td>\n",
       "      <td>26.50</td>\n",
       "      <td>0.00</td>\n",
       "      <td>3.07</td>\n",
       "      <td>2.28</td>\n",
       "      <td>2.85</td>\n",
       "      <td>75.0</td>\n",
       "      <td>44.0</td>\n",
       "      <td>234.17</td>\n",
       "      <td>40.15</td>\n",
       "      <td>2.09</td>\n",
       "      <td>1.16</td>\n",
       "    </tr>\n",
       "    <tr>\n",
       "      <th>4</th>\n",
       "      <td>R1513</td>\n",
       "      <td>NO</td>\n",
       "      <td>0</td>\n",
       "      <td>10.72</td>\n",
       "      <td>0</td>\n",
       "      <td>NaN</td>\n",
       "      <td>666</td>\n",
       "      <td>3</td>\n",
       "      <td>NO</td>\n",
       "      <td>11.00</td>\n",
       "      <td>0.00</td>\n",
       "      <td>2.54</td>\n",
       "      <td>0.75</td>\n",
       "      <td>0.86</td>\n",
       "      <td>69.0</td>\n",
       "      <td>38.0</td>\n",
       "      <td>139.84</td>\n",
       "      <td>43.89</td>\n",
       "      <td>1.98</td>\n",
       "      <td>1.23</td>\n",
       "    </tr>\n",
       "    <tr>\n",
       "      <th>5</th>\n",
       "      <td>E0901</td>\n",
       "      <td>NO</td>\n",
       "      <td>0</td>\n",
       "      <td>8.50</td>\n",
       "      <td>1</td>\n",
       "      <td>1.0</td>\n",
       "      <td>712</td>\n",
       "      <td>2</td>\n",
       "      <td>NO</td>\n",
       "      <td>4.80</td>\n",
       "      <td>0.00</td>\n",
       "      <td>1.80</td>\n",
       "      <td>1.37</td>\n",
       "      <td>1.69</td>\n",
       "      <td>57.0</td>\n",
       "      <td>30.0</td>\n",
       "      <td>191.23</td>\n",
       "      <td>82.42</td>\n",
       "      <td>2.25</td>\n",
       "      <td>1.58</td>\n",
       "    </tr>\n",
       "    <tr>\n",
       "      <th>6</th>\n",
       "      <td>M0903</td>\n",
       "      <td>NO</td>\n",
       "      <td>0</td>\n",
       "      <td>11.17</td>\n",
       "      <td>0</td>\n",
       "      <td>NaN</td>\n",
       "      <td>0</td>\n",
       "      <td>2</td>\n",
       "      <td>NO</td>\n",
       "      <td>5.30</td>\n",
       "      <td>0.00</td>\n",
       "      <td>1.77</td>\n",
       "      <td>NaN</td>\n",
       "      <td>NaN</td>\n",
       "      <td>76.0</td>\n",
       "      <td>44.0</td>\n",
       "      <td>141.90</td>\n",
       "      <td>33.31</td>\n",
       "      <td>2.01</td>\n",
       "      <td>1.13</td>\n",
       "    </tr>\n",
       "    <tr>\n",
       "      <th>7</th>\n",
       "      <td>C0606</td>\n",
       "      <td>NO</td>\n",
       "      <td>0</td>\n",
       "      <td>10.10</td>\n",
       "      <td>0</td>\n",
       "      <td>NaN</td>\n",
       "      <td>730</td>\n",
       "      <td>2</td>\n",
       "      <td>NO</td>\n",
       "      <td>6.00</td>\n",
       "      <td>0.00</td>\n",
       "      <td>1.84</td>\n",
       "      <td>1.06</td>\n",
       "      <td>1.43</td>\n",
       "      <td>66.0</td>\n",
       "      <td>36.0</td>\n",
       "      <td>120.24</td>\n",
       "      <td>40.39</td>\n",
       "      <td>1.88</td>\n",
       "      <td>1.21</td>\n",
       "    </tr>\n",
       "    <tr>\n",
       "      <th>8</th>\n",
       "      <td>L0606</td>\n",
       "      <td>NO</td>\n",
       "      <td>0</td>\n",
       "      <td>12.66</td>\n",
       "      <td>1</td>\n",
       "      <td>0.0</td>\n",
       "      <td>751</td>\n",
       "      <td>2</td>\n",
       "      <td>NO</td>\n",
       "      <td>20.30</td>\n",
       "      <td>0.00</td>\n",
       "      <td>1.30</td>\n",
       "      <td>NaN</td>\n",
       "      <td>NaN</td>\n",
       "      <td>69.0</td>\n",
       "      <td>38.0</td>\n",
       "      <td>128.87</td>\n",
       "      <td>40.31</td>\n",
       "      <td>1.90</td>\n",
       "      <td>1.17</td>\n",
       "    </tr>\n",
       "    <tr>\n",
       "      <th>9</th>\n",
       "      <td>F1001</td>\n",
       "      <td>NO</td>\n",
       "      <td>0</td>\n",
       "      <td>14.36</td>\n",
       "      <td>1</td>\n",
       "      <td>NaN</td>\n",
       "      <td>279</td>\n",
       "      <td>3</td>\n",
       "      <td>NO</td>\n",
       "      <td>6.50</td>\n",
       "      <td>0.00</td>\n",
       "      <td>2.68</td>\n",
       "      <td>1.18</td>\n",
       "      <td>0.94</td>\n",
       "      <td>90.0</td>\n",
       "      <td>59.0</td>\n",
       "      <td>242.40</td>\n",
       "      <td>16.23</td>\n",
       "      <td>2.09</td>\n",
       "      <td>0.85</td>\n",
       "    </tr>\n",
       "    <tr>\n",
       "      <th>10</th>\n",
       "      <td>D0911</td>\n",
       "      <td>NO</td>\n",
       "      <td>0</td>\n",
       "      <td>14.36</td>\n",
       "      <td>1</td>\n",
       "      <td>1.0</td>\n",
       "      <td>76</td>\n",
       "      <td>3</td>\n",
       "      <td>NO</td>\n",
       "      <td>15.00</td>\n",
       "      <td>0.00</td>\n",
       "      <td>2.51</td>\n",
       "      <td>1.35</td>\n",
       "      <td>2.25</td>\n",
       "      <td>73.0</td>\n",
       "      <td>42.0</td>\n",
       "      <td>154.64</td>\n",
       "      <td>42.40</td>\n",
       "      <td>2.06</td>\n",
       "      <td>1.20</td>\n",
       "    </tr>\n",
       "    <tr>\n",
       "      <th>11</th>\n",
       "      <td>D1104</td>\n",
       "      <td>NO</td>\n",
       "      <td>0</td>\n",
       "      <td>12.11</td>\n",
       "      <td>0</td>\n",
       "      <td>NaN</td>\n",
       "      <td>1115</td>\n",
       "      <td>3</td>\n",
       "      <td>NO</td>\n",
       "      <td>4.70</td>\n",
       "      <td>0.00</td>\n",
       "      <td>2.16</td>\n",
       "      <td>1.70</td>\n",
       "      <td>1.45</td>\n",
       "      <td>85.0</td>\n",
       "      <td>54.0</td>\n",
       "      <td>222.67</td>\n",
       "      <td>22.40</td>\n",
       "      <td>2.09</td>\n",
       "      <td>0.97</td>\n",
       "    </tr>\n",
       "    <tr>\n",
       "      <th>12</th>\n",
       "      <td>L0708</td>\n",
       "      <td>NO</td>\n",
       "      <td>0</td>\n",
       "      <td>13.86</td>\n",
       "      <td>1</td>\n",
       "      <td>1.0</td>\n",
       "      <td>235</td>\n",
       "      <td>2</td>\n",
       "      <td>NO</td>\n",
       "      <td>6.00</td>\n",
       "      <td>0.00</td>\n",
       "      <td>2.27</td>\n",
       "      <td>1.88</td>\n",
       "      <td>1.25</td>\n",
       "      <td>86.0</td>\n",
       "      <td>55.0</td>\n",
       "      <td>119.33</td>\n",
       "      <td>16.22</td>\n",
       "      <td>1.87</td>\n",
       "      <td>0.85</td>\n",
       "    </tr>\n",
       "    <tr>\n",
       "      <th>13</th>\n",
       "      <td>P1505</td>\n",
       "      <td>NO</td>\n",
       "      <td>0</td>\n",
       "      <td>14.16</td>\n",
       "      <td>1</td>\n",
       "      <td>0.0</td>\n",
       "      <td>582</td>\n",
       "      <td>3</td>\n",
       "      <td>NO</td>\n",
       "      <td>7.10</td>\n",
       "      <td>0.00</td>\n",
       "      <td>2.02</td>\n",
       "      <td>1.18</td>\n",
       "      <td>1.22</td>\n",
       "      <td>58.0</td>\n",
       "      <td>31.0</td>\n",
       "      <td>190.62</td>\n",
       "      <td>79.96</td>\n",
       "      <td>2.25</td>\n",
       "      <td>1.55</td>\n",
       "    </tr>\n",
       "    <tr>\n",
       "      <th>14</th>\n",
       "      <td>B0918</td>\n",
       "      <td>NO</td>\n",
       "      <td>0</td>\n",
       "      <td>13.78</td>\n",
       "      <td>1</td>\n",
       "      <td>1.0</td>\n",
       "      <td>996</td>\n",
       "      <td>2</td>\n",
       "      <td>NO</td>\n",
       "      <td>20.00</td>\n",
       "      <td>0.00</td>\n",
       "      <td>1.93</td>\n",
       "      <td>1.27</td>\n",
       "      <td>2.15</td>\n",
       "      <td>83.0</td>\n",
       "      <td>51.0</td>\n",
       "      <td>192.23</td>\n",
       "      <td>33.81</td>\n",
       "      <td>2.28</td>\n",
       "      <td>1.12</td>\n",
       "    </tr>\n",
       "    <tr>\n",
       "      <th>15</th>\n",
       "      <td>B0911</td>\n",
       "      <td>NO</td>\n",
       "      <td>0</td>\n",
       "      <td>14.78</td>\n",
       "      <td>1</td>\n",
       "      <td>1.0</td>\n",
       "      <td>45</td>\n",
       "      <td>4</td>\n",
       "      <td>NO</td>\n",
       "      <td>12.00</td>\n",
       "      <td>0.00</td>\n",
       "      <td>2.43</td>\n",
       "      <td>NaN</td>\n",
       "      <td>NaN</td>\n",
       "      <td>75.0</td>\n",
       "      <td>44.0</td>\n",
       "      <td>172.64</td>\n",
       "      <td>43.67</td>\n",
       "      <td>2.16</td>\n",
       "      <td>1.22</td>\n",
       "    </tr>\n",
       "    <tr>\n",
       "      <th>16</th>\n",
       "      <td>B0705</td>\n",
       "      <td>NO</td>\n",
       "      <td>0</td>\n",
       "      <td>13.87</td>\n",
       "      <td>1</td>\n",
       "      <td>1.0</td>\n",
       "      <td>295</td>\n",
       "      <td>2</td>\n",
       "      <td>NO</td>\n",
       "      <td>7.20</td>\n",
       "      <td>0.00</td>\n",
       "      <td>1.89</td>\n",
       "      <td>NaN</td>\n",
       "      <td>NaN</td>\n",
       "      <td>92.0</td>\n",
       "      <td>63.0</td>\n",
       "      <td>88.61</td>\n",
       "      <td>6.68</td>\n",
       "      <td>1.65</td>\n",
       "      <td>0.60</td>\n",
       "    </tr>\n",
       "    <tr>\n",
       "      <th>17</th>\n",
       "      <td>M1005</td>\n",
       "      <td>NO</td>\n",
       "      <td>0</td>\n",
       "      <td>10.00</td>\n",
       "      <td>1</td>\n",
       "      <td>0.0</td>\n",
       "      <td>20</td>\n",
       "      <td>2</td>\n",
       "      <td>NO</td>\n",
       "      <td>32.00</td>\n",
       "      <td>0.00</td>\n",
       "      <td>1.95</td>\n",
       "      <td>0.87</td>\n",
       "      <td>1.30</td>\n",
       "      <td>75.0</td>\n",
       "      <td>44.0</td>\n",
       "      <td>243.28</td>\n",
       "      <td>42.23</td>\n",
       "      <td>2.12</td>\n",
       "      <td>1.18</td>\n",
       "    </tr>\n",
       "    <tr>\n",
       "      <th>18</th>\n",
       "      <td>R0611</td>\n",
       "      <td>NO</td>\n",
       "      <td>0</td>\n",
       "      <td>12.71</td>\n",
       "      <td>1</td>\n",
       "      <td>0.0</td>\n",
       "      <td>1509</td>\n",
       "      <td>2</td>\n",
       "      <td>NO</td>\n",
       "      <td>22.00</td>\n",
       "      <td>0.00</td>\n",
       "      <td>2.37</td>\n",
       "      <td>1.31</td>\n",
       "      <td>2.22</td>\n",
       "      <td>63.0</td>\n",
       "      <td>34.0</td>\n",
       "      <td>134.20</td>\n",
       "      <td>49.97</td>\n",
       "      <td>1.93</td>\n",
       "      <td>1.28</td>\n",
       "    </tr>\n",
       "    <tr>\n",
       "      <th>19</th>\n",
       "      <td>M0819</td>\n",
       "      <td>NO</td>\n",
       "      <td>0</td>\n",
       "      <td>14.73</td>\n",
       "      <td>0</td>\n",
       "      <td>NaN</td>\n",
       "      <td>0</td>\n",
       "      <td>2</td>\n",
       "      <td>NO</td>\n",
       "      <td>11.70</td>\n",
       "      <td>0.00</td>\n",
       "      <td>2.22</td>\n",
       "      <td>0.94</td>\n",
       "      <td>1.15</td>\n",
       "      <td>80.0</td>\n",
       "      <td>48.0</td>\n",
       "      <td>121.79</td>\n",
       "      <td>24.87</td>\n",
       "      <td>1.87</td>\n",
       "      <td>0.98</td>\n",
       "    </tr>\n",
       "    <tr>\n",
       "      <th>20</th>\n",
       "      <td>L0609</td>\n",
       "      <td>NO</td>\n",
       "      <td>0</td>\n",
       "      <td>14.96</td>\n",
       "      <td>1</td>\n",
       "      <td>1.0</td>\n",
       "      <td>241</td>\n",
       "      <td>3</td>\n",
       "      <td>NO</td>\n",
       "      <td>24.60</td>\n",
       "      <td>0.00</td>\n",
       "      <td>2.78</td>\n",
       "      <td>1.70</td>\n",
       "      <td>2.98</td>\n",
       "      <td>65.0</td>\n",
       "      <td>36.0</td>\n",
       "      <td>221.37</td>\n",
       "      <td>77.74</td>\n",
       "      <td>2.40</td>\n",
       "      <td>1.53</td>\n",
       "    </tr>\n",
       "    <tr>\n",
       "      <th>21</th>\n",
       "      <td>B0719</td>\n",
       "      <td>NO</td>\n",
       "      <td>0</td>\n",
       "      <td>14.79</td>\n",
       "      <td>1</td>\n",
       "      <td>1.0</td>\n",
       "      <td>296</td>\n",
       "      <td>2</td>\n",
       "      <td>NO</td>\n",
       "      <td>3.50</td>\n",
       "      <td>0.00</td>\n",
       "      <td>2.23</td>\n",
       "      <td>NaN</td>\n",
       "      <td>NaN</td>\n",
       "      <td>78.0</td>\n",
       "      <td>45.0</td>\n",
       "      <td>124.18</td>\n",
       "      <td>27.29</td>\n",
       "      <td>1.92</td>\n",
       "      <td>1.06</td>\n",
       "    </tr>\n",
       "    <tr>\n",
       "      <th>22</th>\n",
       "      <td>Z0906</td>\n",
       "      <td>NO</td>\n",
       "      <td>0</td>\n",
       "      <td>10.20</td>\n",
       "      <td>1</td>\n",
       "      <td>1.0</td>\n",
       "      <td>977</td>\n",
       "      <td>2</td>\n",
       "      <td>NO</td>\n",
       "      <td>5.30</td>\n",
       "      <td>0.00</td>\n",
       "      <td>2.47</td>\n",
       "      <td>1.68</td>\n",
       "      <td>3.23</td>\n",
       "      <td>82.0</td>\n",
       "      <td>50.0</td>\n",
       "      <td>213.48</td>\n",
       "      <td>38.65</td>\n",
       "      <td>2.39</td>\n",
       "      <td>1.19</td>\n",
       "    </tr>\n",
       "    <tr>\n",
       "      <th>23</th>\n",
       "      <td>C0705</td>\n",
       "      <td>NO</td>\n",
       "      <td>0</td>\n",
       "      <td>12.05</td>\n",
       "      <td>1</td>\n",
       "      <td>1.0</td>\n",
       "      <td>373</td>\n",
       "      <td>2</td>\n",
       "      <td>NO</td>\n",
       "      <td>5.20</td>\n",
       "      <td>0.00</td>\n",
       "      <td>1.83</td>\n",
       "      <td>NaN</td>\n",
       "      <td>NaN</td>\n",
       "      <td>80.0</td>\n",
       "      <td>47.0</td>\n",
       "      <td>152.32</td>\n",
       "      <td>30.98</td>\n",
       "      <td>2.08</td>\n",
       "      <td>1.10</td>\n",
       "    </tr>\n",
       "    <tr>\n",
       "      <th>24</th>\n",
       "      <td>R0811</td>\n",
       "      <td>NO</td>\n",
       "      <td>0</td>\n",
       "      <td>12.72</td>\n",
       "      <td>0</td>\n",
       "      <td>NaN</td>\n",
       "      <td>0</td>\n",
       "      <td>2</td>\n",
       "      <td>NO</td>\n",
       "      <td>5.00</td>\n",
       "      <td>0.00</td>\n",
       "      <td>1.91</td>\n",
       "      <td>1.37</td>\n",
       "      <td>1.23</td>\n",
       "      <td>73.0</td>\n",
       "      <td>41.0</td>\n",
       "      <td>104.85</td>\n",
       "      <td>28.25</td>\n",
       "      <td>1.78</td>\n",
       "      <td>1.06</td>\n",
       "    </tr>\n",
       "    <tr>\n",
       "      <th>25</th>\n",
       "      <td>L1504</td>\n",
       "      <td>NO</td>\n",
       "      <td>0</td>\n",
       "      <td>14.32</td>\n",
       "      <td>1</td>\n",
       "      <td>0.0</td>\n",
       "      <td>84</td>\n",
       "      <td>3</td>\n",
       "      <td>NO</td>\n",
       "      <td>7.00</td>\n",
       "      <td>0.00</td>\n",
       "      <td>2.17</td>\n",
       "      <td>NaN</td>\n",
       "      <td>NaN</td>\n",
       "      <td>66.0</td>\n",
       "      <td>35.0</td>\n",
       "      <td>134.87</td>\n",
       "      <td>29.61</td>\n",
       "      <td>1.96</td>\n",
       "      <td>1.07</td>\n",
       "    </tr>\n",
       "    <tr>\n",
       "      <th>26</th>\n",
       "      <td>V0701</td>\n",
       "      <td>NO</td>\n",
       "      <td>0</td>\n",
       "      <td>10.05</td>\n",
       "      <td>1</td>\n",
       "      <td>1.0</td>\n",
       "      <td>447</td>\n",
       "      <td>4</td>\n",
       "      <td>NO</td>\n",
       "      <td>7.90</td>\n",
       "      <td>0.00</td>\n",
       "      <td>2.54</td>\n",
       "      <td>NaN</td>\n",
       "      <td>NaN</td>\n",
       "      <td>79.0</td>\n",
       "      <td>47.0</td>\n",
       "      <td>136.74</td>\n",
       "      <td>28.43</td>\n",
       "      <td>1.97</td>\n",
       "      <td>1.05</td>\n",
       "    </tr>\n",
       "    <tr>\n",
       "      <th>27</th>\n",
       "      <td>G0609</td>\n",
       "      <td>NO</td>\n",
       "      <td>0</td>\n",
       "      <td>11.94</td>\n",
       "      <td>1</td>\n",
       "      <td>1.0</td>\n",
       "      <td>163</td>\n",
       "      <td>2</td>\n",
       "      <td>NO</td>\n",
       "      <td>21.80</td>\n",
       "      <td>0.00</td>\n",
       "      <td>2.27</td>\n",
       "      <td>1.71</td>\n",
       "      <td>1.97</td>\n",
       "      <td>74.0</td>\n",
       "      <td>43.0</td>\n",
       "      <td>161.86</td>\n",
       "      <td>41.16</td>\n",
       "      <td>2.11</td>\n",
       "      <td>1.21</td>\n",
       "    </tr>\n",
       "    <tr>\n",
       "      <th>28</th>\n",
       "      <td>A0814</td>\n",
       "      <td>NO</td>\n",
       "      <td>0</td>\n",
       "      <td>5.92</td>\n",
       "      <td>1</td>\n",
       "      <td>1.0</td>\n",
       "      <td>837</td>\n",
       "      <td>4</td>\n",
       "      <td>NO</td>\n",
       "      <td>10.95</td>\n",
       "      <td>0.00</td>\n",
       "      <td>2.65</td>\n",
       "      <td>1.50</td>\n",
       "      <td>2.59</td>\n",
       "      <td>74.0</td>\n",
       "      <td>42.0</td>\n",
       "      <td>142.77</td>\n",
       "      <td>37.29</td>\n",
       "      <td>2.00</td>\n",
       "      <td>1.15</td>\n",
       "    </tr>\n",
       "    <tr>\n",
       "      <th>29</th>\n",
       "      <td>S0924</td>\n",
       "      <td>NO</td>\n",
       "      <td>0</td>\n",
       "      <td>9.58</td>\n",
       "      <td>0</td>\n",
       "      <td>NaN</td>\n",
       "      <td>226</td>\n",
       "      <td>2</td>\n",
       "      <td>NO</td>\n",
       "      <td>4.70</td>\n",
       "      <td>0.00</td>\n",
       "      <td>1.99</td>\n",
       "      <td>0.84</td>\n",
       "      <td>0.92</td>\n",
       "      <td>79.0</td>\n",
       "      <td>46.0</td>\n",
       "      <td>91.40</td>\n",
       "      <td>19.11</td>\n",
       "      <td>1.69</td>\n",
       "      <td>0.91</td>\n",
       "    </tr>\n",
       "    <tr>\n",
       "      <th>...</th>\n",
       "      <td>...</td>\n",
       "      <td>...</td>\n",
       "      <td>...</td>\n",
       "      <td>...</td>\n",
       "      <td>...</td>\n",
       "      <td>...</td>\n",
       "      <td>...</td>\n",
       "      <td>...</td>\n",
       "      <td>...</td>\n",
       "      <td>...</td>\n",
       "      <td>...</td>\n",
       "      <td>...</td>\n",
       "      <td>...</td>\n",
       "      <td>...</td>\n",
       "      <td>...</td>\n",
       "      <td>...</td>\n",
       "      <td>...</td>\n",
       "      <td>...</td>\n",
       "      <td>...</td>\n",
       "      <td>...</td>\n",
       "    </tr>\n",
       "    <tr>\n",
       "      <th>131</th>\n",
       "      <td>C0721</td>\n",
       "      <td>SI</td>\n",
       "      <td>1</td>\n",
       "      <td>10.73</td>\n",
       "      <td>1</td>\n",
       "      <td>1.0</td>\n",
       "      <td>680</td>\n",
       "      <td>2</td>\n",
       "      <td>NO</td>\n",
       "      <td>15.00</td>\n",
       "      <td>3.49</td>\n",
       "      <td>1.99</td>\n",
       "      <td>0.83</td>\n",
       "      <td>1.36</td>\n",
       "      <td>66.0</td>\n",
       "      <td>36.0</td>\n",
       "      <td>96.21</td>\n",
       "      <td>32.52</td>\n",
       "      <td>1.69</td>\n",
       "      <td>1.08</td>\n",
       "    </tr>\n",
       "    <tr>\n",
       "      <th>132</th>\n",
       "      <td>C1013</td>\n",
       "      <td>SI</td>\n",
       "      <td>2</td>\n",
       "      <td>10.44</td>\n",
       "      <td>0</td>\n",
       "      <td>NaN</td>\n",
       "      <td>23</td>\n",
       "      <td>4</td>\n",
       "      <td>NO</td>\n",
       "      <td>16.00</td>\n",
       "      <td>3.50</td>\n",
       "      <td>3.48</td>\n",
       "      <td>1.52</td>\n",
       "      <td>2.76</td>\n",
       "      <td>77.0</td>\n",
       "      <td>46.0</td>\n",
       "      <td>155.01</td>\n",
       "      <td>35.18</td>\n",
       "      <td>2.06</td>\n",
       "      <td>1.12</td>\n",
       "    </tr>\n",
       "    <tr>\n",
       "      <th>133</th>\n",
       "      <td>F0707</td>\n",
       "      <td>SI</td>\n",
       "      <td>2</td>\n",
       "      <td>10.80</td>\n",
       "      <td>0</td>\n",
       "      <td>NaN</td>\n",
       "      <td>0</td>\n",
       "      <td>3</td>\n",
       "      <td>NO</td>\n",
       "      <td>11.00</td>\n",
       "      <td>3.50</td>\n",
       "      <td>2.17</td>\n",
       "      <td>0.55</td>\n",
       "      <td>0.68</td>\n",
       "      <td>66.0</td>\n",
       "      <td>35.0</td>\n",
       "      <td>71.79</td>\n",
       "      <td>24.32</td>\n",
       "      <td>1.50</td>\n",
       "      <td>0.97</td>\n",
       "    </tr>\n",
       "    <tr>\n",
       "      <th>134</th>\n",
       "      <td>F0603</td>\n",
       "      <td>SI</td>\n",
       "      <td>2</td>\n",
       "      <td>13.40</td>\n",
       "      <td>1</td>\n",
       "      <td>1.0</td>\n",
       "      <td>248</td>\n",
       "      <td>3</td>\n",
       "      <td>SI</td>\n",
       "      <td>14.50</td>\n",
       "      <td>3.59</td>\n",
       "      <td>3.17</td>\n",
       "      <td>1.80</td>\n",
       "      <td>4.19</td>\n",
       "      <td>63.0</td>\n",
       "      <td>34.0</td>\n",
       "      <td>176.34</td>\n",
       "      <td>65.29</td>\n",
       "      <td>2.18</td>\n",
       "      <td>1.44</td>\n",
       "    </tr>\n",
       "    <tr>\n",
       "      <th>135</th>\n",
       "      <td>B1216</td>\n",
       "      <td>SI</td>\n",
       "      <td>2</td>\n",
       "      <td>9.97</td>\n",
       "      <td>1</td>\n",
       "      <td>1.0</td>\n",
       "      <td>1217</td>\n",
       "      <td>4</td>\n",
       "      <td>NO</td>\n",
       "      <td>16.00</td>\n",
       "      <td>3.60</td>\n",
       "      <td>1.78</td>\n",
       "      <td>1.29</td>\n",
       "      <td>1.87</td>\n",
       "      <td>80.0</td>\n",
       "      <td>47.0</td>\n",
       "      <td>184.74</td>\n",
       "      <td>38.57</td>\n",
       "      <td>2.22</td>\n",
       "      <td>1.15</td>\n",
       "    </tr>\n",
       "    <tr>\n",
       "      <th>136</th>\n",
       "      <td>G1308</td>\n",
       "      <td>SI</td>\n",
       "      <td>2</td>\n",
       "      <td>12.61</td>\n",
       "      <td>1</td>\n",
       "      <td>0.0</td>\n",
       "      <td>854</td>\n",
       "      <td>2</td>\n",
       "      <td>NO</td>\n",
       "      <td>6.00</td>\n",
       "      <td>3.60</td>\n",
       "      <td>2.44</td>\n",
       "      <td>1.20</td>\n",
       "      <td>1.85</td>\n",
       "      <td>82.0</td>\n",
       "      <td>49.0</td>\n",
       "      <td>202.89</td>\n",
       "      <td>37.54</td>\n",
       "      <td>2.35</td>\n",
       "      <td>1.20</td>\n",
       "    </tr>\n",
       "    <tr>\n",
       "      <th>137</th>\n",
       "      <td>F1410</td>\n",
       "      <td>SI</td>\n",
       "      <td>2</td>\n",
       "      <td>13.91</td>\n",
       "      <td>1</td>\n",
       "      <td>0.0</td>\n",
       "      <td>314</td>\n",
       "      <td>3</td>\n",
       "      <td>NO</td>\n",
       "      <td>22.50</td>\n",
       "      <td>3.60</td>\n",
       "      <td>2.31</td>\n",
       "      <td>1.54</td>\n",
       "      <td>2.17</td>\n",
       "      <td>65.0</td>\n",
       "      <td>36.0</td>\n",
       "      <td>230.68</td>\n",
       "      <td>84.06</td>\n",
       "      <td>2.45</td>\n",
       "      <td>1.55</td>\n",
       "    </tr>\n",
       "    <tr>\n",
       "      <th>138</th>\n",
       "      <td>D0712</td>\n",
       "      <td>SI</td>\n",
       "      <td>2</td>\n",
       "      <td>12.85</td>\n",
       "      <td>1</td>\n",
       "      <td>1.0</td>\n",
       "      <td>856</td>\n",
       "      <td>2</td>\n",
       "      <td>NO</td>\n",
       "      <td>8.10</td>\n",
       "      <td>3.61</td>\n",
       "      <td>2.10</td>\n",
       "      <td>1.27</td>\n",
       "      <td>1.32</td>\n",
       "      <td>73.0</td>\n",
       "      <td>41.0</td>\n",
       "      <td>109.17</td>\n",
       "      <td>29.85</td>\n",
       "      <td>1.79</td>\n",
       "      <td>1.07</td>\n",
       "    </tr>\n",
       "    <tr>\n",
       "      <th>139</th>\n",
       "      <td>G0608</td>\n",
       "      <td>SI</td>\n",
       "      <td>2</td>\n",
       "      <td>14.46</td>\n",
       "      <td>1</td>\n",
       "      <td>1.0</td>\n",
       "      <td>13</td>\n",
       "      <td>2</td>\n",
       "      <td>NO</td>\n",
       "      <td>5.00</td>\n",
       "      <td>3.70</td>\n",
       "      <td>2.87</td>\n",
       "      <td>1.53</td>\n",
       "      <td>2.78</td>\n",
       "      <td>88.0</td>\n",
       "      <td>56.0</td>\n",
       "      <td>94.35</td>\n",
       "      <td>11.83</td>\n",
       "      <td>1.71</td>\n",
       "      <td>0.76</td>\n",
       "    </tr>\n",
       "    <tr>\n",
       "      <th>140</th>\n",
       "      <td>P1009</td>\n",
       "      <td>SI</td>\n",
       "      <td>2</td>\n",
       "      <td>10.44</td>\n",
       "      <td>1</td>\n",
       "      <td>1.0</td>\n",
       "      <td>625</td>\n",
       "      <td>4</td>\n",
       "      <td>NO</td>\n",
       "      <td>10.00</td>\n",
       "      <td>3.79</td>\n",
       "      <td>3.09</td>\n",
       "      <td>1.66</td>\n",
       "      <td>0.15</td>\n",
       "      <td>72.0</td>\n",
       "      <td>42.0</td>\n",
       "      <td>356.69</td>\n",
       "      <td>71.10</td>\n",
       "      <td>2.57</td>\n",
       "      <td>1.50</td>\n",
       "    </tr>\n",
       "    <tr>\n",
       "      <th>141</th>\n",
       "      <td>M1136</td>\n",
       "      <td>SI</td>\n",
       "      <td>2</td>\n",
       "      <td>12.73</td>\n",
       "      <td>1</td>\n",
       "      <td>1.0</td>\n",
       "      <td>711</td>\n",
       "      <td>4</td>\n",
       "      <td>NO</td>\n",
       "      <td>16.80</td>\n",
       "      <td>3.85</td>\n",
       "      <td>2.37</td>\n",
       "      <td>0.94</td>\n",
       "      <td>0.82</td>\n",
       "      <td>62.0</td>\n",
       "      <td>33.0</td>\n",
       "      <td>171.05</td>\n",
       "      <td>64.21</td>\n",
       "      <td>2.16</td>\n",
       "      <td>1.44</td>\n",
       "    </tr>\n",
       "    <tr>\n",
       "      <th>142</th>\n",
       "      <td>M1505</td>\n",
       "      <td>SI</td>\n",
       "      <td>2</td>\n",
       "      <td>12.11</td>\n",
       "      <td>0</td>\n",
       "      <td>NaN</td>\n",
       "      <td>2906</td>\n",
       "      <td>3</td>\n",
       "      <td>NO</td>\n",
       "      <td>5.80</td>\n",
       "      <td>3.87</td>\n",
       "      <td>1.72</td>\n",
       "      <td>0.87</td>\n",
       "      <td>1.14</td>\n",
       "      <td>72.0</td>\n",
       "      <td>39.0</td>\n",
       "      <td>57.08</td>\n",
       "      <td>16.00</td>\n",
       "      <td>1.39</td>\n",
       "      <td>0.85</td>\n",
       "    </tr>\n",
       "    <tr>\n",
       "      <th>143</th>\n",
       "      <td>N1204</td>\n",
       "      <td>SI</td>\n",
       "      <td>2</td>\n",
       "      <td>14.71</td>\n",
       "      <td>1</td>\n",
       "      <td>1.0</td>\n",
       "      <td>494</td>\n",
       "      <td>4</td>\n",
       "      <td>NO</td>\n",
       "      <td>4.60</td>\n",
       "      <td>3.87</td>\n",
       "      <td>2.17</td>\n",
       "      <td>2.25</td>\n",
       "      <td>2.18</td>\n",
       "      <td>81.0</td>\n",
       "      <td>48.0</td>\n",
       "      <td>126.69</td>\n",
       "      <td>23.90</td>\n",
       "      <td>1.93</td>\n",
       "      <td>1.00</td>\n",
       "    </tr>\n",
       "    <tr>\n",
       "      <th>144</th>\n",
       "      <td>M1113</td>\n",
       "      <td>SI</td>\n",
       "      <td>2</td>\n",
       "      <td>15.26</td>\n",
       "      <td>1</td>\n",
       "      <td>1.0</td>\n",
       "      <td>150</td>\n",
       "      <td>3</td>\n",
       "      <td>NO</td>\n",
       "      <td>5.00</td>\n",
       "      <td>3.93</td>\n",
       "      <td>2.24</td>\n",
       "      <td>1.49</td>\n",
       "      <td>2.07</td>\n",
       "      <td>85.0</td>\n",
       "      <td>53.0</td>\n",
       "      <td>145.39</td>\n",
       "      <td>21.49</td>\n",
       "      <td>2.04</td>\n",
       "      <td>0.95</td>\n",
       "    </tr>\n",
       "    <tr>\n",
       "      <th>145</th>\n",
       "      <td>P1302</td>\n",
       "      <td>SI</td>\n",
       "      <td>2</td>\n",
       "      <td>12.07</td>\n",
       "      <td>1</td>\n",
       "      <td>1.0</td>\n",
       "      <td>189</td>\n",
       "      <td>4</td>\n",
       "      <td>NO</td>\n",
       "      <td>7.80</td>\n",
       "      <td>3.95</td>\n",
       "      <td>2.87</td>\n",
       "      <td>1.80</td>\n",
       "      <td>2.28</td>\n",
       "      <td>77.0</td>\n",
       "      <td>46.0</td>\n",
       "      <td>259.76</td>\n",
       "      <td>59.20</td>\n",
       "      <td>2.59</td>\n",
       "      <td>1.40</td>\n",
       "    </tr>\n",
       "    <tr>\n",
       "      <th>146</th>\n",
       "      <td>A1301</td>\n",
       "      <td>SI</td>\n",
       "      <td>2</td>\n",
       "      <td>12.02</td>\n",
       "      <td>1</td>\n",
       "      <td>0.0</td>\n",
       "      <td>787</td>\n",
       "      <td>3</td>\n",
       "      <td>NO</td>\n",
       "      <td>7.50</td>\n",
       "      <td>4.01</td>\n",
       "      <td>1.99</td>\n",
       "      <td>1.54</td>\n",
       "      <td>1.19</td>\n",
       "      <td>88.0</td>\n",
       "      <td>57.0</td>\n",
       "      <td>147.27</td>\n",
       "      <td>17.51</td>\n",
       "      <td>2.04</td>\n",
       "      <td>0.87</td>\n",
       "    </tr>\n",
       "    <tr>\n",
       "      <th>147</th>\n",
       "      <td>S1005</td>\n",
       "      <td>SI</td>\n",
       "      <td>2</td>\n",
       "      <td>15.26</td>\n",
       "      <td>1</td>\n",
       "      <td>1.0</td>\n",
       "      <td>527</td>\n",
       "      <td>3</td>\n",
       "      <td>NO</td>\n",
       "      <td>4.15</td>\n",
       "      <td>4.02</td>\n",
       "      <td>1.95</td>\n",
       "      <td>0.96</td>\n",
       "      <td>1.30</td>\n",
       "      <td>78.0</td>\n",
       "      <td>45.0</td>\n",
       "      <td>117.78</td>\n",
       "      <td>25.18</td>\n",
       "      <td>1.88</td>\n",
       "      <td>1.02</td>\n",
       "    </tr>\n",
       "    <tr>\n",
       "      <th>148</th>\n",
       "      <td>B1507</td>\n",
       "      <td>SI</td>\n",
       "      <td>2</td>\n",
       "      <td>14.37</td>\n",
       "      <td>1</td>\n",
       "      <td>1.0</td>\n",
       "      <td>1083</td>\n",
       "      <td>2</td>\n",
       "      <td>NO</td>\n",
       "      <td>18.00</td>\n",
       "      <td>4.15</td>\n",
       "      <td>2.01</td>\n",
       "      <td>0.84</td>\n",
       "      <td>0.75</td>\n",
       "      <td>70.0</td>\n",
       "      <td>39.0</td>\n",
       "      <td>112.82</td>\n",
       "      <td>34.13</td>\n",
       "      <td>1.80</td>\n",
       "      <td>1.10</td>\n",
       "    </tr>\n",
       "    <tr>\n",
       "      <th>149</th>\n",
       "      <td>L0805</td>\n",
       "      <td>SI</td>\n",
       "      <td>2</td>\n",
       "      <td>13.14</td>\n",
       "      <td>1</td>\n",
       "      <td>1.0</td>\n",
       "      <td>560</td>\n",
       "      <td>4</td>\n",
       "      <td>NO</td>\n",
       "      <td>10.00</td>\n",
       "      <td>4.24</td>\n",
       "      <td>2.47</td>\n",
       "      <td>1.74</td>\n",
       "      <td>2.95</td>\n",
       "      <td>82.0</td>\n",
       "      <td>50.0</td>\n",
       "      <td>155.30</td>\n",
       "      <td>28.33</td>\n",
       "      <td>2.07</td>\n",
       "      <td>1.04</td>\n",
       "    </tr>\n",
       "    <tr>\n",
       "      <th>150</th>\n",
       "      <td>P1317</td>\n",
       "      <td>SI</td>\n",
       "      <td>3</td>\n",
       "      <td>14.32</td>\n",
       "      <td>1</td>\n",
       "      <td>1.0</td>\n",
       "      <td>201</td>\n",
       "      <td>3</td>\n",
       "      <td>NO</td>\n",
       "      <td>10.00</td>\n",
       "      <td>4.31</td>\n",
       "      <td>3.33</td>\n",
       "      <td>1.34</td>\n",
       "      <td>1.84</td>\n",
       "      <td>83.0</td>\n",
       "      <td>52.0</td>\n",
       "      <td>176.58</td>\n",
       "      <td>29.58</td>\n",
       "      <td>2.18</td>\n",
       "      <td>1.04</td>\n",
       "    </tr>\n",
       "    <tr>\n",
       "      <th>151</th>\n",
       "      <td>V1011</td>\n",
       "      <td>SI</td>\n",
       "      <td>3</td>\n",
       "      <td>10.98</td>\n",
       "      <td>1</td>\n",
       "      <td>1.0</td>\n",
       "      <td>315</td>\n",
       "      <td>2</td>\n",
       "      <td>NO</td>\n",
       "      <td>16.00</td>\n",
       "      <td>4.35</td>\n",
       "      <td>2.35</td>\n",
       "      <td>1.63</td>\n",
       "      <td>3.02</td>\n",
       "      <td>72.0</td>\n",
       "      <td>42.0</td>\n",
       "      <td>249.26</td>\n",
       "      <td>69.69</td>\n",
       "      <td>2.53</td>\n",
       "      <td>1.47</td>\n",
       "    </tr>\n",
       "    <tr>\n",
       "      <th>152</th>\n",
       "      <td>B1620</td>\n",
       "      <td>SI</td>\n",
       "      <td>3</td>\n",
       "      <td>7.33</td>\n",
       "      <td>0</td>\n",
       "      <td>NaN</td>\n",
       "      <td>252</td>\n",
       "      <td>3</td>\n",
       "      <td>NO</td>\n",
       "      <td>12.35</td>\n",
       "      <td>4.43</td>\n",
       "      <td>1.75</td>\n",
       "      <td>1.47</td>\n",
       "      <td>1.96</td>\n",
       "      <td>78.0</td>\n",
       "      <td>46.0</td>\n",
       "      <td>110.30</td>\n",
       "      <td>24.29</td>\n",
       "      <td>1.79</td>\n",
       "      <td>0.97</td>\n",
       "    </tr>\n",
       "    <tr>\n",
       "      <th>153</th>\n",
       "      <td>V1001</td>\n",
       "      <td>SI</td>\n",
       "      <td>3</td>\n",
       "      <td>11.07</td>\n",
       "      <td>1</td>\n",
       "      <td>1.0</td>\n",
       "      <td>492</td>\n",
       "      <td>4</td>\n",
       "      <td>SI</td>\n",
       "      <td>22.40</td>\n",
       "      <td>4.44</td>\n",
       "      <td>2.79</td>\n",
       "      <td>1.70</td>\n",
       "      <td>NaN</td>\n",
       "      <td>81.0</td>\n",
       "      <td>51.0</td>\n",
       "      <td>383.42</td>\n",
       "      <td>45.66</td>\n",
       "      <td>2.50</td>\n",
       "      <td>1.23</td>\n",
       "    </tr>\n",
       "    <tr>\n",
       "      <th>154</th>\n",
       "      <td>T1204</td>\n",
       "      <td>SI</td>\n",
       "      <td>3</td>\n",
       "      <td>14.67</td>\n",
       "      <td>0</td>\n",
       "      <td>NaN</td>\n",
       "      <td>0</td>\n",
       "      <td>4</td>\n",
       "      <td>NO</td>\n",
       "      <td>7.00</td>\n",
       "      <td>4.50</td>\n",
       "      <td>2.18</td>\n",
       "      <td>1.82</td>\n",
       "      <td>2.30</td>\n",
       "      <td>82.0</td>\n",
       "      <td>51.0</td>\n",
       "      <td>159.18</td>\n",
       "      <td>28.46</td>\n",
       "      <td>2.09</td>\n",
       "      <td>1.04</td>\n",
       "    </tr>\n",
       "    <tr>\n",
       "      <th>155</th>\n",
       "      <td>R1008</td>\n",
       "      <td>SI</td>\n",
       "      <td>3</td>\n",
       "      <td>8.44</td>\n",
       "      <td>1</td>\n",
       "      <td>1.0</td>\n",
       "      <td>408</td>\n",
       "      <td>4</td>\n",
       "      <td>NO</td>\n",
       "      <td>7.00</td>\n",
       "      <td>4.51</td>\n",
       "      <td>2.62</td>\n",
       "      <td>1.02</td>\n",
       "      <td>1.89</td>\n",
       "      <td>78.0</td>\n",
       "      <td>47.0</td>\n",
       "      <td>203.00</td>\n",
       "      <td>44.06</td>\n",
       "      <td>2.33</td>\n",
       "      <td>1.25</td>\n",
       "    </tr>\n",
       "    <tr>\n",
       "      <th>156</th>\n",
       "      <td>G1006</td>\n",
       "      <td>SI</td>\n",
       "      <td>3</td>\n",
       "      <td>11.35</td>\n",
       "      <td>1</td>\n",
       "      <td>1.0</td>\n",
       "      <td>46</td>\n",
       "      <td>4</td>\n",
       "      <td>NO</td>\n",
       "      <td>8.80</td>\n",
       "      <td>4.51</td>\n",
       "      <td>2.77</td>\n",
       "      <td>1.74</td>\n",
       "      <td>NaN</td>\n",
       "      <td>78.0</td>\n",
       "      <td>46.0</td>\n",
       "      <td>260.51</td>\n",
       "      <td>41.33</td>\n",
       "      <td>2.23</td>\n",
       "      <td>1.21</td>\n",
       "    </tr>\n",
       "    <tr>\n",
       "      <th>157</th>\n",
       "      <td>A1403</td>\n",
       "      <td>SI</td>\n",
       "      <td>3</td>\n",
       "      <td>13.39</td>\n",
       "      <td>1</td>\n",
       "      <td>1.0</td>\n",
       "      <td>275</td>\n",
       "      <td>4</td>\n",
       "      <td>NO</td>\n",
       "      <td>8.00</td>\n",
       "      <td>4.54</td>\n",
       "      <td>2.49</td>\n",
       "      <td>NaN</td>\n",
       "      <td>NaN</td>\n",
       "      <td>74.0</td>\n",
       "      <td>41.0</td>\n",
       "      <td>104.55</td>\n",
       "      <td>29.51</td>\n",
       "      <td>1.76</td>\n",
       "      <td>1.03</td>\n",
       "    </tr>\n",
       "    <tr>\n",
       "      <th>158</th>\n",
       "      <td>Z1003</td>\n",
       "      <td>SI</td>\n",
       "      <td>3</td>\n",
       "      <td>12.40</td>\n",
       "      <td>1</td>\n",
       "      <td>1.0</td>\n",
       "      <td>43</td>\n",
       "      <td>3</td>\n",
       "      <td>NO</td>\n",
       "      <td>14.00</td>\n",
       "      <td>4.60</td>\n",
       "      <td>2.52</td>\n",
       "      <td>NaN</td>\n",
       "      <td>NaN</td>\n",
       "      <td>77.0</td>\n",
       "      <td>46.0</td>\n",
       "      <td>371.13</td>\n",
       "      <td>57.22</td>\n",
       "      <td>2.54</td>\n",
       "      <td>1.36</td>\n",
       "    </tr>\n",
       "    <tr>\n",
       "      <th>159</th>\n",
       "      <td>B1135</td>\n",
       "      <td>SI</td>\n",
       "      <td>3</td>\n",
       "      <td>14.19</td>\n",
       "      <td>1</td>\n",
       "      <td>1.0</td>\n",
       "      <td>269</td>\n",
       "      <td>4</td>\n",
       "      <td>NO</td>\n",
       "      <td>2.50</td>\n",
       "      <td>5.09</td>\n",
       "      <td>3.10</td>\n",
       "      <td>1.51</td>\n",
       "      <td>2.56</td>\n",
       "      <td>79.0</td>\n",
       "      <td>47.0</td>\n",
       "      <td>180.58</td>\n",
       "      <td>38.38</td>\n",
       "      <td>2.21</td>\n",
       "      <td>1.16</td>\n",
       "    </tr>\n",
       "    <tr>\n",
       "      <th>160</th>\n",
       "      <td>G0601</td>\n",
       "      <td>SI</td>\n",
       "      <td>3</td>\n",
       "      <td>14.06</td>\n",
       "      <td>1</td>\n",
       "      <td>1.0</td>\n",
       "      <td>659</td>\n",
       "      <td>2</td>\n",
       "      <td>NO</td>\n",
       "      <td>5.00</td>\n",
       "      <td>5.17</td>\n",
       "      <td>2.31</td>\n",
       "      <td>1.06</td>\n",
       "      <td>2.26</td>\n",
       "      <td>82.0</td>\n",
       "      <td>50.0</td>\n",
       "      <td>249.98</td>\n",
       "      <td>45.64</td>\n",
       "      <td>2.55</td>\n",
       "      <td>1.28</td>\n",
       "    </tr>\n",
       "  </tbody>\n",
       "</table>\n",
       "<p>161 rows × 20 columns</p>\n",
       "</div>"
      ],
      "text/plain": [
       "    Cartella  IP  GravitaIP  EtaAnni  MORTE   MC  SURVIVALTIME  Terapia  \\\n",
       "0      S0601  NO          0    10.35      0  NaN             0        2   \n",
       "1      C0621  NO          0    15.21      1  1.0           341        3   \n",
       "2      B0918  NO          0    15.77      1  1.0           117        3   \n",
       "3      R1009  NO          0    13.54      1  1.0            93        4   \n",
       "4      R1513  NO          0    10.72      0  NaN           666        3   \n",
       "5      E0901  NO          0     8.50      1  1.0           712        2   \n",
       "6      M0903  NO          0    11.17      0  NaN             0        2   \n",
       "7      C0606  NO          0    10.10      0  NaN           730        2   \n",
       "8      L0606  NO          0    12.66      1  0.0           751        2   \n",
       "9      F1001  NO          0    14.36      1  NaN           279        3   \n",
       "10     D0911  NO          0    14.36      1  1.0            76        3   \n",
       "11     D1104  NO          0    12.11      0  NaN          1115        3   \n",
       "12     L0708  NO          0    13.86      1  1.0           235        2   \n",
       "13     P1505  NO          0    14.16      1  0.0           582        3   \n",
       "14     B0918  NO          0    13.78      1  1.0           996        2   \n",
       "15     B0911  NO          0    14.78      1  1.0            45        4   \n",
       "16     B0705  NO          0    13.87      1  1.0           295        2   \n",
       "17     M1005  NO          0    10.00      1  0.0            20        2   \n",
       "18     R0611  NO          0    12.71      1  0.0          1509        2   \n",
       "19     M0819  NO          0    14.73      0  NaN             0        2   \n",
       "20     L0609  NO          0    14.96      1  1.0           241        3   \n",
       "21     B0719  NO          0    14.79      1  1.0           296        2   \n",
       "22     Z0906  NO          0    10.20      1  1.0           977        2   \n",
       "23     C0705  NO          0    12.05      1  1.0           373        2   \n",
       "24     R0811  NO          0    12.72      0  NaN             0        2   \n",
       "25     L1504  NO          0    14.32      1  0.0            84        3   \n",
       "26     V0701  NO          0    10.05      1  1.0           447        4   \n",
       "27     G0609  NO          0    11.94      1  1.0           163        2   \n",
       "28     A0814  NO          0     5.92      1  1.0           837        4   \n",
       "29     S0924  NO          0     9.58      0  NaN           226        2   \n",
       "..       ...  ..        ...      ...    ...  ...           ...      ...   \n",
       "131    C0721  SI          1    10.73      1  1.0           680        2   \n",
       "132    C1013  SI          2    10.44      0  NaN            23        4   \n",
       "133    F0707  SI          2    10.80      0  NaN             0        3   \n",
       "134    F0603  SI          2    13.40      1  1.0           248        3   \n",
       "135    B1216  SI          2     9.97      1  1.0          1217        4   \n",
       "136    G1308  SI          2    12.61      1  0.0           854        2   \n",
       "137    F1410  SI          2    13.91      1  0.0           314        3   \n",
       "138    D0712  SI          2    12.85      1  1.0           856        2   \n",
       "139    G0608  SI          2    14.46      1  1.0            13        2   \n",
       "140    P1009  SI          2    10.44      1  1.0           625        4   \n",
       "141    M1136  SI          2    12.73      1  1.0           711        4   \n",
       "142    M1505  SI          2    12.11      0  NaN          2906        3   \n",
       "143    N1204  SI          2    14.71      1  1.0           494        4   \n",
       "144    M1113  SI          2    15.26      1  1.0           150        3   \n",
       "145    P1302  SI          2    12.07      1  1.0           189        4   \n",
       "146    A1301  SI          2    12.02      1  0.0           787        3   \n",
       "147    S1005  SI          2    15.26      1  1.0           527        3   \n",
       "148    B1507  SI          2    14.37      1  1.0          1083        2   \n",
       "149    L0805  SI          2    13.14      1  1.0           560        4   \n",
       "150    P1317  SI          3    14.32      1  1.0           201        3   \n",
       "151    V1011  SI          3    10.98      1  1.0           315        2   \n",
       "152    B1620  SI          3     7.33      0  NaN           252        3   \n",
       "153    V1001  SI          3    11.07      1  1.0           492        4   \n",
       "154    T1204  SI          3    14.67      0  NaN             0        4   \n",
       "155    R1008  SI          3     8.44      1  1.0           408        4   \n",
       "156    G1006  SI          3    11.35      1  1.0            46        4   \n",
       "157    A1403  SI          3    13.39      1  1.0           275        4   \n",
       "158    Z1003  SI          3    12.40      1  1.0            43        3   \n",
       "159    B1135  SI          3    14.19      1  1.0           269        4   \n",
       "160    G0601  SI          3    14.06      1  1.0           659        2   \n",
       "\n",
       "    Antiaritmico  PesoKg  VTricuspide  AsxAo  OndaE  OndaEA  FrazEspuls  \\\n",
       "0             NO    5.25         0.00   2.50   1.15    0.97        70.0   \n",
       "1             NO    6.00         0.00   1.61   1.50    1.47        83.0   \n",
       "2             NO    3.20         0.00   2.50   1.87    2.08        91.0   \n",
       "3             SI   26.50         0.00   3.07   2.28    2.85        75.0   \n",
       "4             NO   11.00         0.00   2.54   0.75    0.86        69.0   \n",
       "5             NO    4.80         0.00   1.80   1.37    1.69        57.0   \n",
       "6             NO    5.30         0.00   1.77    NaN     NaN        76.0   \n",
       "7             NO    6.00         0.00   1.84   1.06    1.43        66.0   \n",
       "8             NO   20.30         0.00   1.30    NaN     NaN        69.0   \n",
       "9             NO    6.50         0.00   2.68   1.18    0.94        90.0   \n",
       "10            NO   15.00         0.00   2.51   1.35    2.25        73.0   \n",
       "11            NO    4.70         0.00   2.16   1.70    1.45        85.0   \n",
       "12            NO    6.00         0.00   2.27   1.88    1.25        86.0   \n",
       "13            NO    7.10         0.00   2.02   1.18    1.22        58.0   \n",
       "14            NO   20.00         0.00   1.93   1.27    2.15        83.0   \n",
       "15            NO   12.00         0.00   2.43    NaN     NaN        75.0   \n",
       "16            NO    7.20         0.00   1.89    NaN     NaN        92.0   \n",
       "17            NO   32.00         0.00   1.95   0.87    1.30        75.0   \n",
       "18            NO   22.00         0.00   2.37   1.31    2.22        63.0   \n",
       "19            NO   11.70         0.00   2.22   0.94    1.15        80.0   \n",
       "20            NO   24.60         0.00   2.78   1.70    2.98        65.0   \n",
       "21            NO    3.50         0.00   2.23    NaN     NaN        78.0   \n",
       "22            NO    5.30         0.00   2.47   1.68    3.23        82.0   \n",
       "23            NO    5.20         0.00   1.83    NaN     NaN        80.0   \n",
       "24            NO    5.00         0.00   1.91   1.37    1.23        73.0   \n",
       "25            NO    7.00         0.00   2.17    NaN     NaN        66.0   \n",
       "26            NO    7.90         0.00   2.54    NaN     NaN        79.0   \n",
       "27            NO   21.80         0.00   2.27   1.71    1.97        74.0   \n",
       "28            NO   10.95         0.00   2.65   1.50    2.59        74.0   \n",
       "29            NO    4.70         0.00   1.99   0.84    0.92        79.0   \n",
       "..           ...     ...          ...    ...    ...     ...         ...   \n",
       "131           NO   15.00         3.49   1.99   0.83    1.36        66.0   \n",
       "132           NO   16.00         3.50   3.48   1.52    2.76        77.0   \n",
       "133           NO   11.00         3.50   2.17   0.55    0.68        66.0   \n",
       "134           SI   14.50         3.59   3.17   1.80    4.19        63.0   \n",
       "135           NO   16.00         3.60   1.78   1.29    1.87        80.0   \n",
       "136           NO    6.00         3.60   2.44   1.20    1.85        82.0   \n",
       "137           NO   22.50         3.60   2.31   1.54    2.17        65.0   \n",
       "138           NO    8.10         3.61   2.10   1.27    1.32        73.0   \n",
       "139           NO    5.00         3.70   2.87   1.53    2.78        88.0   \n",
       "140           NO   10.00         3.79   3.09   1.66    0.15        72.0   \n",
       "141           NO   16.80         3.85   2.37   0.94    0.82        62.0   \n",
       "142           NO    5.80         3.87   1.72   0.87    1.14        72.0   \n",
       "143           NO    4.60         3.87   2.17   2.25    2.18        81.0   \n",
       "144           NO    5.00         3.93   2.24   1.49    2.07        85.0   \n",
       "145           NO    7.80         3.95   2.87   1.80    2.28        77.0   \n",
       "146           NO    7.50         4.01   1.99   1.54    1.19        88.0   \n",
       "147           NO    4.15         4.02   1.95   0.96    1.30        78.0   \n",
       "148           NO   18.00         4.15   2.01   0.84    0.75        70.0   \n",
       "149           NO   10.00         4.24   2.47   1.74    2.95        82.0   \n",
       "150           NO   10.00         4.31   3.33   1.34    1.84        83.0   \n",
       "151           NO   16.00         4.35   2.35   1.63    3.02        72.0   \n",
       "152           NO   12.35         4.43   1.75   1.47    1.96        78.0   \n",
       "153           SI   22.40         4.44   2.79   1.70     NaN        81.0   \n",
       "154           NO    7.00         4.50   2.18   1.82    2.30        82.0   \n",
       "155           NO    7.00         4.51   2.62   1.02    1.89        78.0   \n",
       "156           NO    8.80         4.51   2.77   1.74     NaN        78.0   \n",
       "157           NO    8.00         4.54   2.49    NaN     NaN        74.0   \n",
       "158           NO   14.00         4.60   2.52    NaN     NaN        77.0   \n",
       "159           NO    2.50         5.09   3.10   1.51    2.56        79.0   \n",
       "160           NO    5.00         5.17   2.31   1.06    2.26        82.0   \n",
       "\n",
       "     FrazAccorc    EDVI   ESVI  Allodiast  Allosist  \n",
       "0          37.0   78.69  23.75       1.58      0.99  \n",
       "1          51.0  130.58  23.88       1.94      0.99  \n",
       "2          62.0  180.35  16.22       2.21      0.84  \n",
       "3          44.0  234.17  40.15       2.09      1.16  \n",
       "4          38.0  139.84  43.89       1.98      1.23  \n",
       "5          30.0  191.23  82.42       2.25      1.58  \n",
       "6          44.0  141.90  33.31       2.01      1.13  \n",
       "7          36.0  120.24  40.39       1.88      1.21  \n",
       "8          38.0  128.87  40.31       1.90      1.17  \n",
       "9          59.0  242.40  16.23       2.09      0.85  \n",
       "10         42.0  154.64  42.40       2.06      1.20  \n",
       "11         54.0  222.67  22.40       2.09      0.97  \n",
       "12         55.0  119.33  16.22       1.87      0.85  \n",
       "13         31.0  190.62  79.96       2.25      1.55  \n",
       "14         51.0  192.23  33.81       2.28      1.12  \n",
       "15         44.0  172.64  43.67       2.16      1.22  \n",
       "16         63.0   88.61   6.68       1.65      0.60  \n",
       "17         44.0  243.28  42.23       2.12      1.18  \n",
       "18         34.0  134.20  49.97       1.93      1.28  \n",
       "19         48.0  121.79  24.87       1.87      0.98  \n",
       "20         36.0  221.37  77.74       2.40      1.53  \n",
       "21         45.0  124.18  27.29       1.92      1.06  \n",
       "22         50.0  213.48  38.65       2.39      1.19  \n",
       "23         47.0  152.32  30.98       2.08      1.10  \n",
       "24         41.0  104.85  28.25       1.78      1.06  \n",
       "25         35.0  134.87  29.61       1.96      1.07  \n",
       "26         47.0  136.74  28.43       1.97      1.05  \n",
       "27         43.0  161.86  41.16       2.11      1.21  \n",
       "28         42.0  142.77  37.29       2.00      1.15  \n",
       "29         46.0   91.40  19.11       1.69      0.91  \n",
       "..          ...     ...    ...        ...       ...  \n",
       "131        36.0   96.21  32.52       1.69      1.08  \n",
       "132        46.0  155.01  35.18       2.06      1.12  \n",
       "133        35.0   71.79  24.32       1.50      0.97  \n",
       "134        34.0  176.34  65.29       2.18      1.44  \n",
       "135        47.0  184.74  38.57       2.22      1.15  \n",
       "136        49.0  202.89  37.54       2.35      1.20  \n",
       "137        36.0  230.68  84.06       2.45      1.55  \n",
       "138        41.0  109.17  29.85       1.79      1.07  \n",
       "139        56.0   94.35  11.83       1.71      0.76  \n",
       "140        42.0  356.69  71.10       2.57      1.50  \n",
       "141        33.0  171.05  64.21       2.16      1.44  \n",
       "142        39.0   57.08  16.00       1.39      0.85  \n",
       "143        48.0  126.69  23.90       1.93      1.00  \n",
       "144        53.0  145.39  21.49       2.04      0.95  \n",
       "145        46.0  259.76  59.20       2.59      1.40  \n",
       "146        57.0  147.27  17.51       2.04      0.87  \n",
       "147        45.0  117.78  25.18       1.88      1.02  \n",
       "148        39.0  112.82  34.13       1.80      1.10  \n",
       "149        50.0  155.30  28.33       2.07      1.04  \n",
       "150        52.0  176.58  29.58       2.18      1.04  \n",
       "151        42.0  249.26  69.69       2.53      1.47  \n",
       "152        46.0  110.30  24.29       1.79      0.97  \n",
       "153        51.0  383.42  45.66       2.50      1.23  \n",
       "154        51.0  159.18  28.46       2.09      1.04  \n",
       "155        47.0  203.00  44.06       2.33      1.25  \n",
       "156        46.0  260.51  41.33       2.23      1.21  \n",
       "157        41.0  104.55  29.51       1.76      1.03  \n",
       "158        46.0  371.13  57.22       2.54      1.36  \n",
       "159        47.0  180.58  38.38       2.21      1.16  \n",
       "160        50.0  249.98  45.64       2.55      1.28  \n",
       "\n",
       "[161 rows x 20 columns]"
      ]
     },
     "execution_count": 3,
     "metadata": {},
     "output_type": "execute_result"
    }
   ],
   "source": [
    "import pandas as pd\n",
    "import pandas\n",
    "import matplotlib.pyplot as plt\n",
    "data = pandas.read_csv(\"cani.csv\", sep=\";\", decimal=\",\")\n",
    "data"
   ]
  },
  {
   "cell_type": "markdown",
   "metadata": {},
   "source": [
    "1. Quanti sono i cani seguiti dall’ambulatorio?"
   ]
  },
  {
   "cell_type": "code",
   "execution_count": 4,
   "metadata": {},
   "outputs": [
    {
     "name": "stdout",
     "output_type": "stream",
     "text": [
      "161\n",
      "161\n"
     ]
    }
   ],
   "source": [
    "print(data.shape[0])\n",
    "print(len(data))"
   ]
  },
  {
   "cell_type": "markdown",
   "metadata": {},
   "source": [
    "2. Quanti cani soffrono di ipertensione?"
   ]
  },
  {
   "cell_type": "code",
   "execution_count": 5,
   "metadata": {},
   "outputs": [
    {
     "data": {
      "text/plain": [
       "58"
      ]
     },
     "execution_count": 5,
     "metadata": {},
     "output_type": "execute_result"
    }
   ],
   "source": [
    "len(data.loc[data.IP=='SI',])"
   ]
  },
  {
   "cell_type": "markdown",
   "metadata": {},
   "source": [
    "3. Consideriamo ora l’età dei pazienti.\n",
    "Tracciare un istogramma dell’età dei cani con i seguenti accorgimenti:\n",
    "\n",
    "•fissando a un anno l’ampiezza delle classi e\n",
    "\n",
    "•considerando gli intervalli chiusi a sinistra e aperti a destra."
   ]
  },
  {
   "cell_type": "code",
   "execution_count": 6,
   "metadata": {},
   "outputs": [
    {
     "data": {
      "image/png": "[encoded data removed]",
      "text/plain": [
       "<Figure size 432x288 with 1 Axes>"
      ]
     },
     "metadata": {},
     "output_type": "display_data"
    }
   ],
   "source": [
    "data.loc[data.IP=='SI',]\n",
    "plt0 = pandas.DataFrame.hist(data.iloc[data.EtaAnni,:], column=\"EtaAnni\", bins=17)"
   ]
  },
  {
   "cell_type": "code",
   "execution_count": 7,
   "metadata": {},
   "outputs": [
    {
     "name": "stdout",
     "output_type": "stream",
     "text": [
      "massimo indice  Int64Index([51], dtype='int64')\n",
      "massimo valore  16.84\n",
      "minimo indice Int64Index([118], dtype='int64')\n",
      "minimo valore 1.22\n"
     ]
    },
    {
     "data": {
      "text/plain": [
       "count    161.000000\n",
       "mean      12.124658\n",
       "std        2.627775\n",
       "min        1.220000\n",
       "25%       10.890000\n",
       "50%       12.550000\n",
       "75%       14.060000\n",
       "max       16.840000\n",
       "Name: EtaAnni, dtype: float64"
      ]
     },
     "execution_count": 7,
     "metadata": {},
     "output_type": "execute_result"
    }
   ],
   "source": [
    "max_indice= (data.loc[data.EtaAnni==max(data.EtaAnni)]).index\n",
    "max_val= max(data.EtaAnni)\n",
    "min_indice= (data.loc[data.EtaAnni==min(data.EtaAnni)]).index\n",
    "min_val = min(data.EtaAnni)\n",
    "#centralita_indice=\n",
    "#centralita_valore=\n",
    "#dispersione_indice=\n",
    "#disespersione_valore=\n",
    "\n",
    "print(\"massimo indice \", max_indice)\n",
    "print(\"massimo valore \", max_val)\n",
    "\n",
    "print(\"minimo indice\", min_indice)\n",
    "print(\"minimo valore\", min_val)\n",
    "\n",
    "data.EtaAnni.describe()"
   ]
  },
  {
   "cell_type": "markdown",
   "metadata": {},
   "source": [
    "3.2. Descrivere l’età dei pazienti compilando la Tabella 1, in cui scegliere un opportuno indice di centralità e un opportuno indice di dispersione.\n",
    "\n"
   ]
  },
  {
   "cell_type": "markdown",
   "metadata": {},
   "source": [
    "3.3. Quanti sono i pazienti di età compresa nell’intervallo tra i 12 e i 13 anni, estremoinferiore incluso ed estremo superiore escluso ?"
   ]
  },
  {
   "cell_type": "code",
   "execution_count": 8,
   "metadata": {},
   "outputs": [
    {
     "data": {
      "text/plain": [
       "32"
      ]
     },
     "execution_count": 8,
     "metadata": {},
     "output_type": "execute_result"
    }
   ],
   "source": [
    "len(data.loc[data.EtaAnni<13,])-len(data.loc[data.EtaAnni<12,])"
   ]
  },
  {
   "cell_type": "markdown",
   "metadata": {},
   "source": [
    "3.4. Quanti anni ha il cane più anziano?"
   ]
  },
  {
   "cell_type": "code",
   "execution_count": 9,
   "metadata": {},
   "outputs": [
    {
     "data": {
      "text/plain": [
       "16.84"
      ]
     },
     "execution_count": 9,
     "metadata": {},
     "output_type": "execute_result"
    }
   ],
   "source": [
    "max(data.loc[:,\"EtaAnni\"])"
   ]
  },
  {
   "cell_type": "markdown",
   "metadata": {},
   "source": [
    "3.5. Qual è la fascia di età maggiormente rappresentata? Si risponda con un intervallo chiuso a sinistra e aperto a destra.\n",
    "\n",
    "guardando il grafico da fine 13 a 14 e qualcosa"
   ]
  },
  {
   "cell_type": "markdown",
   "metadata": {},
   "source": [
    " 4.Consideriamo le variabili MORTE e MC.\n",
    " \n",
    " 4.1. Quanti cani sono deceduti?"
   ]
  },
  {
   "cell_type": "code",
   "execution_count": 10,
   "metadata": {},
   "outputs": [
    {
     "data": {
      "text/plain": [
       "118"
      ]
     },
     "execution_count": 10,
     "metadata": {},
     "output_type": "execute_result"
    }
   ],
   "source": [
    "len(data.loc[data.MORTE==1,])"
   ]
  },
  {
   "cell_type": "markdown",
   "metadata": {},
   "source": [
    "4.2. Nell’inserire le informazioni riguardo a un cane deceduto, l’operatore ha sempre specificato se la morte è avvenuta per cause cardiache o per altre cause?  Se la risposta è \"no\", in quanti casi (sempre relativamente ai cani deceduti) l’operatoreha omesso tale informazione?"
   ]
  },
  {
   "cell_type": "code",
   "execution_count": 11,
   "metadata": {},
   "outputs": [
    {
     "data": {
      "text/plain": [
       "1.0    87\n",
       "0.0    28\n",
       "Name: MC, dtype: int64"
      ]
     },
     "execution_count": 11,
     "metadata": {},
     "output_type": "execute_result"
    }
   ],
   "source": [
    "morti=data.loc[data.MORTE==1,]\n",
    "mc= morti.MC\n",
    "mc.value_counts()\n",
    "#3 non sono specificati"
   ]
  },
  {
   "cell_type": "markdown",
   "metadata": {},
   "source": [
    "4.3. Controllare che non ci siano nei dati incongruenze riguardo alla morte, ovvero che non ci siano casi per i quali il cane risulta vivo ma morto di morte cardiaca."
   ]
  },
  {
   "cell_type": "code",
   "execution_count": 12,
   "metadata": {},
   "outputs": [
    {
     "data": {
      "text/plain": [
       "Series([], Name: MC, dtype: int64)"
      ]
     },
     "execution_count": 12,
     "metadata": {},
     "output_type": "execute_result"
    }
   ],
   "source": [
    "vivo=data.loc[data.MORTE==0,]\n",
    "mc= vivo.MC\n",
    "vivo\n",
    "mc.value_counts()\n",
    "#tutti i valori sono coerenti"
   ]
  },
  {
   "cell_type": "markdown",
   "metadata": {},
   "source": [
    "4.4. Quanti cani sono deceduti per cause cardiache?"
   ]
  },
  {
   "cell_type": "code",
   "execution_count": 13,
   "metadata": {},
   "outputs": [
    {
     "data": {
      "text/plain": [
       "87"
      ]
     },
     "execution_count": 13,
     "metadata": {},
     "output_type": "execute_result"
    }
   ],
   "source": [
    "len(morti[morti.MC==1.0])"
   ]
  },
  {
   "cell_type": "markdown",
   "metadata": {},
   "source": [
    "4.5. Tra le morti avvenute, quale percentuale è stata per cause cardiache?"
   ]
  },
  {
   "cell_type": "code",
   "execution_count": 14,
   "metadata": {},
   "outputs": [
    {
     "data": {
      "text/plain": [
       "73.72881355932203"
      ]
     },
     "execution_count": 14,
     "metadata": {},
     "output_type": "execute_result"
    }
   ],
   "source": [
    "tot=len(morti)\n",
    "cardio=len(morti[morti.MC==1.0])\n",
    "perc= 100*cardio/tot\n",
    "perc "
   ]
  },
  {
   "cell_type": "markdown",
   "metadata": {},
   "source": [
    "La variabile GravitaIP è un indice di gravità dell’ipertensione."
   ]
  },
  {
   "cell_type": "markdown",
   "metadata": {},
   "source": [
    "5.1. Si tratta di un carattere scalare, ordinale oppure nominale? ordinale da 0 a 3 indica la gravità"
   ]
  },
  {
   "cell_type": "markdown",
   "metadata": {},
   "source": [
    "5.2. Quali valori può assumere? 4"
   ]
  },
  {
   "cell_type": "code",
   "execution_count": 15,
   "metadata": {},
   "outputs": [
    {
     "data": {
      "text/plain": [
       "0    103\n",
       "1     29\n",
       "2     18\n",
       "3     11\n",
       "Name: GravitaIP, dtype: int64"
      ]
     },
     "execution_count": 15,
     "metadata": {},
     "output_type": "execute_result"
    }
   ],
   "source": [
    "data.GravitaIP.value_counts()"
   ]
  },
  {
   "cell_type": "markdown",
   "metadata": {},
   "source": [
    "5.3. Produrre la tabella delle frequenze relative diGravitaIP"
   ]
  },
  {
   "cell_type": "code",
   "execution_count": 16,
   "metadata": {},
   "outputs": [
    {
     "data": {
      "text/html": [
       "<div>\n",
       "<style scoped>\n",
       "    .dataframe tbody tr th:only-of-type {\n",
       "        vertical-align: middle;\n",
       "    }\n",
       "\n",
       "    .dataframe tbody tr th {\n",
       "        vertical-align: top;\n",
       "    }\n",
       "\n",
       "    .dataframe thead th {\n",
       "        text-align: right;\n",
       "    }\n",
       "</style>\n",
       "<table border=\"1\" class=\"dataframe\">\n",
       "  <thead>\n",
       "    <tr style=\"text-align: right;\">\n",
       "      <th></th>\n",
       "      <th>Rel. freqence</th>\n",
       "    </tr>\n",
       "    <tr>\n",
       "      <th>GravitaIP</th>\n",
       "      <th></th>\n",
       "    </tr>\n",
       "  </thead>\n",
       "  <tbody>\n",
       "    <tr>\n",
       "      <th>0</th>\n",
       "      <td>0.639752</td>\n",
       "    </tr>\n",
       "    <tr>\n",
       "      <th>1</th>\n",
       "      <td>0.180124</td>\n",
       "    </tr>\n",
       "    <tr>\n",
       "      <th>2</th>\n",
       "      <td>0.111801</td>\n",
       "    </tr>\n",
       "    <tr>\n",
       "      <th>3</th>\n",
       "      <td>0.068323</td>\n",
       "    </tr>\n",
       "  </tbody>\n",
       "</table>\n",
       "</div>"
      ],
      "text/plain": [
       "           Rel. freqence\n",
       "GravitaIP               \n",
       "0               0.639752\n",
       "1               0.180124\n",
       "2               0.111801\n",
       "3               0.068323"
      ]
     },
     "execution_count": 16,
     "metadata": {},
     "output_type": "execute_result"
    }
   ],
   "source": [
    "data_rel_freq = pd.crosstab(index=data['GravitaIP'],\n",
    "                                 columns=['Rel. freqence'],\n",
    "                                 colnames=[''])\n",
    "data_rel_freq / data_rel_freq.sum()"
   ]
  },
  {
   "cell_type": "markdown",
   "metadata": {},
   "source": [
    "5.4. Tracciare un grafico opportuno per descrivere la gravità dell’ipertensione"
   ]
  },
  {
   "cell_type": "code",
   "execution_count": 17,
   "metadata": {},
   "outputs": [
    {
     "data": {
      "image/png": "[encoded data removed]",
      "text/plain": [
       "<Figure size 432x288 with 1 Axes>"
      ]
     },
     "metadata": {},
     "output_type": "display_data"
    }
   ],
   "source": [
    "data.GravitaIP.value_counts().plot.pie()\n",
    "plt.show()"
   ]
  },
  {
   "cell_type": "markdown",
   "metadata": {},
   "source": [
    "6.0 Consideriamo l’assunzione di farmaci antiaritmici e la morte per cause cardiache"
   ]
  },
  {
   "cell_type": "code",
   "execution_count": 20,
   "metadata": {},
   "outputs": [],
   "source": [
    "morti_cardio= morti[morti.MC==1.0]\n",
    "a= morti_cardio.Antiaritmico"
   ]
  },
  {
   "cell_type": "markdown",
   "metadata": {},
   "source": [
    "6.1. Produrre la tabella delle frequenze assolute del carattereAntiaritmico."
   ]
  },
  {
   "cell_type": "code",
   "execution_count": 108,
   "metadata": {},
   "outputs": [
    {
     "data": {
      "text/html": [
       "<div>\n",
       "<style scoped>\n",
       "    .dataframe tbody tr th:only-of-type {\n",
       "        vertical-align: middle;\n",
       "    }\n",
       "\n",
       "    .dataframe tbody tr th {\n",
       "        vertical-align: top;\n",
       "    }\n",
       "\n",
       "    .dataframe thead th {\n",
       "        text-align: right;\n",
       "    }\n",
       "</style>\n",
       "<table border=\"1\" class=\"dataframe\">\n",
       "  <thead>\n",
       "    <tr style=\"text-align: right;\">\n",
       "      <th></th>\n",
       "      <th>Rel. freqence</th>\n",
       "    </tr>\n",
       "    <tr>\n",
       "      <th>Antiaritmico</th>\n",
       "      <th></th>\n",
       "    </tr>\n",
       "  </thead>\n",
       "  <tbody>\n",
       "    <tr>\n",
       "      <th>NO</th>\n",
       "      <td>0.896552</td>\n",
       "    </tr>\n",
       "    <tr>\n",
       "      <th>SI</th>\n",
       "      <td>0.103448</td>\n",
       "    </tr>\n",
       "  </tbody>\n",
       "</table>\n",
       "</div>"
      ],
      "text/plain": [
       "              Rel. freqence\n",
       "Antiaritmico               \n",
       "NO                 0.896552\n",
       "SI                 0.103448"
      ]
     },
     "execution_count": 108,
     "metadata": {},
     "output_type": "execute_result"
    }
   ],
   "source": [
    "aritm_rel_freq = pd.crosstab(index=a,\n",
    "                                 columns=['Rel. freqence'],\n",
    "                                 colnames=[''])\n",
    "aritm_rel_freq / aritm_rel_freq.sum()"
   ]
  },
  {
   "cell_type": "markdown",
   "metadata": {},
   "source": [
    "6.2. Quanti sono i cani che assumono un farmaco antiaritmico?"
   ]
  },
  {
   "cell_type": "code",
   "execution_count": 110,
   "metadata": {},
   "outputs": [
    {
     "data": {
      "text/plain": [
       "11"
      ]
     },
     "execution_count": 110,
     "metadata": {},
     "output_type": "execute_result"
    }
   ],
   "source": [
    "len(data.loc[data.Antiaritmico=='SI',])"
   ]
  },
  {
   "cell_type": "markdown",
   "metadata": {},
   "source": [
    "6.3. Il carattereAntiaritmico è categorico. Volendolo convertire in un carattere numerico,con quale valore numerico mettereste in corrispondenza valore\"SI\"? Con quale il\"NO\"? \n",
    "\n",
    "Si uguale 1 e No uguale a 0 "
   ]
  },
  {
   "cell_type": "markdown",
   "metadata": {},
   "source": [
    "6.4. Produrre la tabella delle frequenze assolute congiunte dei caratteriAntiaritmico e MC."
   ]
  },
  {
   "cell_type": "code",
   "execution_count": 115,
   "metadata": {},
   "outputs": [
    {
     "data": {
      "text/html": [
       "<div>\n",
       "<style scoped>\n",
       "    .dataframe tbody tr th:only-of-type {\n",
       "        vertical-align: middle;\n",
       "    }\n",
       "\n",
       "    .dataframe tbody tr th {\n",
       "        vertical-align: top;\n",
       "    }\n",
       "\n",
       "    .dataframe thead th {\n",
       "        text-align: right;\n",
       "    }\n",
       "</style>\n",
       "<table border=\"1\" class=\"dataframe\">\n",
       "  <thead>\n",
       "    <tr style=\"text-align: right;\">\n",
       "      <th>MC</th>\n",
       "      <th>0.0</th>\n",
       "      <th>1.0</th>\n",
       "    </tr>\n",
       "    <tr>\n",
       "      <th>Antiaritmico</th>\n",
       "      <th></th>\n",
       "      <th></th>\n",
       "    </tr>\n",
       "  </thead>\n",
       "  <tbody>\n",
       "    <tr>\n",
       "      <th>NO</th>\n",
       "      <td>28</td>\n",
       "      <td>78</td>\n",
       "    </tr>\n",
       "    <tr>\n",
       "      <th>SI</th>\n",
       "      <td>0</td>\n",
       "      <td>9</td>\n",
       "    </tr>\n",
       "  </tbody>\n",
       "</table>\n",
       "</div>"
      ],
      "text/plain": [
       "MC            0.0  1.0\n",
       "Antiaritmico          \n",
       "NO             28   78\n",
       "SI              0    9"
      ]
     },
     "execution_count": 115,
     "metadata": {},
     "output_type": "execute_result"
    }
   ],
   "source": [
    "a = data.loc[:,[\"Antiaritmico\",\"MC\"]]\n",
    "pandas.crosstab(data.loc[:,\"Antiaritmico\"],data.loc[:,\"MC\"])"
   ]
  },
  {
   "cell_type": "markdown",
   "metadata": {},
   "source": [
    "6.5. Quale percentuale dei cani morti per cause cardiache assumeva un farmaco antiaritmico?"
   ]
  },
  {
   "cell_type": "code",
   "execution_count": 114,
   "metadata": {},
   "outputs": [
    {
     "data": {
      "text/plain": [
       "7.83"
      ]
     },
     "execution_count": 114,
     "metadata": {},
     "output_type": "execute_result"
    }
   ],
   "source": [
    "tot =len(morti_cardio)\n",
    "farmaco= len(morti_cardio[morti_cardio.Antiaritmico=='SI'])\n",
    "perc= tot*farmaco/100\n",
    "perc\n",
    "\n"
   ]
  },
  {
   "cell_type": "code",
   "execution_count": 1,
   "metadata": {},
   "outputs": [
    {
     "data": {
      "image/png": "[encoded data removed]",
      "text/plain": [
       "<IPython.core.display.Image object>"
      ]
     },
     "execution_count": 1,
     "metadata": {},
     "output_type": "execute_result"
    }
   ],
   "source": [
    "from IPython.display import Image\n",
    "Image(filename='immagine.png')"
   ]
  },
  {
   "cell_type": "markdown",
   "metadata": {},
   "source": [
    "Figura 1: Funzione cumulativa empirica del tempo trascorso (a) dalla prima visita alla datadella morte, (b) dalla prima visita a oggi."
   ]
  },
  {
   "cell_type": "markdown",
   "metadata": {},
   "source": [
    "7.0 Il carattereSURVIVALTIME(tempo di sopravvivenza) ci dice per quanti giorni il pa-ziente è rimasto in vita a partire dalla prima visita presso l’ambulatorio. Come mostratonei grafici di Figura 1, la distribuzione delle frequenze del tempo di sopravvivenza haun aspetto molto diverso se si considera rispetto ai cani ancora in vita oppure a quellimorti. Potete rispondere alle seguenti due domande semplicemente ispezionando i graficidi Figura 1, considerando un anno costituito da 365 giorni.\n",
    "\n",
    "7.1. Quale percentuale di cani tuttora vivi è in cura presso l’ambulatorio da meno di un anno?"
   ]
  },
  {
   "cell_type": "code",
   "execution_count": 20,
   "metadata": {},
   "outputs": [
    {
     "data": {
      "text/plain": [
       "45.08"
      ]
     },
     "execution_count": 20,
     "metadata": {},
     "output_type": "execute_result"
    }
   ],
   "source": [
    "tot=len(data)\n",
    "vivi=data.loc[data.MORTE==0,]\n",
    "vivi_anno= len(vivi[vivi.SURVIVALTIME<=365])\n",
    "perc= vivi_anno*tot/100\n",
    "perc"
   ]
  },
  {
   "cell_type": "markdown",
   "metadata": {},
   "source": [
    "7.2. Quale percentuale di cani deceduti è sopravvissutapiùdi 3 anni?"
   ]
  },
  {
   "cell_type": "code",
   "execution_count": 37,
   "metadata": {},
   "outputs": [
    {
     "data": {
      "text/plain": [
       "(27.397260273972602, 72.6027397260274)"
      ]
     },
     "execution_count": 37,
     "metadata": {},
     "output_type": "execute_result"
    }
   ],
   "source": [
    "tot= data[data.SURVIVALTIME<=1095]\n",
    "vivi= len(tot[tot.MORTE==0])\n",
    "morti= len(tot[tot.MORTE==1])\n",
    "vivi,morti\n",
    "100*vivi/len(tot) , 100*morti/len(tot)"
   ]
  },
  {
   "cell_type": "markdown",
   "metadata": {},
   "source": [
    "7.3. Tracciare un grafico opportuno per descrivere il tempo di sopravvivenza."
   ]
  },
  {
   "cell_type": "code",
   "execution_count": 49,
   "metadata": {},
   "outputs": [
    {
     "data": {
      "image/png": "[encoded data removed]",
      "text/plain": [
       "<Figure size 432x288 with 1 Axes>"
      ]
     },
     "metadata": {},
     "output_type": "display_data"
    }
   ],
   "source": [
    "sopravvivenza= data.loc[:,\"SURVIVALTIME\"]\n",
    "sopravvivenza.plot.box(vert=False, whis='range')\n",
    "plt.show()"
   ]
  },
  {
   "cell_type": "markdown",
   "metadata": {},
   "source": [
    "7.4. La Figura 2(a) mostra il boxplot del tempo di sopravvivenza dei cani del dataset.Completare il grafico con il valore numerico degli estremi dellascatola."
   ]
  },
  {
   "cell_type": "code",
   "execution_count": 51,
   "metadata": {},
   "outputs": [
    {
     "data": {
      "text/plain": [
       "count     161.000000\n",
       "mean      459.888199\n",
       "std       467.196706\n",
       "min         0.000000\n",
       "25%       113.000000\n",
       "50%       300.000000\n",
       "75%       711.000000\n",
       "max      2906.000000\n",
       "Name: SURVIVALTIME, dtype: float64"
      ]
     },
     "execution_count": 51,
     "metadata": {},
     "output_type": "execute_result"
    }
   ],
   "source": [
    "sopravvivenza.describe()\n",
    "#113 e 711"
   ]
  },
  {
   "cell_type": "markdown",
   "metadata": {},
   "source": [
    "7.5. Quanti animali sono compresi all’interno dellascatola(estremi inclusi)?"
   ]
  },
  {
   "cell_type": "code",
   "execution_count": 55,
   "metadata": {},
   "outputs": [
    {
     "data": {
      "text/plain": [
       "81"
      ]
     },
     "execution_count": 55,
     "metadata": {},
     "output_type": "execute_result"
    }
   ],
   "source": [
    "len(data[data.SURVIVALTIME<=711])- len(data[data.SURVIVALTIME<113])"
   ]
  },
  {
   "cell_type": "markdown",
   "metadata": {},
   "source": [
    "7.6. Tracciare un grafico opportuno, diverso dal boxplot, che descriva bene il tempo disopravvivenza dei cani considerati."
   ]
  },
  {
   "cell_type": "code",
   "execution_count": 61,
   "metadata": {},
   "outputs": [
    {
     "data": {
      "image/png": "[encoded data removed]",
      "text/plain": [
       "<Figure size 432x288 with 1 Axes>"
      ]
     },
     "metadata": {},
     "output_type": "display_data"
    }
   ],
   "source": [
    "sopravvivenza.plot.hist()\n",
    "plt.show()"
   ]
  },
  {
   "cell_type": "markdown",
   "metadata": {},
   "source": [
    "7.7. Suggerite un modello teorico a voi noto che possa spiegare l’andamento aleatorio della variabile casuale X=\"Tempo di sopravvivenza dei cani che frequentano (o frequenteranno) l’ambulatorio\". Giustificate la risposta.\n",
    "\n"
   ]
  },
  {
   "cell_type": "markdown",
   "metadata": {},
   "source": [
    "7.8. Calcolate il tempo di sopravvivenza medio."
   ]
  },
  {
   "cell_type": "markdown",
   "metadata": {},
   "source": [
    "da ese 7.4 : 459.888199"
   ]
  },
  {
   "cell_type": "markdown",
   "metadata": {},
   "source": [
    "7.9. Calcolate la deviazione standard del tempo di sopravvivenza."
   ]
  },
  {
   "cell_type": "code",
   "execution_count": 62,
   "metadata": {},
   "outputs": [
    {
     "data": {
      "text/plain": [
       "467.1967063479367"
      ]
     },
     "execution_count": 62,
     "metadata": {},
     "output_type": "execute_result"
    }
   ],
   "source": [
    "sopravvivenza.std()"
   ]
  },
  {
   "cell_type": "code",
   "execution_count": 2,
   "metadata": {},
   "outputs": [
    {
     "data": {
      "image/png": "[encoded data removed]",
      "text/plain": [
       "<IPython.core.display.Image object>"
      ]
     },
     "execution_count": 2,
     "metadata": {},
     "output_type": "execute_result"
    }
   ],
   "source": [
    "from IPython.display import Image\n",
    "Image(filename='immagine2.png')"
   ]
  },
  {
   "cell_type": "markdown",
   "metadata": {},
   "source": [
    "Figura 2: (a) boxplot del tempo di sopravvivenza; (b) boxplot diOndaEA8. "
   ]
  },
  {
   "cell_type": "markdown",
   "metadata": {},
   "source": [
    "Consideriamo il carattere Allodiast.\n",
    "\n",
    "8.1. Controllare se esso può essere considerato normale."
   ]
  },
  {
   "cell_type": "code",
   "execution_count": 65,
   "metadata": {},
   "outputs": [
    {
     "data": {
      "text/plain": [
       "(0.27959556527996576, 2.0133540372670815)"
      ]
     },
     "execution_count": 65,
     "metadata": {},
     "output_type": "execute_result"
    }
   ],
   "source": [
    "b=data.loc[:,\"Allodiast\"]\n",
    "b.std() , b.mean()\n",
    "#La distribuzione normale standardizzata è un caso specifico che si ottiene quando la media è \n",
    "#uguale a zero (μ=0) e la deviazione standard è uguale a uno (σ=1). "
   ]
  },
  {
   "cell_type": "markdown",
   "metadata": {},
   "source": [
    "8.2. Controllare che nell’intervallo di semi ampiezza 2 deviazioni standard e centrato sulla media risiede circa il 96% delle osservazioni per tale carattere."
   ]
  },
  {
   "cell_type": "code",
   "execution_count": 75,
   "metadata": {},
   "outputs": [
    {
     "data": {
      "text/plain": [
       "51.5527950310559"
      ]
     },
     "execution_count": 75,
     "metadata": {},
     "output_type": "execute_result"
    }
   ],
   "source": [
    "bool_series= data[\"Allodiast\"].between(2, 3, inclusive = True) \n",
    "data[bool_series].std()  #0.17\n",
    "data[bool_series].mean()  #2.22\n",
    "diast2= len(data[bool_series])\n",
    "tot= len(data)\n",
    "100*diast2/tot"
   ]
  },
  {
   "cell_type": "markdown",
   "metadata": {},
   "source": [
    "9.0 I caratteri EDVI e Allodiast sono indipendenti? Motivare la risposta, anche con l’ausiliodi un grafico.\n"
   ]
  },
  {
   "cell_type": "code",
   "execution_count": 81,
   "metadata": {},
   "outputs": [
    {
     "data": {
      "image/png": "[encoded data removed]",
      "text/plain": [
       "<Figure size 432x288 with 1 Axes>"
      ]
     },
     "metadata": {},
     "output_type": "display_data"
    }
   ],
   "source": [
    "a = data.loc[:,[\"EDVI\",\"Allodiast\"]]\n",
    "\n",
    "plot = data.plot.scatter(x=\"EDVI\",y=\"Allodiast\",title=\"full\")"
   ]
  },
  {
   "cell_type": "markdown",
   "metadata": {},
   "source": [
    "# Esercizio B"
   ]
  },
  {
   "cell_type": "markdown",
   "metadata": {},
   "source": [
    "Create una variabile che contenga la parte di dataset relativa ai cani morti e considerandosoltanto i casi in cui sia il carattereMC, sia il carattere OndaEA non siano mancanti. Nelpresente esercizio le domande si riferiranno esclusivamente a questo sottoinsieme di casi."
   ]
  },
  {
   "cell_type": "code",
   "execution_count": 105,
   "metadata": {},
   "outputs": [],
   "source": [
    "x= data.loc[data.MORTE==1,]\n",
    "y= x[x.MC.notnull()]\n",
    "z= y[y.OndaEA.notnull()]"
   ]
  },
  {
   "cell_type": "markdown",
   "metadata": {},
   "source": [
    "1. L’OndaEAè un carattere scalare oppure ordinale? scalare"
   ]
  },
  {
   "cell_type": "markdown",
   "metadata": {},
   "source": [
    "2. Produrre il boxplot relativo al carattereOndaEA"
   ]
  },
  {
   "cell_type": "code",
   "execution_count": 107,
   "metadata": {},
   "outputs": [
    {
     "data": {
      "image/png": "[encoded data removed]",
      "text/plain": [
       "<Figure size 432x288 with 1 Axes>"
      ]
     },
     "metadata": {},
     "output_type": "display_data"
    }
   ],
   "source": [
    "z.loc[:,\"OndaEA\"].plot.box(vert=False, whis='range')\n",
    "plt.show()\n"
   ]
  },
  {
   "cell_type": "markdown",
   "metadata": {},
   "source": [
    "3. Il grafico ottenuto dovrebbe mostrare la presenza di un outlier. Determinare il valore diOndaEAper tale individuo."
   ]
  },
  {
   "cell_type": "code",
   "execution_count": 108,
   "metadata": {},
   "outputs": [
    {
     "data": {
      "text/plain": [
       "count    83.000000\n",
       "mean      1.704337\n",
       "std       0.754651\n",
       "min       0.150000\n",
       "25%       1.170000\n",
       "50%       1.480000\n",
       "75%       2.175000\n",
       "max       4.190000\n",
       "Name: OndaEA, dtype: float64"
      ]
     },
     "execution_count": 108,
     "metadata": {},
     "output_type": "execute_result"
    }
   ],
   "source": [
    "z.loc[:,\"OndaEA\"].describe() # max       4.190000"
   ]
  },
  {
   "cell_type": "markdown",
   "metadata": {},
   "source": [
    "4. L’outlier individuato è un cane morto per cause cardiache oppure no?"
   ]
  },
  {
   "cell_type": "code",
   "execution_count": 109,
   "metadata": {},
   "outputs": [
    {
     "data": {
      "text/html": [
       "<div>\n",
       "<style scoped>\n",
       "    .dataframe tbody tr th:only-of-type {\n",
       "        vertical-align: middle;\n",
       "    }\n",
       "\n",
       "    .dataframe tbody tr th {\n",
       "        vertical-align: top;\n",
       "    }\n",
       "\n",
       "    .dataframe thead th {\n",
       "        text-align: right;\n",
       "    }\n",
       "</style>\n",
       "<table border=\"1\" class=\"dataframe\">\n",
       "  <thead>\n",
       "    <tr style=\"text-align: right;\">\n",
       "      <th></th>\n",
       "      <th>Cartella</th>\n",
       "      <th>IP</th>\n",
       "      <th>GravitaIP</th>\n",
       "      <th>EtaAnni</th>\n",
       "      <th>MORTE</th>\n",
       "      <th>MC</th>\n",
       "      <th>SURVIVALTIME</th>\n",
       "      <th>Terapia</th>\n",
       "      <th>Antiaritmico</th>\n",
       "      <th>PesoKg</th>\n",
       "      <th>VTricuspide</th>\n",
       "      <th>AsxAo</th>\n",
       "      <th>OndaE</th>\n",
       "      <th>OndaEA</th>\n",
       "      <th>FrazEspuls</th>\n",
       "      <th>FrazAccorc</th>\n",
       "      <th>EDVI</th>\n",
       "      <th>ESVI</th>\n",
       "      <th>Allodiast</th>\n",
       "      <th>Allosist</th>\n",
       "    </tr>\n",
       "  </thead>\n",
       "  <tbody>\n",
       "    <tr>\n",
       "      <th>134</th>\n",
       "      <td>F0603</td>\n",
       "      <td>SI</td>\n",
       "      <td>2</td>\n",
       "      <td>13.4</td>\n",
       "      <td>1</td>\n",
       "      <td>1.0</td>\n",
       "      <td>248</td>\n",
       "      <td>3</td>\n",
       "      <td>SI</td>\n",
       "      <td>14.5</td>\n",
       "      <td>3.59</td>\n",
       "      <td>3.17</td>\n",
       "      <td>1.8</td>\n",
       "      <td>4.19</td>\n",
       "      <td>63.0</td>\n",
       "      <td>34.0</td>\n",
       "      <td>176.34</td>\n",
       "      <td>65.29</td>\n",
       "      <td>2.18</td>\n",
       "      <td>1.44</td>\n",
       "    </tr>\n",
       "  </tbody>\n",
       "</table>\n",
       "</div>"
      ],
      "text/plain": [
       "    Cartella  IP  GravitaIP  EtaAnni  MORTE   MC  SURVIVALTIME  Terapia  \\\n",
       "134    F0603  SI          2     13.4      1  1.0           248        3   \n",
       "\n",
       "    Antiaritmico  PesoKg  VTricuspide  AsxAo  OndaE  OndaEA  FrazEspuls  \\\n",
       "134           SI    14.5         3.59   3.17    1.8    4.19        63.0   \n",
       "\n",
       "     FrazAccorc    EDVI   ESVI  Allodiast  Allosist  \n",
       "134        34.0  176.34  65.29       2.18      1.44  "
      ]
     },
     "execution_count": 109,
     "metadata": {},
     "output_type": "execute_result"
    }
   ],
   "source": [
    "z.loc[z.OndaEA==4.190000,]  #si ù morto per cause cardiache"
   ]
  },
  {
   "cell_type": "markdown",
   "metadata": {},
   "source": [
    "In Figura 2(b) sono messe a confronto le distribuzioni del carattere OndaEA nei due gruppidi cani deceduti per cause cardiache e per altre cause. Ci si convince facilmente del fattoche l’OndaEAappare molto diversa nei due gruppi, e ciò ci suggerisce che potremmoutilizzare l’OndaEA come criterio di discriminazione tra la morte per cause cardiache equella per altre cause."
   ]
  },
  {
   "cell_type": "markdown",
   "metadata": {},
   "source": [
    "5. Si controlli che il terzo quartile, chiamiamolo s, dell’OndaEA relativamente ai cani deceduti per cause non cardiache è 1.41"
   ]
  },
  {
   "cell_type": "code",
   "execution_count": 117,
   "metadata": {},
   "outputs": [
    {
     "data": {
      "text/plain": [
       "count    66.000000\n",
       "mean      1.808636\n",
       "std       0.785971\n",
       "min       0.150000\n",
       "25%       1.252500\n",
       "50%       1.720000\n",
       "75%       2.240000\n",
       "max       4.190000\n",
       "Name: OndaEA, dtype: float64"
      ]
     },
     "execution_count": 117,
     "metadata": {},
     "output_type": "execute_result"
    }
   ],
   "source": [
    "(z.loc[z.MC==1, ]).loc[:,\"OndaEA\"].describe() #2.240000"
   ]
  },
  {
   "cell_type": "markdown",
   "metadata": {},
   "source": [
    "6. Quanti sono i cani deceduti per cause cardiache? Quanti per altre cause?"
   ]
  },
  {
   "cell_type": "code",
   "execution_count": 121,
   "metadata": {},
   "outputs": [
    {
     "data": {
      "text/plain": [
       "(66, 17)"
      ]
     },
     "execution_count": 121,
     "metadata": {},
     "output_type": "execute_result"
    }
   ],
   "source": [
    "morti=z.loc[z.MORTE==1, ]\n",
    "cardio= morti.loc[morti.MC==1]\n",
    "len(cardio), len(morti)-len(cardio)"
   ]
  },
  {
   "cell_type": "markdown",
   "metadata": {},
   "source": [
    "7. All’interno del dataset che stiamo considerando, quanti cani deceduti per cause cardiache avevano il valore diOndaEA≥s? E quanti cani deceduti per cause non cardiache avevanoil valore diOndaEA< s?"
   ]
  },
  {
   "cell_type": "code",
   "execution_count": 123,
   "metadata": {},
   "outputs": [
    {
     "data": {
      "text/plain": [
       "(17, 66)"
      ]
     },
     "execution_count": 123,
     "metadata": {},
     "output_type": "execute_result"
    }
   ],
   "source": [
    "maggiore =morti.loc[morti.OndaEA>=2.24]\n",
    "len(maggiore), len(morti)-len(maggiore)"
   ]
  },
  {
   "cell_type": "markdown",
   "metadata": {},
   "source": [
    "8. Utilizziamo il valore s trovato al punto 5. come soglia per un classificatore binario che discrimina tra morte cardiaca e morte non cardiaca: il classificatore classificherà come morte cardiaca i casi per i qualiOndaEA≥s e come morte non cardiaca i casi per i qualiOndaEA< s.\n",
    "\n",
    "Calcolare la sensibilità e la specificità di questo classificatore."
   ]
  },
  {
   "cell_type": "code",
   "execution_count": 142,
   "metadata": {},
   "outputs": [
    {
     "data": {
      "text/plain": [
       "(0.20481927710843373, 0.7951807228915663)"
      ]
     },
     "execution_count": 142,
     "metadata": {},
     "output_type": "execute_result"
    }
   ],
   "source": [
    "maggiore=morti.loc[morti.OndaEA>=2.24].loc[:,\"OndaEA\"]\n",
    "minore=morti.loc[morti.OndaEA<2.24].loc[:,\"OndaEA\"]\n",
    "\n",
    "len(maggiore)/(len(maggiore)+len(minore)), len(minore)/(len(minore)+len(maggiore))"
   ]
  },
  {
   "cell_type": "markdown",
   "metadata": {},
   "source": [
    "9. Tracciare il grafico della curva ROC per il classificatore individuato nei punti precedenti,basato sul carattereOndaEA."
   ]
  },
  {
   "cell_type": "code",
   "execution_count": null,
   "metadata": {},
   "outputs": [],
   "source": []
  }
 ],
 "metadata": {
  "kernelspec": {
   "display_name": "Python 3",
   "language": "python",
   "name": "python3"
  },
  "language_info": {
   "codemirror_mode": {
    "name": "ipython",
    "version": 3
   },
   "file_extension": ".py",
   "mimetype": "text/x-python",
   "name": "python",
   "nbconvert_exporter": "python",
   "pygments_lexer": "ipython3",
   "version": "3.6.10"
  }
 },
 "nbformat": 4,
 "nbformat_minor": 2
}
