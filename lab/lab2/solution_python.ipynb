{
 "cells": [
  {
   "cell_type": "markdown",
   "metadata": {},
   "source": [
    "## Esercizio A\n",
    "- A.1. Quanti sono i cani seguiti dall’ambulatorio?  \n",
    "- A.2. Quanti cani soffrono di ipertensione?  "
   ]
  },
  {
   "cell_type": "code",
   "execution_count": 21,
   "metadata": {},
   "outputs": [
    {
     "name": "stdout",
     "output_type": "stream",
     "text": [
      "A.1.:  161\n",
      "A.2.:  58\n"
     ]
    },
    {
     "data": {
      "text/html": [
       "<div>\n",
       "<style scoped>\n",
       "    .dataframe tbody tr th:only-of-type {\n",
       "        vertical-align: middle;\n",
       "    }\n",
       "\n",
       "    .dataframe tbody tr th {\n",
       "        vertical-align: top;\n",
       "    }\n",
       "\n",
       "    .dataframe thead th {\n",
       "        text-align: right;\n",
       "    }\n",
       "</style>\n",
       "<table border=\"1\" class=\"dataframe\">\n",
       "  <thead>\n",
       "    <tr style=\"text-align: right;\">\n",
       "      <th></th>\n",
       "      <th>Cartella</th>\n",
       "      <th>IP</th>\n",
       "      <th>GravitaIP</th>\n",
       "      <th>EtaAnni</th>\n",
       "      <th>MORTE</th>\n",
       "      <th>MC</th>\n",
       "      <th>SURVIVALTIME</th>\n",
       "      <th>Terapia</th>\n",
       "      <th>Antiaritmico</th>\n",
       "      <th>PesoKg</th>\n",
       "      <th>VTricuspide</th>\n",
       "      <th>AsxAo</th>\n",
       "      <th>OndaE</th>\n",
       "      <th>OndaEA</th>\n",
       "      <th>FrazEspuls</th>\n",
       "      <th>FrazAccorc</th>\n",
       "      <th>EDVI</th>\n",
       "      <th>ESVI</th>\n",
       "      <th>Allodiast</th>\n",
       "      <th>Allosist</th>\n",
       "    </tr>\n",
       "  </thead>\n",
       "  <tbody>\n",
       "    <tr>\n",
       "      <th>1</th>\n",
       "      <td>C0621</td>\n",
       "      <td>NO</td>\n",
       "      <td>0</td>\n",
       "      <td>15.21</td>\n",
       "      <td>1</td>\n",
       "      <td>1.0</td>\n",
       "      <td>341</td>\n",
       "      <td>3</td>\n",
       "      <td>NO</td>\n",
       "      <td>6.0</td>\n",
       "      <td>0.0</td>\n",
       "      <td>1.61</td>\n",
       "      <td>1.50</td>\n",
       "      <td>1.47</td>\n",
       "      <td>83.0</td>\n",
       "      <td>51.0</td>\n",
       "      <td>130.58</td>\n",
       "      <td>23.88</td>\n",
       "      <td>1.94</td>\n",
       "      <td>0.99</td>\n",
       "    </tr>\n",
       "    <tr>\n",
       "      <th>2</th>\n",
       "      <td>B0918</td>\n",
       "      <td>NO</td>\n",
       "      <td>0</td>\n",
       "      <td>15.77</td>\n",
       "      <td>1</td>\n",
       "      <td>1.0</td>\n",
       "      <td>117</td>\n",
       "      <td>3</td>\n",
       "      <td>NO</td>\n",
       "      <td>3.2</td>\n",
       "      <td>0.0</td>\n",
       "      <td>2.50</td>\n",
       "      <td>1.87</td>\n",
       "      <td>2.08</td>\n",
       "      <td>91.0</td>\n",
       "      <td>62.0</td>\n",
       "      <td>180.35</td>\n",
       "      <td>16.22</td>\n",
       "      <td>2.21</td>\n",
       "      <td>0.84</td>\n",
       "    </tr>\n",
       "    <tr>\n",
       "      <th>3</th>\n",
       "      <td>R1009</td>\n",
       "      <td>NO</td>\n",
       "      <td>0</td>\n",
       "      <td>13.54</td>\n",
       "      <td>1</td>\n",
       "      <td>1.0</td>\n",
       "      <td>93</td>\n",
       "      <td>4</td>\n",
       "      <td>SI</td>\n",
       "      <td>26.5</td>\n",
       "      <td>0.0</td>\n",
       "      <td>3.07</td>\n",
       "      <td>2.28</td>\n",
       "      <td>2.85</td>\n",
       "      <td>75.0</td>\n",
       "      <td>44.0</td>\n",
       "      <td>234.17</td>\n",
       "      <td>40.15</td>\n",
       "      <td>2.09</td>\n",
       "      <td>1.16</td>\n",
       "    </tr>\n",
       "    <tr>\n",
       "      <th>4</th>\n",
       "      <td>R1513</td>\n",
       "      <td>NO</td>\n",
       "      <td>0</td>\n",
       "      <td>10.72</td>\n",
       "      <td>0</td>\n",
       "      <td>NaN</td>\n",
       "      <td>666</td>\n",
       "      <td>3</td>\n",
       "      <td>NO</td>\n",
       "      <td>11.0</td>\n",
       "      <td>0.0</td>\n",
       "      <td>2.54</td>\n",
       "      <td>0.75</td>\n",
       "      <td>0.86</td>\n",
       "      <td>69.0</td>\n",
       "      <td>38.0</td>\n",
       "      <td>139.84</td>\n",
       "      <td>43.89</td>\n",
       "      <td>1.98</td>\n",
       "      <td>1.23</td>\n",
       "    </tr>\n",
       "  </tbody>\n",
       "</table>\n",
       "</div>"
      ],
      "text/plain": [
       "  Cartella  IP  GravitaIP  EtaAnni  MORTE   MC  SURVIVALTIME  Terapia  \\\n",
       "1    C0621  NO          0    15.21      1  1.0           341        3   \n",
       "2    B0918  NO          0    15.77      1  1.0           117        3   \n",
       "3    R1009  NO          0    13.54      1  1.0            93        4   \n",
       "4    R1513  NO          0    10.72      0  NaN           666        3   \n",
       "\n",
       "  Antiaritmico  PesoKg  VTricuspide  AsxAo  OndaE  OndaEA  FrazEspuls  \\\n",
       "1           NO     6.0          0.0   1.61   1.50    1.47        83.0   \n",
       "2           NO     3.2          0.0   2.50   1.87    2.08        91.0   \n",
       "3           SI    26.5          0.0   3.07   2.28    2.85        75.0   \n",
       "4           NO    11.0          0.0   2.54   0.75    0.86        69.0   \n",
       "\n",
       "   FrazAccorc    EDVI   ESVI  Allodiast  Allosist  \n",
       "1        51.0  130.58  23.88       1.94      0.99  \n",
       "2        62.0  180.35  16.22       2.21      0.84  \n",
       "3        44.0  234.17  40.15       2.09      1.16  \n",
       "4        38.0  139.84  43.89       1.98      1.23  "
      ]
     },
     "execution_count": 21,
     "metadata": {},
     "output_type": "execute_result"
    }
   ],
   "source": [
    "import pandas\n",
    "data = pandas.read_csv(\"cani.csv\",sep=\";\",decimal=\",\")\n",
    "print(\"A.1.: \", len(data))\n",
    "print(\"A.2.: \", len(data.loc[data.IP==\"SI\",:]))\n",
    "data.iloc[1:5,]"
   ]
  },
  {
   "cell_type": "markdown",
   "metadata": {},
   "source": [
    "A.3. Consideriamo ora l’età dei pazienti.  \n",
    "   - A.3.1. Tracciare un istogramma dell’età dei cani con i seguenti accorgimenti:  \n",
    "        - fissando a un anno l’ampiezza delle classi e\n",
    "        - considerando gli intervalli chiusi a sinistra e aperti a destra."
   ]
  },
  {
   "cell_type": "code",
   "execution_count": 3,
   "metadata": {},
   "outputs": [
    {
     "data": {
      "image/png": "[encoded data removed]",
      "text/plain": [
       "<Figure size 432x288 with 1 Axes>"
      ]
     },
     "metadata": {},
     "output_type": "display_data"
    }
   ],
   "source": [
    "import math\n",
    "import matplotlib.pyplot as plt\n",
    "age_min = min(data.EtaAnni.apply(math.floor))\n",
    "age_max = max(data.EtaAnni.apply(math.floor))+1\n",
    "plt0 = data.EtaAnni.hist(bins=range(age_min,age_max), \n",
    "                         align=\"left\", grid=True,)\n",
    "plt0 = plt0.set_xticks(list(range(0,16)))"
   ]
  },
  {
   "cell_type": "markdown",
   "metadata": {},
   "source": [
    "l'istogramma del'età presenta una forte assimetria a destra.  \n",
    "Questo significa che l'ambulatorio registra più frequentemente cani di età elevata,  \n",
    "il che è estremamente ragionevole dato che questi sono sicuramente più soggetti a malattie.  \n",
    "\n",
    "A.3.2. Descrivere l’età dei pazienti compilando la Tabella 1, in cui scegliere un opportuno indice di centralità e un opportuno indice di dispersione"
   ]
  },
  {
   "cell_type": "code",
   "execution_count": 4,
   "metadata": {},
   "outputs": [
    {
     "name": "stdout",
     "output_type": "stream",
     "text": [
      "min    : 1.22\n",
      "median : 12.55\n",
      "IQR    : 3.17\n",
      "max    : 16.84\n"
     ]
    }
   ],
   "source": [
    "print(\"min    :\", data.EtaAnni.min())\n",
    "print(\"median :\", data.EtaAnni.median())\n",
    "print(\"IQR    :\", data.EtaAnni.quantile(0.75)\n",
    "      -data.EtaAnni.quantile(0.25))\n",
    "print(\"max    :\", data.EtaAnni.max())"
   ]
  },
  {
   "cell_type": "markdown",
   "metadata": {},
   "source": [
    "A.3.3. Quanti sono i pazienti di età compresa nell’intervallo tra i 12 e i 13 anni, estremo inferiore incluso ed estremo superiore escluso ?  \n",
    "A.3.4. Quanti anni ha il cane più anziano?  \n",
    "A.3.5. Qual è la fascia di età maggiormente rappresentata? Si risponda con un intervallo chiuso a sinistra e aperto a destra."
   ]
  },
  {
   "cell_type": "code",
   "execution_count": 5,
   "metadata": {},
   "outputs": [
    {
     "name": "stdout",
     "output_type": "stream",
     "text": [
      "A.3.3: 32\n",
      "A.3.4: 16.84\n",
      "A.3.5: [12,13)\n"
     ]
    }
   ],
   "source": [
    "print(\"A.3.3:\",data.loc[(data.EtaAnni < 13) & (data.EtaAnni >= 12),\n",
    "              :].__len__())\n",
    "print(\"A.3.4:\",data.EtaAnni.max())\n",
    "print(\"A.3.5:\",\"[12,13)\")"
   ]
  },
  {
   "cell_type": "markdown",
   "metadata": {},
   "source": [
    "A.4. Consideriamo le variabili MORTE e MC.  \n",
    "A.4.1. Quanti cani sono deceduti?"
   ]
  },
  {
   "cell_type": "code",
   "execution_count": 73,
   "metadata": {},
   "outputs": [
    {
     "name": "stdout",
     "output_type": "stream",
     "text": [
      "118\n",
      "118\n"
     ]
    }
   ],
   "source": [
    "print(len(data.loc[data.MORTE == 1,:]))\n",
    "print(data.loc[data.MORTE == 1,:].__len__())\n"
   ]
  },
  {
   "cell_type": "markdown",
   "metadata": {},
   "source": [
    "4.2. Nell’inserire le informazioni riguardo a un cane deceduto, l’operatore ha sempre specificato se la morte è avvenuta per cause cardiache o per altre cause? \n",
    "Se larisposta è \"no\", in quanti casi (sempre relativamente ai cani deceduti) l’operatore ha omesso tale informazione?  \n",
    "l'operatore non ha sempre specificato l'argomento di MC, infatti, per alcune righe MC è lasciato come ``NA``."
   ]
  },
  {
   "cell_type": "code",
   "execution_count": 6,
   "metadata": {},
   "outputs": [
    {
     "data": {
      "text/plain": [
       "46"
      ]
     },
     "execution_count": 6,
     "metadata": {},
     "output_type": "execute_result"
    }
   ],
   "source": [
    "data.loc[pandas.isna(data.MC), ].__len__()"
   ]
  },
  {
   "cell_type": "markdown",
   "metadata": {},
   "source": [
    "A.4.3. Controllare che non ci siano nei dati incongruenze riguardo alla morte, ovvero che non ci siano casi per i quali il cane risulta vivo ma morto di morte cardiaca."
   ]
  },
  {
   "cell_type": "code",
   "execution_count": 6,
   "metadata": {},
   "outputs": [
    {
     "data": {
      "text/plain": [
       "0"
      ]
     },
     "execution_count": 6,
     "metadata": {},
     "output_type": "execute_result"
    }
   ],
   "source": [
    "data.loc[(~ pandas.isna(data.MC)) & (data.MC == 1) & \n",
    "         (data.MORTE == 0),:].__len__()"
   ]
  },
  {
   "cell_type": "markdown",
   "metadata": {},
   "source": [
    "non ci sono incongruenze.  \n",
    "A.4.5. Tra le morti avvenute, quale percentuale è stata per cause cardiache?"
   ]
  },
  {
   "cell_type": "code",
   "execution_count": 7,
   "metadata": {},
   "outputs": [
    {
     "name": "stdout",
     "output_type": "stream",
     "text": [
      "75.65217391304348%\n"
     ]
    }
   ],
   "source": [
    "casi_favorevoli = data.loc[(~ pandas.isna(data.MC)) &\n",
    "                           (data.MC == 1)   ,:].__len__()\n",
    "casi_totali     = data.loc[(~ pandas.isna(data.MC)) &\n",
    "                           (data.MORTE == 1),:].__len__()\n",
    "print(casi_favorevoli*100/casi_totali,\"%\",sep=\"\")"
   ]
  },
  {
   "cell_type": "markdown",
   "metadata": {},
   "source": [
    "A.5. La variabile GravitaIP è un indice di gravità dell’ipertensione.  \n",
    "A.5.1. Si tratta di un carattere scalare, ordinale oppure nominale?  \n",
    "A.5.2. Quali valori può assumere?"
   ]
  },
  {
   "cell_type": "code",
   "execution_count": 9,
   "metadata": {},
   "outputs": [
    {
     "data": {
      "text/plain": [
       "array([0, 1, 2, 3])"
      ]
     },
     "execution_count": 9,
     "metadata": {},
     "output_type": "execute_result"
    }
   ],
   "source": [
    "data.GravitaIP.unique()"
   ]
  },
  {
   "cell_type": "markdown",
   "metadata": {},
   "source": [
    "A.5.1: è ordinale in quanto rappresenta un ordinamento sulla gravità.  \n",
    "A.5.2: può assumere valori 0,1,2,3\n",
    "\n",
    "A.5.3. Produrre la tabella delle frequenze relative di GravitaIP."
   ]
  },
  {
   "cell_type": "code",
   "execution_count": 9,
   "metadata": {},
   "outputs": [
    {
     "data": {
      "text/plain": [
       "0    103\n",
       "1     29\n",
       "2     18\n",
       "3     11\n",
       "Name: GravitaIP, dtype: int64"
      ]
     },
     "execution_count": 9,
     "metadata": {},
     "output_type": "execute_result"
    }
   ],
   "source": [
    "relative_freq = data.GravitaIP.value_counts()\n",
    "/sum(data.GravitaIP.value_counts())\n",
    "relative_freq"
   ]
  },
  {
   "cell_type": "markdown",
   "metadata": {},
   "source": [
    "A.5.4. Tracciare un grafico opportuno per descrivere la gravità dell’ipertensione."
   ]
  },
  {
   "cell_type": "code",
   "execution_count": 10,
   "metadata": {},
   "outputs": [
    {
     "data": {
      "image/png": "[encoded data removed]",
      "text/plain": [
       "<Figure size 1080x360 with 2 Axes>"
      ]
     },
     "metadata": {},
     "output_type": "display_data"
    }
   ],
   "source": [
    "fig, ax = plt.subplots(nrows=1, ncols=2)\n",
    "fig.set_size_inches(15,5)\n",
    "relative_freq.index = list(relative_freq.apply(lambda x: \n",
    "                                        str(x)[:6]))\n",
    "plt0 = relative_freq.plot.pie(ax = ax[0])\n",
    "plt0 = plt0.legend([\"0\",\"1\",\"2\",\"3\"])\n",
    "\n",
    "relative_freq.index = [\"0\",\"1\",\"2\",\"3\"]\n",
    "plt1 = relative_freq.plot.bar(ax = ax[1])\n",
    "plt1 = plt1.legend()"
   ]
  },
  {
   "cell_type": "markdown",
   "metadata": {},
   "source": [
    "Essendo solamente 4 i possibili valori di ``GravitàIP``,\n",
    "I grafici più adeguati sono quello a torta e quello a barre."
   ]
  },
  {
   "cell_type": "markdown",
   "metadata": {},
   "source": [
    "A.6. Consideriamo l’assunzione di farmaci antiaritmici e la morte per cause cardiache.  \n",
    "A.6.1. Produrre la tabella delle frequenze assolute del carattere Antiaritmico.  \n",
    "A.6.2. Quanti sono i cani che assumono un farmaco antiaritmico?"
   ]
  },
  {
   "cell_type": "code",
   "execution_count": 91,
   "metadata": {},
   "outputs": [
    {
     "name": "stdout",
     "output_type": "stream",
     "text": [
      "A.6.1:\n",
      "NO    150\n",
      "SI     11\n",
      "Name: Antiaritmico, dtype: int64\n",
      "A.6.2:\n",
      "11\n"
     ]
    }
   ],
   "source": [
    "print(\"A.6.1:\")\n",
    "print(data.Antiaritmico.value_counts())\n",
    "print(\"A.6.2:\")\n",
    "print(data.loc[data.Antiaritmico == \"SI\",:].__len__())"
   ]
  },
  {
   "cell_type": "markdown",
   "metadata": {},
   "source": [
    "A.6.3. Il carattere Antiaritmico è categorico. Volendolo convertire in un carattere numerico, con quale valore numerico mettereste in corrispondenza valore \"SI\"? Con quale il\"NO\"?  \n",
    "rispettivamente 1 e 0 sembra una buona scelta. \n",
    "\n",
    "A.6.4. Produrre la tabella delle frequenze assolute congiunte dei caratteri Antiaritmico e MC."
   ]
  },
  {
   "cell_type": "code",
   "execution_count": 13,
   "metadata": {},
   "outputs": [
    {
     "data": {
      "text/html": [
       "<div>\n",
       "<style scoped>\n",
       "    .dataframe tbody tr th:only-of-type {\n",
       "        vertical-align: middle;\n",
       "    }\n",
       "\n",
       "    .dataframe tbody tr th {\n",
       "        vertical-align: top;\n",
       "    }\n",
       "\n",
       "    .dataframe thead th {\n",
       "        text-align: right;\n",
       "    }\n",
       "</style>\n",
       "<table border=\"1\" class=\"dataframe\">\n",
       "  <thead>\n",
       "    <tr style=\"text-align: right;\">\n",
       "      <th>MC</th>\n",
       "      <th>0.0</th>\n",
       "      <th>1.0</th>\n",
       "    </tr>\n",
       "    <tr>\n",
       "      <th>Antiaritmico</th>\n",
       "      <th></th>\n",
       "      <th></th>\n",
       "    </tr>\n",
       "  </thead>\n",
       "  <tbody>\n",
       "    <tr>\n",
       "      <th>NO</th>\n",
       "      <td>28</td>\n",
       "      <td>78</td>\n",
       "    </tr>\n",
       "    <tr>\n",
       "      <th>SI</th>\n",
       "      <td>0</td>\n",
       "      <td>9</td>\n",
       "    </tr>\n",
       "  </tbody>\n",
       "</table>\n",
       "</div>"
      ],
      "text/plain": [
       "MC            0.0  1.0\n",
       "Antiaritmico          \n",
       "NO             28   78\n",
       "SI              0    9"
      ]
     },
     "execution_count": 13,
     "metadata": {},
     "output_type": "execute_result"
    }
   ],
   "source": [
    "frequenze_congiunte = pandas.crosstab(data.Antiaritmico,data.MC) \n",
    "frequenze_congiunte"
   ]
  },
  {
   "cell_type": "markdown",
   "metadata": {},
   "source": [
    "A.6.5. Quale percentuale dei cani morti per cause cardiache assumeva un farmaco antiaritmico?"
   ]
  },
  {
   "cell_type": "code",
   "execution_count": 14,
   "metadata": {},
   "outputs": [
    {
     "name": "stdout",
     "output_type": "stream",
     "text": [
      "10.344827586206897 %\n"
     ]
    }
   ],
   "source": [
    "casi_totali     = sum(frequenze_congiunte.loc[:,1])\n",
    "casi_favorevoli = frequenze_congiunte.loc[\"SI\",1]\n",
    "print(casi_favorevoli*100/casi_totali,\"%\")"
   ]
  },
  {
   "cell_type": "markdown",
   "metadata": {},
   "source": [
    "A.7. Il carattere SURVIVALTIME (tempo di sopravvivenza) ci dice per quanti giorni il paziente è rimasto in vita a partire dalla prima visita presso l’ambulatorio. Come mostratonei grafici di Figura 1, la distribuzione delle frequenze del tempo di sopravvivenza ha un aspetto molto diverso se si considera rispetto ai cani ancora in vita oppure a quelli morti. Potete rispondere alle seguenti due domande semplicemente ispezionando i graficidi Figura 1, considerando un anno costituito da 365 giorni.\n",
    "\n",
    "A.7.1. Quale percentuale di cani tuttora vivi è in cura presso l’ambulatorio da meno di un anno?"
   ]
  },
  {
   "cell_type": "code",
   "execution_count": 11,
   "metadata": {},
   "outputs": [
    {
     "name": "stdout",
     "output_type": "stream",
     "text": [
      "65.11627906976744 %\n"
     ]
    }
   ],
   "source": [
    "casi_favorevoli = len(data.loc[(data.MORTE==0) & \n",
    "                (data.SURVIVALTIME <= 365),\"SURVIVALTIME\"])\n",
    "casi_totali     = len(data.loc[data.MORTE==0,\"SURVIVALTIME\"])\n",
    "print(casi_favorevoli*100/casi_totali,\"%\")"
   ]
  },
  {
   "cell_type": "markdown",
   "metadata": {},
   "source": [
    "A.7.2. Quale percentuale di cani deceduti è sopravvissuta più di 3 anni?"
   ]
  },
  {
   "cell_type": "code",
   "execution_count": 12,
   "metadata": {},
   "outputs": [
    {
     "name": "stdout",
     "output_type": "stream",
     "text": [
      "10.169491525423728 %\n"
     ]
    }
   ],
   "source": [
    "casi_favorevoli = data.loc[(data.MORTE == 1) & \n",
    "             (data.SURVIVALTIME > 365*3), :].__len__()\n",
    "casi_totali     = data.loc[data.MORTE == 1, :].__len__()\n",
    "print(casi_favorevoli*100/casi_totali,\"%\")"
   ]
  },
  {
   "cell_type": "markdown",
   "metadata": {},
   "source": [
    "A.7.3. Tracciare un grafico opportuno per descrivere il tempo di sopravvivenza."
   ]
  },
  {
   "cell_type": "code",
   "execution_count": 13,
   "metadata": {},
   "outputs": [
    {
     "data": {
      "image/png": "[encoded data removed]",
      "text/plain": [
       "<Figure size 1080x360 with 2 Axes>"
      ]
     },
     "metadata": {},
     "output_type": "display_data"
    }
   ],
   "source": [
    "fig, ax = plt.subplots(nrows=1, ncols=2)\n",
    "fig.set_size_inches(15,5)\n",
    "plt0 = data.SURVIVALTIME.hist(bins=range(0,3000)[0:3000:365],\n",
    "                              ax=ax[0])\n",
    "plt1 = data.SURVIVALTIME.plot.box(ax=ax[1])"
   ]
  },
  {
   "cell_type": "markdown",
   "metadata": {},
   "source": [
    "7.4. La Figura 2(a) mostra il boxplot del tempo di sopravvivenza dei cani del dataset. Completare il grafico con il valore numerico degli estremi dellascatola."
   ]
  },
  {
   "cell_type": "code",
   "execution_count": 18,
   "metadata": {},
   "outputs": [
    {
     "name": "stdout",
     "output_type": "stream",
     "text": [
      "113.0\n",
      "711.0\n"
     ]
    }
   ],
   "source": [
    "print(data.SURVIVALTIME.quantile(0.25))\n",
    "print(data.SURVIVALTIME.quantile(0.75))"
   ]
  },
  {
   "cell_type": "markdown",
   "metadata": {},
   "source": [
    "A.7.5. Quanti animali sono compresi all’interno della scatola(estremi inclusi)?"
   ]
  },
  {
   "cell_type": "code",
   "execution_count": 14,
   "metadata": {},
   "outputs": [
    {
     "data": {
      "text/plain": [
       "81"
      ]
     },
     "execution_count": 14,
     "metadata": {},
     "output_type": "execute_result"
    }
   ],
   "source": [
    "data.loc[(~data.SURVIVALTIME.isna()) & (data.SURVIVALTIME <= 711) & \n",
    "         (data.SURVIVALTIME >= 113),].__len__()"
   ]
  },
  {
   "cell_type": "markdown",
   "metadata": {},
   "source": [
    "A.7.6. Tracciare un grafico opportuno, diverso dal boxplot, che descriva bene il tempo disopravvivenza dei cani considerati."
   ]
  },
  {
   "cell_type": "code",
   "execution_count": 15,
   "metadata": {},
   "outputs": [
    {
     "data": {
      "image/png": "[encoded data removed]",
      "text/plain": [
       "<Figure size 1080x360 with 2 Axes>"
      ]
     },
     "metadata": {},
     "output_type": "display_data"
    }
   ],
   "source": [
    "fig, ax = plt.subplots(nrows=1, ncols=2)\n",
    "fig.set_size_inches(15,5)\n",
    "\n",
    "plt0 = data.SURVIVALTIME.hist(bins=range(0,3000)[0:3000:365], \n",
    "                              ax=ax[0], grid=False)\n",
    "\n",
    "# più leggibile\n",
    "plt1 = data.SURVIVALTIME.hist(bins=range(0,3000)[0:3000:365], \n",
    "                              ax=ax[1], grid=False)\n",
    "plt1 = plt1.set_xticklabels(range(0,3000)[0:3000:365])"
   ]
  },
  {
   "cell_type": "markdown",
   "metadata": {},
   "source": [
    "A.7.7. Suggerite un modello teorico a voi noto che possa spiegare l’andamento aleatorio della variabile casuale X=\"Tempo di sopravvivenza dei cani che frequentano (ofrequenteranno) l’ambulatorio\". Giustificate la risposta.  \n",
    "è decrescente, potrebbe essere una geometrica o una esponenziale\n",
    "\n",
    "A.7.8. Calcolate il tempo di sopravvivenza medio."
   ]
  },
  {
   "cell_type": "code",
   "execution_count": 21,
   "metadata": {},
   "outputs": [
    {
     "data": {
      "text/plain": [
       "459.888198757764"
      ]
     },
     "execution_count": 21,
     "metadata": {},
     "output_type": "execute_result"
    }
   ],
   "source": [
    "data.SURVIVALTIME.mean()"
   ]
  },
  {
   "cell_type": "markdown",
   "metadata": {},
   "source": [
    "A.7.9. Calcolate la deviazione standard del tempo di sopravvivenza."
   ]
  },
  {
   "cell_type": "code",
   "execution_count": 22,
   "metadata": {},
   "outputs": [
    {
     "data": {
      "text/plain": [
       "467.19670634793675"
      ]
     },
     "execution_count": 22,
     "metadata": {},
     "output_type": "execute_result"
    }
   ],
   "source": [
    "data.SURVIVALTIME.std()"
   ]
  },
  {
   "cell_type": "markdown",
   "metadata": {},
   "source": [
    "A.8. Consideriamo il carattere Allodiast.  \n",
    "A.8.1. Controllare se esso può essere considerato normale."
   ]
  },
  {
   "cell_type": "code",
   "execution_count": 23,
   "metadata": {},
   "outputs": [
    {
     "name": "stdout",
     "output_type": "stream",
     "text": [
      "2.013354037267081\n",
      "2.0\n"
     ]
    },
    {
     "data": {
      "image/png": "[encoded data removed]",
      "text/plain": [
       "<Figure size 1080x360 with 2 Axes>"
      ]
     },
     "metadata": {
      "needs_background": "light"
     },
     "output_type": "display_data"
    }
   ],
   "source": [
    "import scipy.stats as stats\n",
    "import numpy as np\n",
    "fig, ax = plt.subplots(nrows=1, ncols=2)\n",
    "fig.set_size_inches(15,5)\n",
    "\n",
    "data.Allodiast.hist(bins=np.arange(1,3,0.1), ax=ax[0]) \n",
    "\n",
    "print(data.Allodiast.mean())\n",
    "print(data.Allodiast.median())\n",
    "\n",
    "plot = stats.probplot(data.Allodiast, dist=\"norm\", plot=ax[1])"
   ]
  },
  {
   "cell_type": "markdown",
   "metadata": {},
   "source": [
    "media e mediana sono simili -> favore alla normalità.  \n",
    "dall'istogramma si vede una certa simmetria.  \n",
    "dal qqplot c'è una buona aderenza alla normalità meno nelle code.  \n",
    "\n",
    "8.2. Controllare che nell’intervallo di semi ampiezza 2 deviazioni standard e centrato sulla media risiede circa il 96% delle osservazioni per tale carattere."
   ]
  },
  {
   "cell_type": "code",
   "execution_count": 24,
   "metadata": {},
   "outputs": [
    {
     "name": "stdout",
     "output_type": "stream",
     "text": [
      "96.27329192546584\n"
     ]
    }
   ],
   "source": [
    "from scipy import stats\n",
    "\n",
    "media = data.Allodiast.mean(skipna=True)\n",
    "devst = data.Allodiast.std(skipna=True)\n",
    "mul   =  2\n",
    "\n",
    "p1 = stats.percentileofscore(data.Allodiast, media + mul*devst)\n",
    "p2 = stats.percentileofscore(data.Allodiast, media - mul*devst)\n",
    "\n",
    "print(p1-p2)"
   ]
  },
  {
   "cell_type": "markdown",
   "metadata": {},
   "source": [
    "Per conclude ``Allodiast`` non è normale, ma si comporta come tale vicino alla media (cioè fino a due deviazioni standard dalla media).\n",
    "\n",
    "A.9. I caratteri EDVI e Allodiast sono indipendenti? Motivare la risposta, anche con l’ausilio di un grafico."
   ]
  },
  {
   "cell_type": "code",
   "execution_count": 25,
   "metadata": {},
   "outputs": [
    {
     "data": {
      "text/html": [
       "<div>\n",
       "<style scoped>\n",
       "    .dataframe tbody tr th:only-of-type {\n",
       "        vertical-align: middle;\n",
       "    }\n",
       "\n",
       "    .dataframe tbody tr th {\n",
       "        vertical-align: top;\n",
       "    }\n",
       "\n",
       "    .dataframe thead th {\n",
       "        text-align: right;\n",
       "    }\n",
       "</style>\n",
       "<table border=\"1\" class=\"dataframe\">\n",
       "  <thead>\n",
       "    <tr style=\"text-align: right;\">\n",
       "      <th></th>\n",
       "      <th>EDVI</th>\n",
       "      <th>Allodiast</th>\n",
       "    </tr>\n",
       "  </thead>\n",
       "  <tbody>\n",
       "    <tr>\n",
       "      <th>EDVI</th>\n",
       "      <td>1.000000</td>\n",
       "      <td>0.907304</td>\n",
       "    </tr>\n",
       "    <tr>\n",
       "      <th>Allodiast</th>\n",
       "      <td>0.907304</td>\n",
       "      <td>1.000000</td>\n",
       "    </tr>\n",
       "  </tbody>\n",
       "</table>\n",
       "</div>"
      ],
      "text/plain": [
       "               EDVI  Allodiast\n",
       "EDVI       1.000000   0.907304\n",
       "Allodiast  0.907304   1.000000"
      ]
     },
     "execution_count": 25,
     "metadata": {},
     "output_type": "execute_result"
    },
    {
     "data": {
      "image/png": "[encoded data removed]",
      "text/plain": [
       "<Figure size 432x288 with 1 Axes>"
      ]
     },
     "metadata": {
      "needs_background": "light"
     },
     "output_type": "display_data"
    }
   ],
   "source": [
    "plt0 = data.plot.scatter(\"EDVI\",\"Allodiast\")\n",
    "data.loc[:, [\"EDVI\",\"Allodiast\"]].corr()"
   ]
  },
  {
   "cell_type": "markdown",
   "metadata": {},
   "source": [
    "c'è infetti una relazione lineare tra ``EDVI`` e ``Allodiast``  .  \n",
    "Infatti, all'aumentare di uno aumenta anche l'altro.\n",
    "\n",
    "## Esercizio B\n",
    "\n",
    "Create una variabile che contenga la parte di dataset relativa ai cani morti e considerando soltanto i casi in cui sia il carattere MC, sia il carattere OndaEA non siano mancanti. Nel presente esercizio le domande si riferiranno esclusivamente a questo sottoinsieme di casi."
   ]
  },
  {
   "cell_type": "code",
   "execution_count": 18,
   "metadata": {},
   "outputs": [],
   "source": [
    "dataB = data.loc[(data.MORTE==1) & (~data.MC.isna() )& \n",
    "                 (~data.OndaEA.isna()),:]"
   ]
  },
  {
   "cell_type": "markdown",
   "metadata": {},
   "source": [
    "B.1. L’OndaEA è un carattere scalare oppure ordinale?  \n",
    "E' un carattere scalare"
   ]
  },
  {
   "cell_type": "code",
   "execution_count": 27,
   "metadata": {},
   "outputs": [
    {
     "data": {
      "image/png": "[encoded data removed]",
      "text/plain": [
       "<Figure size 432x288 with 1 Axes>"
      ]
     },
     "metadata": {
      "needs_background": "light"
     },
     "output_type": "display_data"
    }
   ],
   "source": [
    "plt0 = dataB.OndaEA.plot.box(title = \"Onda EA\")"
   ]
  },
  {
   "cell_type": "markdown",
   "metadata": {},
   "source": [
    "B.3. Il grafico ottenuto dovrebbe mostrare la presenza di un outlier. Determinare il valore diOndaEAper tale individuo."
   ]
  },
  {
   "cell_type": "code",
   "execution_count": 28,
   "metadata": {},
   "outputs": [
    {
     "data": {
      "text/plain": [
       "4.19"
      ]
     },
     "execution_count": 28,
     "metadata": {},
     "output_type": "execute_result"
    }
   ],
   "source": [
    "dataB.loc[dataB.OndaEA == dataB.OndaEA.max(),:].OndaEA.to_list()[0]"
   ]
  },
  {
   "cell_type": "markdown",
   "metadata": {},
   "source": [
    "B.4. L’outlier individuato è un cane morto per cause cardiache oppure no?"
   ]
  },
  {
   "cell_type": "code",
   "execution_count": 29,
   "metadata": {},
   "outputs": [
    {
     "data": {
      "text/plain": [
       "1.0"
      ]
     },
     "execution_count": 29,
     "metadata": {},
     "output_type": "execute_result"
    }
   ],
   "source": [
    "dataB.loc[dataB.OndaEA == max(dataB.OndaEA),:].MC.to_list()[0]"
   ]
  },
  {
   "cell_type": "markdown",
   "metadata": {},
   "source": [
    "B.5. Si controlli che il terzo quartile, chiamiamolo s, dell’OndaEA relativamente ai cani deceduti per cause non cardiache è 1.41."
   ]
  },
  {
   "cell_type": "code",
   "execution_count": 19,
   "metadata": {},
   "outputs": [],
   "source": [
    "s = dataB.loc[dataB.MC==0,\"OndaEA\"].dropna().quantile(0.75)"
   ]
  },
  {
   "cell_type": "markdown",
   "metadata": {},
   "source": [
    "B.6. Quanti sono i cani deceduti per cause cardiache? Quanti per altre cause?"
   ]
  },
  {
   "cell_type": "code",
   "execution_count": 31,
   "metadata": {},
   "outputs": [
    {
     "name": "stdout",
     "output_type": "stream",
     "text": [
      "66\n",
      "17\n"
     ]
    }
   ],
   "source": [
    "print(dataB.loc[dataB.MC==1,:].__len__())\n",
    "print(dataB.loc[dataB.MC==0,:].__len__())"
   ]
  },
  {
   "cell_type": "markdown",
   "metadata": {},
   "source": [
    "B.7. All’interno del dataset che stiamo considerando, quanti cani deceduti per cause cardiache avevano il valore di OndaEA ≥ s? E quanti cani deceduti per cause non cardiache avevano il valore di OndaEA < s?"
   ]
  },
  {
   "cell_type": "code",
   "execution_count": 32,
   "metadata": {},
   "outputs": [
    {
     "name": "stdout",
     "output_type": "stream",
     "text": [
      "41\n",
      "12\n"
     ]
    }
   ],
   "source": [
    "print(dataB.loc[(dataB.MC==1) & (dataB.OndaEA >= s),: ].__len__())\n",
    "print(dataB.loc[(dataB.MC==0) & (dataB.OndaEA <  s),: ].__len__())"
   ]
  },
  {
   "cell_type": "markdown",
   "metadata": {},
   "source": [
    "B.8. Utilizziamo il valorestrovato al punto 5. come soglia per un classificatore binario chediscrimina tra morte cardiaca e morte non cardiaca: il classificatore classificherà come morte cardiaca i casi per i quali OndaEA ≥ s e come morte non cardiaca i casi per i quali OndaEA < s. Calcolare la sensibilità e la specificità di questo classificatore."
   ]
  },
  {
   "cell_type": "code",
   "execution_count": 33,
   "metadata": {},
   "outputs": [
    {
     "name": "stdout",
     "output_type": "stream",
     "text": [
      "0.6212121212121212\n",
      "0.7058823529411765\n",
      "0.2941176470588235\n"
     ]
    }
   ],
   "source": [
    "TP = dataB.loc[(dataB.MC==1) & (dataB.OndaEA >= s),:].__len__()\n",
    "FP = dataB.loc[(dataB.MC==0) & (dataB.OndaEA >= s),:].__len__()\n",
    "TN = dataB.loc[(dataB.MC==0) & (dataB.OndaEA <  s),:].__len__()\n",
    "FN = dataB.loc[(dataB.MC==1) & (dataB.OndaEA <  s),:].__len__()\n",
    "sensibilita = TP / ( TP + FN )\n",
    "specificita = TN / ( FP + TN )\n",
    "print(sensibilita)   # True positive rate TPR\n",
    "print(specificita)   # True negative rate TNR\n",
    "print(1-specificita) # False positive rate FPR"
   ]
  },
  {
   "cell_type": "markdown",
   "metadata": {},
   "source": [
    "B.9. Tracciare il grafico della curva ROC per il classificatore individuato nei punti precedenti, basato sul carattere OndaEA."
   ]
  },
  {
   "cell_type": "code",
   "execution_count": 23,
   "metadata": {},
   "outputs": [
    {
     "data": {
      "image/png": "[encoded data removed]",
      "text/plain": [
       "<Figure size 432x288 with 1 Axes>"
      ]
     },
     "metadata": {},
     "output_type": "display_data"
    }
   ],
   "source": [
    "import numpy as np\n",
    "soglie = sorted(data.OndaEA.dropna().unique())\n",
    "sensibilita = []\n",
    "specificita = []\n",
    "for s in soglie:\n",
    "    TP = dataB.loc[(~pandas.isna(dataB.MC)) & \n",
    "      (~pandas.isna(dataB.OndaEA)) & (dataB.MC==1) \n",
    "      & (dataB.OndaEA >= s),:].__len__()\n",
    "    FP = dataB.loc[(~pandas.isna(dataB.MC)) & \n",
    "        (~pandas.isna(dataB.OndaEA)) & (dataB.MC==0) & \n",
    "                   (dataB.OndaEA >= s),:].__len__()\n",
    "    TN = dataB.loc[(~pandas.isna(dataB.MC)) & \n",
    "                   (~pandas.isna(dataB.OndaEA)) & \n",
    "            (dataB.MC==0) & (dataB.OndaEA <  s),:].__len__()\n",
    "    FN = dataB.loc[(~pandas.isna(dataB.MC)) &\n",
    "                   (~pandas.isna(dataB.OndaEA)) & \n",
    "            (dataB.MC==1) & (dataB.OndaEA <  s),:].__len__()\n",
    "    sensibilita.append(TP / ( TP + FN ))\n",
    "    specificita.append(TN / ( FP + TN ))\n",
    "\n",
    "    \n",
    "    \n",
    "plt0 = plt.plot(1-np.array(specificita), np.array(sensibilita))\n",
    "plt0 = plt.plot([0,1],[0,1])\n",
    "#plot(1-specificita,sensibilita,type = \"l\",xlab = \"FPR\",ylab = \n",
    "#\"TPR\", col=\"blue\")\n",
    "#lines(c(0,1),c(0,1),type=\"l\",col=\"grey\")"
   ]
  },
  {
   "cell_type": "code",
   "execution_count": null,
   "metadata": {},
   "outputs": [],
   "source": []
  }
 ],
 "metadata": {
  "kernelspec": {
   "display_name": "Python 3",
   "language": "python",
   "name": "python3"
  },
  "language_info": {
   "codemirror_mode": {
    "name": "ipython",
    "version": 3
   },
   "file_extension": ".py",
   "mimetype": "text/x-python",
   "name": "python",
   "nbconvert_exporter": "python",
   "pygments_lexer": "ipython3",
   "version": "3.6.10"
  }
 },
 "nbformat": 4,
 "nbformat_minor": 4
}
