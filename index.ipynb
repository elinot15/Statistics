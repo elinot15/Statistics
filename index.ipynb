{
 "cells": [
  {
   "cell_type": "markdown",
   "metadata": {},
   "source": [
    "\n",
    "\n",
    "# Statistica e analisi dei dati\n",
    "### Dario Malchiodi\n"
   ]
  },
  {
   "cell_type": "markdown",
   "metadata": {},
   "source": [
    "# [Introduzione a python](L01-Introduzione_a_python.ipynb#h-0)"
   ]
  },
  {
   "cell_type": "markdown",
   "metadata": {},
   "source": [
    "## [I tipi di dati in python](L01-Introduzione_a_python.ipynb#h-1)"
   ]
  },
  {
   "cell_type": "markdown",
   "metadata": {},
   "source": [
    "### [Le liste](L01-Introduzione_a_python.ipynb#h-2)"
   ]
  },
  {
   "cell_type": "markdown",
   "metadata": {},
   "source": [
    "### [Operatori, funzioni e metodi per le liste](L01-Introduzione_a_python.ipynb#h-3)"
   ]
  },
  {
   "cell_type": "markdown",
   "metadata": {},
   "source": [
    "### [Le tuple\n",
    "](L01-Introduzione_a_python.ipynb#h-4)"
   ]
  },
  {
   "cell_type": "markdown",
   "metadata": {},
   "source": [
    "### [Le stringhe\n",
    "](L01-Introduzione_a_python.ipynb#h-5)"
   ]
  },
  {
   "cell_type": "markdown",
   "metadata": {},
   "source": [
    "### [Gli insiemi\n",
    "](L01-Introduzione_a_python.ipynb#h-6)"
   ]
  },
  {
   "cell_type": "markdown",
   "metadata": {},
   "source": [
    "### [I dizionari\n",
    "](L01-Introduzione_a_python.ipynb#h-7)"
   ]
  },
  {
   "cell_type": "markdown",
   "metadata": {},
   "source": [
    "## [Strutture di controllo\n",
    "](L01-Introduzione_a_python.ipynb#h-8)"
   ]
  },
  {
   "cell_type": "markdown",
   "metadata": {},
   "source": [
    "## [Funzioni\n",
    "](L01-Introduzione_a_python.ipynb#h-9)"
   ]
  },
  {
   "cell_type": "markdown",
   "metadata": {},
   "source": [
    "## [Importare moduli\n",
    "](L01-Introduzione_a_python.ipynb#h-10)"
   ]
  },
  {
   "cell_type": "markdown",
   "metadata": {},
   "source": [
    "## [Disegnare grafici\n",
    "](L01-Introduzione_a_python.ipynb#h-11)"
   ]
  },
  {
   "cell_type": "markdown",
   "metadata": {},
   "source": [
    "## [Leggere dati da file (e un po' di trucchi)\n",
    "](L01-Introduzione_a_python.ipynb#h-12)"
   ]
  },
  {
   "cell_type": "markdown",
   "metadata": {},
   "source": [
    "# [Pandas\n",
    "](L02-Pandas.ipynb#h-0)"
   ]
  },
  {
   "cell_type": "markdown",
   "metadata": {},
   "source": [
    "## [Serie\n",
    "](L02-Pandas.ipynb#h-1)"
   ]
  },
  {
   "cell_type": "markdown",
   "metadata": {},
   "source": [
    "## [Visualizzione grafica di una serie\n",
    "](L02-Pandas.ipynb#h-2)"
   ]
  },
  {
   "cell_type": "markdown",
   "metadata": {},
   "source": [
    "## [Operazioni con le serie\n",
    "](L02-Pandas.ipynb#h-3)"
   ]
  },
  {
   "cell_type": "markdown",
   "metadata": {},
   "source": [
    "## [Dataframe\n",
    "](L02-Pandas.ipynb#h-4)"
   ]
  },
  {
   "cell_type": "markdown",
   "metadata": {},
   "source": [
    "# [Dati e frequenze\n",
    "](L03-Dati_e_frequenze.ipynb#h-0)"
   ]
  },
  {
   "cell_type": "markdown",
   "metadata": {},
   "source": [
    "## [Dati quantitativi e qualitativi\n",
    "](L03-Dati_e_frequenze.ipynb#h-1)"
   ]
  },
  {
   "cell_type": "markdown",
   "metadata": {},
   "source": [
    "### [Classificazione dei dati qualitativi\n",
    "](L03-Dati_e_frequenze.ipynb#h-2)"
   ]
  },
  {
   "cell_type": "markdown",
   "metadata": {},
   "source": [
    "### [Classificazione dei dati quantitativi\n",
    "](L03-Dati_e_frequenze.ipynb#h-3)"
   ]
  },
  {
   "cell_type": "markdown",
   "metadata": {},
   "source": [
    "## [Frequenze assolute e relative e loro visualizzazione\n",
    "](L03-Dati_e_frequenze.ipynb#h-4)"
   ]
  },
  {
   "cell_type": "markdown",
   "metadata": {},
   "source": [
    "## [Frequenze cumulate\n",
    "](L03-Dati_e_frequenze.ipynb#h-5)"
   ]
  },
  {
   "cell_type": "markdown",
   "metadata": {},
   "source": [
    "### [Diagrammi di Pareto ###\n",
    "](L03-Dati_e_frequenze.ipynb#h-6)"
   ]
  },
  {
   "cell_type": "markdown",
   "metadata": {},
   "source": [
    "## [Frequenze congiunte e marginali\n",
    "](L03-Dati_e_frequenze.ipynb#h-7)"
   ]
  },
  {
   "cell_type": "markdown",
   "metadata": {},
   "source": [
    "## [Alcuni approfondimenti sulla generazione dei grafici <sup>*</sup>\n",
    "](L03-Dati_e_frequenze.ipynb#h-8)"
   ]
  },
  {
   "cell_type": "markdown",
   "metadata": {},
   "source": [
    "## [I diagrammi stelo-foglia <sup>*</sup>\n",
    "](L03-Dati_e_frequenze.ipynb#h-9)"
   ]
  },
  {
   "cell_type": "markdown",
   "metadata": {},
   "source": [
    "# [Calcolo della dispersione in pandas\n",
    "](L04-Indici_di_dispersione.ipynb#h-0)"
   ]
  },
  {
   "cell_type": "markdown",
   "metadata": {},
   "source": [
    "## [Indici di dispersione\n",
    "](L04-Indici_di_dispersione.ipynb#h-1)"
   ]
  },
  {
   "cell_type": "markdown",
   "metadata": {},
   "source": [
    "## [Box plot\n",
    "](L04-Indici_di_dispersione.ipynb#h-2)"
   ]
  },
  {
   "cell_type": "markdown",
   "metadata": {},
   "source": [
    "## [Diagrammi Q-Q\n",
    "](L04-Indici_di_dispersione.ipynb#h-3)"
   ]
  },
  {
   "cell_type": "markdown",
   "metadata": {},
   "source": [
    "## [Simmetria, distribuzioni approssimativamente normali e regola empirica\n",
    "](L04-Indici_di_dispersione.ipynb#h-4)"
   ]
  },
  {
   "cell_type": "markdown",
   "metadata": {},
   "source": [
    "## [Una nota sulla produzione dei grafici <sup>*</sup>\n",
    "](L04-Indici_di_dispersione.ipynb#h-5)"
   ]
  },
  {
   "cell_type": "markdown",
   "metadata": {},
   "source": [
    "# [Indici di eterogeneità\n",
    "](L05-Indici_di_eterogeneità.ipynb#h-0)"
   ]
  },
  {
   "cell_type": "markdown",
   "metadata": {},
   "source": [
    "## [Indice di eterogeneità di Gini\n",
    "](L05-Indici_di_eterogeneità.ipynb#h-1)"
   ]
  },
  {
   "cell_type": "markdown",
   "metadata": {},
   "source": [
    "## [Entropia\n",
    "](L05-Indici_di_eterogeneità.ipynb#h-2)"
   ]
  },
  {
   "cell_type": "markdown",
   "metadata": {},
   "source": [
    "## [Alberi di decisione\n",
    "](L05-Indici_di_eterogeneità.ipynb#h-3)"
   ]
  },
  {
   "cell_type": "markdown",
   "metadata": {},
   "source": [
    "## [Indici di concentrazione\n",
    "](L05-Indici_di_eterogeneità.ipynb#h-4)"
   ]
  },
  {
   "cell_type": "markdown",
   "metadata": {},
   "source": [
    "# [Trasformazione dei dati\n",
    "](L06-Trasformazione_dei_dati.ipynb#h-0)"
   ]
  },
  {
   "cell_type": "markdown",
   "metadata": {},
   "source": [
    "## [Trasformazioni lineari\n",
    "](L06-Trasformazione_dei_dati.ipynb#h-1)"
   ]
  },
  {
   "cell_type": "markdown",
   "metadata": {},
   "source": [
    "### [Cambiamento di origine (traslazione)\n",
    "](L06-Trasformazione_dei_dati.ipynb#h-2)"
   ]
  },
  {
   "cell_type": "markdown",
   "metadata": {},
   "source": [
    "### [Cambiamento di scala (dilatazione o contrazione)\n",
    "](L06-Trasformazione_dei_dati.ipynb#h-3)"
   ]
  },
  {
   "cell_type": "markdown",
   "metadata": {},
   "source": [
    "### [Cambiamento di origine e scala\n",
    "](L06-Trasformazione_dei_dati.ipynb#h-4)"
   ]
  },
  {
   "cell_type": "markdown",
   "metadata": {},
   "source": [
    "### [Standardizzazione\n",
    "](L06-Trasformazione_dei_dati.ipynb#h-5)"
   ]
  },
  {
   "cell_type": "markdown",
   "metadata": {},
   "source": [
    "### [Trasformazioni logaritmiche\n",
    "](L06-Trasformazione_dei_dati.ipynb#h-6)"
   ]
  },
  {
   "cell_type": "markdown",
   "metadata": {},
   "source": [
    "# [Analisi della varianza\n",
    "](L07-Analisi_della_varianza.ipynb#h-0)"
   ]
  },
  {
   "cell_type": "markdown",
   "metadata": {},
   "source": [
    "## [Dimostrazione <sup>*</sup>\n",
    "](L07-Analisi_della_varianza.ipynb#h-1)"
   ]
  },
  {
   "cell_type": "markdown",
   "metadata": {},
   "source": [
    "# [Analisi di classificatori\n",
    "](L08-Analisi_di_classificatori.ipynb#h-0)"
   ]
  },
  {
   "cell_type": "markdown",
   "metadata": {},
   "source": [
    "## [Sensibilità e specificità\n",
    "](L08-Analisi_di_classificatori.ipynb#h-1)"
   ]
  },
  {
   "cell_type": "markdown",
   "metadata": {},
   "source": [
    "### [Classificatori costanti\n",
    "](L08-Analisi_di_classificatori.ipynb#h-2)"
   ]
  },
  {
   "cell_type": "markdown",
   "metadata": {},
   "source": [
    "### [Classificatori ideali\n",
    "](L08-Analisi_di_classificatori.ipynb#h-3)"
   ]
  },
  {
   "cell_type": "markdown",
   "metadata": {},
   "source": [
    "### [Classificatori casuali\n",
    "](L08-Analisi_di_classificatori.ipynb#h-4)"
   ]
  },
  {
   "cell_type": "markdown",
   "metadata": {},
   "source": [
    "## [Classificatori a soglia\n",
    "](L08-Analisi_di_classificatori.ipynb#h-5)"
   ]
  },
  {
   "cell_type": "markdown",
   "metadata": {},
   "source": [
    "# [Calcolo combinatorio\n",
    "](L09-Calcolo_combinatorio.ipynb#h-0)"
   ]
  },
  {
   "cell_type": "markdown",
   "metadata": {},
   "source": [
    "## [Principio fondamentale del calcolo combinatorio\n",
    "](L09-Calcolo_combinatorio.ipynb#h-1)"
   ]
  },
  {
   "cell_type": "markdown",
   "metadata": {},
   "source": [
    "## [Permutazioni\n",
    "](L09-Calcolo_combinatorio.ipynb#h-2)"
   ]
  },
  {
   "cell_type": "markdown",
   "metadata": {},
   "source": [
    "### [Permutazioni semplici\n",
    "](L09-Calcolo_combinatorio.ipynb#h-3)"
   ]
  },
  {
   "cell_type": "markdown",
   "metadata": {},
   "source": [
    "### [Permutazioni di oggetti distinguibili a gruppi\n",
    "](L09-Calcolo_combinatorio.ipynb#h-4)"
   ]
  },
  {
   "cell_type": "markdown",
   "metadata": {},
   "source": [
    "## [Disposizioni e combinazioni\n",
    "](L09-Calcolo_combinatorio.ipynb#h-5)"
   ]
  },
  {
   "cell_type": "markdown",
   "metadata": {},
   "source": [
    "## [Esercizi\n",
    "](L09-Calcolo_combinatorio.ipynb#h-6)"
   ]
  },
  {
   "cell_type": "markdown",
   "metadata": {},
   "source": [
    "### [Esercizio 1\n",
    "](L09-Calcolo_combinatorio.ipynb#h-7)"
   ]
  },
  {
   "cell_type": "markdown",
   "metadata": {},
   "source": [
    "### [Esercizio 2\n",
    "](L09-Calcolo_combinatorio.ipynb#h-8)"
   ]
  },
  {
   "cell_type": "markdown",
   "metadata": {},
   "source": [
    "### [Esercizio 3\n",
    "](L09-Calcolo_combinatorio.ipynb#h-9)"
   ]
  },
  {
   "cell_type": "markdown",
   "metadata": {},
   "source": [
    "### [Esercizio 4\n",
    "](L09-Calcolo_combinatorio.ipynb#h-10)"
   ]
  },
  {
   "cell_type": "markdown",
   "metadata": {},
   "source": [
    "### [Esercizio 5\n",
    "](L09-Calcolo_combinatorio.ipynb#h-11)"
   ]
  },
  {
   "cell_type": "markdown",
   "metadata": {},
   "source": [
    "### [Esercizio 6\n",
    "](L09-Calcolo_combinatorio.ipynb#h-12)"
   ]
  },
  {
   "cell_type": "markdown",
   "metadata": {},
   "source": [
    "### [Esercizio 7\n",
    "](L09-Calcolo_combinatorio.ipynb#h-13)"
   ]
  },
  {
   "cell_type": "markdown",
   "metadata": {},
   "source": [
    "## [Generazione di disposizioni, permutazioni e combinazioni\n",
    "](L09-Calcolo_combinatorio.ipynb#h-14)"
   ]
  },
  {
   "cell_type": "markdown",
   "metadata": {},
   "source": [
    "# [Classificatori naive Bayes\n",
    "](L10-Naive_Bayes.ipynb#h-0)"
   ]
  },
  {
   "cell_type": "markdown",
   "metadata": {},
   "source": [
    "# [La distribuzione geometrica\n",
    "](L11-Distribuzione_geometrica.ipynb#h-0)"
   ]
  },
  {
   "cell_type": "markdown",
   "metadata": {},
   "source": [
    "# [Esercitazione di ripasso\n",
    "](L12-Ripasso.ipynb#h-0)"
   ]
  },
  {
   "cell_type": "markdown",
   "metadata": {},
   "source": [
    "## [Dario Malchiodi e Anna Maria Zanaboni\n",
    "](L12-Ripasso.ipynb#h-1)"
   ]
  },
  {
   "cell_type": "markdown",
   "metadata": {},
   "source": [
    "## [8/1/2018\n",
    "](L12-Ripasso.ipynb#h-2)"
   ]
  },
  {
   "cell_type": "markdown",
   "metadata": {},
   "source": [
    "### [Esercizio 1.1\n",
    "](L12-Ripasso.ipynb#h-3)"
   ]
  },
  {
   "cell_type": "markdown",
   "metadata": {},
   "source": [
    "### [Svolgimento\n",
    "](L12-Ripasso.ipynb#h-4)"
   ]
  },
  {
   "cell_type": "markdown",
   "metadata": {},
   "source": [
    "#### [Punto 1\n",
    "](L12-Ripasso.ipynb#h-5)"
   ]
  },
  {
   "cell_type": "markdown",
   "metadata": {},
   "source": [
    "#### [Punto 2\n",
    "](L12-Ripasso.ipynb#h-6)"
   ]
  },
  {
   "cell_type": "markdown",
   "metadata": {},
   "source": [
    "#### [Punto 3\n",
    "](L12-Ripasso.ipynb#h-7)"
   ]
  },
  {
   "cell_type": "markdown",
   "metadata": {},
   "source": [
    "### [Esercizio 1.2\n",
    "](L12-Ripasso.ipynb#h-8)"
   ]
  },
  {
   "cell_type": "markdown",
   "metadata": {},
   "source": [
    "### [Svolgimento\n",
    "](L12-Ripasso.ipynb#h-9)"
   ]
  },
  {
   "cell_type": "markdown",
   "metadata": {},
   "source": [
    "#### [Punto 1\n",
    "](L12-Ripasso.ipynb#h-10)"
   ]
  },
  {
   "cell_type": "markdown",
   "metadata": {},
   "source": [
    "#### [Punto 2\n",
    "](L12-Ripasso.ipynb#h-11)"
   ]
  },
  {
   "cell_type": "markdown",
   "metadata": {},
   "source": [
    "#### [Punto 3\n",
    "](L12-Ripasso.ipynb#h-12)"
   ]
  },
  {
   "cell_type": "markdown",
   "metadata": {},
   "source": [
    "### [Esercizio 1.3\n",
    "](L12-Ripasso.ipynb#h-13)"
   ]
  },
  {
   "cell_type": "markdown",
   "metadata": {},
   "source": [
    "### [Svolgimento\n",
    "](L12-Ripasso.ipynb#h-14)"
   ]
  },
  {
   "cell_type": "markdown",
   "metadata": {},
   "source": [
    "### [Esercizio 2\n",
    "](L12-Ripasso.ipynb#h-15)"
   ]
  },
  {
   "cell_type": "markdown",
   "metadata": {},
   "source": [
    "### [Svolgimento\n",
    "](L12-Ripasso.ipynb#h-16)"
   ]
  },
  {
   "cell_type": "markdown",
   "metadata": {},
   "source": [
    "#### [Punto 1\n",
    "](L12-Ripasso.ipynb#h-17)"
   ]
  },
  {
   "cell_type": "markdown",
   "metadata": {},
   "source": [
    "#### [Punto 2\n",
    "](L12-Ripasso.ipynb#h-18)"
   ]
  },
  {
   "cell_type": "markdown",
   "metadata": {},
   "source": [
    "#### [Punto 3\n",
    "](L12-Ripasso.ipynb#h-19)"
   ]
  },
  {
   "cell_type": "markdown",
   "metadata": {},
   "source": [
    "#### [Punto 4\n",
    "](L12-Ripasso.ipynb#h-20)"
   ]
  },
  {
   "cell_type": "markdown",
   "metadata": {},
   "source": [
    "#### [Punto 5\n",
    "](L12-Ripasso.ipynb#h-21)"
   ]
  },
  {
   "cell_type": "markdown",
   "metadata": {},
   "source": [
    "#### [Punto 6\n",
    "](L12-Ripasso.ipynb#h-22)"
   ]
  },
  {
   "cell_type": "markdown",
   "metadata": {},
   "source": [
    "#### [Punto 7\n",
    "](L12-Ripasso.ipynb#h-23)"
   ]
  },
  {
   "cell_type": "markdown",
   "metadata": {},
   "source": [
    "#### [Punto 8\n",
    "](L12-Ripasso.ipynb#h-24)"
   ]
  },
  {
   "cell_type": "markdown",
   "metadata": {},
   "source": [
    "#### [Punto 9\n",
    "](L12-Ripasso.ipynb#h-25)"
   ]
  },
  {
   "cell_type": "markdown",
   "metadata": {},
   "source": [
    "### [Esercizio 3\n",
    "](L12-Ripasso.ipynb#h-26)"
   ]
  },
  {
   "cell_type": "markdown",
   "metadata": {},
   "source": [
    "### [Svolgimento\n",
    "](L12-Ripasso.ipynb#h-27)"
   ]
  },
  {
   "cell_type": "markdown",
   "metadata": {},
   "source": [
    "#### [Punto 1\n",
    "](L12-Ripasso.ipynb#h-28)"
   ]
  },
  {
   "cell_type": "markdown",
   "metadata": {},
   "source": [
    "#### [Punto 2\n",
    "](L12-Ripasso.ipynb#h-29)"
   ]
  },
  {
   "cell_type": "markdown",
   "metadata": {},
   "source": [
    "#### [Punto 3\n",
    "](L12-Ripasso.ipynb#h-30)"
   ]
  },
  {
   "cell_type": "markdown",
   "metadata": {},
   "source": [
    "#### [Punto 4\n",
    "](L12-Ripasso.ipynb#h-31)"
   ]
  },
  {
   "cell_type": "markdown",
   "metadata": {},
   "source": [
    "#### [Punto 5\n",
    "](L12-Ripasso.ipynb#h-32)"
   ]
  },
  {
   "cell_type": "markdown",
   "metadata": {},
   "source": [
    "#### [Punto 6\n",
    "](L12-Ripasso.ipynb#h-33)"
   ]
  },
  {
   "cell_type": "markdown",
   "metadata": {},
   "source": [
    "#### [Punto 7\n",
    "](L12-Ripasso.ipynb#h-34)"
   ]
  },
  {
   "cell_type": "markdown",
   "metadata": {},
   "source": [
    "#### [Punto 8\n",
    "](L12-Ripasso.ipynb#h-35)"
   ]
  },
  {
   "cell_type": "markdown",
   "metadata": {},
   "source": [
    "#### [Punto 9\n",
    "](L12-Ripasso.ipynb#h-36)"
   ]
  },
  {
   "cell_type": "markdown",
   "metadata": {},
   "source": [
    "#### [Punto 10\n",
    "](L12-Ripasso.ipynb#h-37)"
   ]
  },
  {
   "cell_type": "markdown",
   "metadata": {},
   "source": [
    "#### [Punto 11\n",
    "](L12-Ripasso.ipynb#h-38)"
   ]
  },
  {
   "cell_type": "markdown",
   "metadata": {},
   "source": [
    "#### [Punto 12\n",
    "](L12-Ripasso.ipynb#h-39)"
   ]
  },
  {
   "cell_type": "markdown",
   "metadata": {},
   "source": [
    "#### [Punto 13\n",
    "](L12-Ripasso.ipynb#h-40)"
   ]
  },
  {
   "cell_type": "markdown",
   "metadata": {},
   "source": [
    "### [Esercizio 4\n",
    "](L12-Ripasso.ipynb#h-41)"
   ]
  },
  {
   "cell_type": "markdown",
   "metadata": {},
   "source": [
    "### [Svolgimento\n",
    "](L12-Ripasso.ipynb#h-42)"
   ]
  },
  {
   "cell_type": "markdown",
   "metadata": {},
   "source": [
    "#### [Punto 1\n",
    "](L12-Ripasso.ipynb#h-43)"
   ]
  },
  {
   "cell_type": "markdown",
   "metadata": {},
   "source": [
    "#### [Punto 2\n",
    "](L12-Ripasso.ipynb#h-44)"
   ]
  },
  {
   "cell_type": "markdown",
   "metadata": {},
   "source": [
    "#### [Punto 3\n",
    "](L12-Ripasso.ipynb#h-45)"
   ]
  }
 ],
 "metadata": {
  "kernelspec": {
   "display_name": "Python 3",
   "language": "python",
   "name": "python3"
  },
  "language_info": {
   "codemirror_mode": {
    "name": "ipython",
    "version": 3
   },
   "file_extension": ".py",
   "mimetype": "text/x-python",
   "name": "python",
   "nbconvert_exporter": "python",
   "pygments_lexer": "ipython3",
   "version": "3.7.3"
  }
 },
 "nbformat": 4,
 "nbformat_minor": 2
}
